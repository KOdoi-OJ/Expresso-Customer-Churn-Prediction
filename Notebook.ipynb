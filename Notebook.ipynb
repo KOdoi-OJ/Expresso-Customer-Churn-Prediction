{
  "cells": [
    {
      "cell_type": "markdown",
      "metadata": {
        "id": "qS3XNbNiBT8X"
      },
      "source": [
        "# Expresso Customer Churn Prediction"
      ]
    },
    {
      "cell_type": "markdown",
      "metadata": {
        "id": "S5phpDJYBT8c"
      },
      "source": [
        "### 1.1 Business Understanding / Project Objective"
      ]
    },
    {
      "cell_type": "markdown",
      "metadata": {
        "id": "eTjjYUZ2BT8c"
      },
      "source": [
        "Per [Paddle](https://www.paddle.com/resources/customer-attrition#:~:text=Customer%20attrition%20is%20defined%20as,of%20business%20health%20over%20time.), customer churn may be defined as the loss of customers by a business. Despite being a normal part of the customer cycle, it is viewed as a key indicator of business health over time and must be managed to ensure some stability in the business' survival, (retention) strategy development, and/or growth. \n",
        "\n",
        "It is also known as customer attrition or customer turnover, and is calculated as the percentage of customers that stopped using a company's product or service within a specified timeframe. To better manage customer churn, companies should be able to predict it with reasonable accuracy, and that is where machine learning comes in.\n",
        "\n",
        "This project is focused on Vodafone - a telecommunications company - and  aims to predict the likelihood that a customer will churn by identifying and modelling based on the key indicators of churn. Possible strategies that may be explored and implemented to improve retention (or reduce churn) may be recommended in this project."
      ]
    },
    {
      "cell_type": "markdown",
      "metadata": {
        "id": "R-YnDo_8BT8d"
      },
      "source": [
        "### 1.2 Data Understanding"
      ]
    },
    {
      "cell_type": "markdown",
      "metadata": {
        "id": "MeYW0TkxBT8e"
      },
      "source": [
        "The dataset contains information about the location of clients, the services that they use, the regularity of service use, and their churn status. The columns in the dataset are described below:\n",
        "\n",
        "- **user_id**: user ID\n",
        "- **REGION**: the location of each client\n",
        "- **TENURE**: duration in the network\n",
        "- **MONTANT**: top-up amount\n",
        "- **FREQUENCE_RECH**: number of times the client recharged\n",
        "- **REVENUE**: monthly income of each client\n",
        "- **ARPU_SEGMENT**: income over 90 days / 3\n",
        "- **FREQUENCE**: number of times the client has made an income\n",
        "- **DATA_VOLUME**: number of connections\n",
        "- **ON_NET**: inter expresso call\n",
        "- **ORANGE**: calls to orange\n",
        "- **TIGO**: calls to Tigo\n",
        "- **ZONE1**: calls to zones1\n",
        "- **ZONE2**: calls to zones2\n",
        "- **MRG**: a client who is going\n",
        "- **REGULARITY**: number of times the client is active for 90 days\n",
        "- **TOP_PACK**: the most active packs\n",
        "- **FREQ_TOP_PACK**: number of times the client has activated the top pack packages\n",
        "- **CHURN**: variable to predict - Target\n"
      ]
    },
    {
      "cell_type": "markdown",
      "metadata": {
        "id": "_vwi4vQKBT8f"
      },
      "source": [
        "## 2.0 Hypotheses and Questions"
      ]
    },
    {
      "cell_type": "markdown",
      "metadata": {
        "id": "ACCIuenrBT8g"
      },
      "source": [
        "## 3.0 Toolbox Loading"
      ]
    },
    {
      "cell_type": "code",
      "execution_count": null,
      "metadata": {
        "colab": {
          "base_uri": "https://localhost:8080/"
        },
        "id": "uvLlGtn4BT8g",
        "outputId": "e09a5b4e-ff49-46a0-db64-8df9ac5a5f75",
        "scrolled": true
      },
      "outputs": [
        {
          "output_type": "stream",
          "name": "stdout",
          "text": [
            "Loading complete. Warnings hidden.\n"
          ]
        }
      ],
      "source": [
        "# Zindi Data Access\n",
        "import requests\n",
        "from tqdm.auto import tqdm\n",
        "\n",
        "# Data Manipulation\n",
        "import numpy as np\n",
        "import pandas as pd\n",
        "import re\n",
        "import pickle\n",
        "\n",
        "# Visualization\n",
        "import matplotlib.pyplot as plt\n",
        "import plotly.express as px\n",
        "import seaborn as sns\n",
        "\n",
        "# Warnings\n",
        "import warnings\n",
        "warnings.filterwarnings(\"ignore\")  # Hiding the warnings\n",
        "\n",
        "# Feature Engineering\n",
        "from imblearn.over_sampling import SMOTE\n",
        "from sklearn.ensemble import ExtraTreesClassifier\n",
        "from sklearn.feature_selection import SelectKBest, chi2\n",
        "from sklearn.model_selection import *\n",
        "from sklearn.preprocessing import MinMaxScaler,StandardScaler, OneHotEncoder, LabelEncoder\n",
        "\n",
        "# Models\n",
        "from sklearn.ensemble import RandomForestClassifier\n",
        "from sklearn.linear_model import LogisticRegression\n",
        "from sklearn.tree import DecisionTreeClassifier\n",
        "!pip install catboost --q\n",
        "from catboost import CatBoostClassifier\n",
        "import lightgbm as lgb\n",
        "import xgboost as xgb\n",
        "from xgboost import *\n",
        "\n",
        "# Model evaluation\n",
        "from sklearn import metrics\n",
        "from sklearn.metrics import *\n",
        "\n",
        "print(\"Loading complete.\", \"Warnings hidden.\")"
      ]
    },
    {
      "cell_type": "code",
      "execution_count": null,
      "metadata": {
        "id": "_tdbZRilBT8i"
      },
      "outputs": [],
      "source": [
        "# Set some display options\n",
        "## Removing the restriction on columns to display\n",
        "pd.set_option(\"display.max_columns\", None)\n",
        "\n",
        "## Set display of floats to 5 decimal places\n",
        "pd.set_option('display.float_format', lambda x: '%.5f' % x)"
      ]
    },
    {
      "cell_type": "markdown",
      "metadata": {
        "id": "25rcZn7XBT8i"
      },
      "source": [
        "## 4.0 Data Exploration"
      ]
    },
    {
      "cell_type": "code",
      "execution_count": null,
      "metadata": {
        "id": "WTzUL75CBwU5"
      },
      "outputs": [],
      "source": [
        "# Data url and token\n",
        "data_url = \"https://api.zindi.africa/v1/competitions/customer-churn-prediction-challenge-for-azubian/files/Train.csv\"\n",
        "token = {'auth_token': 'ehYe68DnzGrWLBm5DY3dMqap'}"
      ]
    },
    {
      "cell_type": "code",
      "execution_count": null,
      "metadata": {
        "id": "rF8T9VqhB9Ko"
      },
      "outputs": [],
      "source": [
        "# Function to download data\n",
        "def zindi_data_downloader(url, token, file_name):\n",
        "    # Get the competition data\n",
        "    competition_data = requests.post(url = data_url, data= token, stream=True)\n",
        "    \n",
        "    # Progress bar monitor download\n",
        "    pbar = tqdm(desc=file_name, total=int(competition_data.headers.get('content-length', 0)), unit='B', unit_scale=True, unit_divisor=512)\n",
        "    # Create and Write the data to colab drive in chunks\n",
        "    handle = open(file_name, \"wb\")\n",
        "    for chunk in competition_data.iter_content(chunk_size=512): # Download the data in chunks\n",
        "        if chunk: # filter out keep-alive new chunks\n",
        "                handle.write(chunk)\n",
        "        pbar.update(len(chunk))\n",
        "    handle.close()\n",
        "    pbar.close()"
      ]
    },
    {
      "cell_type": "code",
      "execution_count": null,
      "metadata": {
        "colab": {
          "base_uri": "https://localhost:8080/",
          "height": 406,
          "referenced_widgets": [
            "0060cc0a2d5447189cb2d06c530a60ba",
            "247ec6738cbc408cb59d28036941e516",
            "1f3f4cde789d49f492e8ca508075f53f",
            "1bb958c211ec479db5556eb21e420ccd",
            "dd68dcfabc0443739addb02ad1b5ecc0",
            "116b88bbb2d8498691d1ee1fd146a6a1",
            "0cfd0ce21f42405894e546d840974c41",
            "824eb93572a74caf85f3d70e575ece2e",
            "5de4d3699aa44f69a7a83df4f7924d1e",
            "95d1546b2f314ee1b8399298548e8e90",
            "f78de84a9dcb4c4c99303afa3bc456d8"
          ]
        },
        "id": "IkOxvBcyBT8i",
        "outputId": "92817e24-cdeb-45d1-9020-26f2732cfd19",
        "scrolled": false
      },
      "outputs": [
        {
          "output_type": "display_data",
          "data": {
            "text/plain": [
              "Train.csv:   0%|          | 0.00/494M [00:00<?, ?B/s]"
            ],
            "application/vnd.jupyter.widget-view+json": {
              "version_major": 2,
              "version_minor": 0,
              "model_id": "0060cc0a2d5447189cb2d06c530a60ba"
            }
          },
          "metadata": {}
        },
        {
          "output_type": "execute_result",
          "data": {
            "text/plain": [
              "                                    user_id       REGION        TENURE  \\\n",
              "0  7ee9e11e342e27c70455960acc80d3f91c1286d1        DAKAR  K > 24 month   \n",
              "1  50443f42bdc92b10388fc56e520e4421a5fa655c          NaN  K > 24 month   \n",
              "2  da90b5c1a9b204c186079f89969aa01cb03c91b2          NaN  K > 24 month   \n",
              "3  364ec1b424cdc64c25441a444a16930289a0051e  SAINT-LOUIS  K > 24 month   \n",
              "4  d5a5247005bc6d41d3d99f4ef312ebb5f640f2cb        DAKAR  K > 24 month   \n",
              "\n",
              "      MONTANT  FREQUENCE_RECH     REVENUE  ARPU_SEGMENT  FREQUENCE  \\\n",
              "0 20000.00000        47.00000 21602.00000    7201.00000   52.00000   \n",
              "1         NaN             NaN         NaN           NaN        NaN   \n",
              "2         NaN             NaN         NaN           NaN        NaN   \n",
              "3  7900.00000        19.00000  7896.00000    2632.00000   25.00000   \n",
              "4 12350.00000        21.00000 12351.00000    4117.00000   29.00000   \n",
              "\n",
              "   DATA_VOLUME     ON_NET    ORANGE      TIGO  ZONE1   ZONE2 MRG  REGULARITY  \\\n",
              "0   8835.00000 3391.00000 396.00000 185.00000    NaN     NaN  NO          62   \n",
              "1          NaN        NaN       NaN       NaN    NaN     NaN  NO           3   \n",
              "2          NaN        NaN       NaN       NaN    NaN     NaN  NO           1   \n",
              "3   9385.00000   27.00000  46.00000  20.00000    NaN 2.00000  NO          61   \n",
              "4   9360.00000   66.00000 102.00000  34.00000    NaN     NaN  NO          56   \n",
              "\n",
              "                         TOP_PACK  FREQ_TOP_PACK  CHURN  \n",
              "0  On net 200F=Unlimited _call24H       30.00000      0  \n",
              "1                             NaN            NaN      0  \n",
              "2                             NaN            NaN      0  \n",
              "3                Data:490F=1GB,7d        7.00000      0  \n",
              "4           All-net 500F=2000F;5d       11.00000      0  "
            ],
            "text/html": [
              "\n",
              "  <div id=\"df-3a96e4ae-caae-4089-b107-30255666517a\">\n",
              "    <div class=\"colab-df-container\">\n",
              "      <div>\n",
              "<style scoped>\n",
              "    .dataframe tbody tr th:only-of-type {\n",
              "        vertical-align: middle;\n",
              "    }\n",
              "\n",
              "    .dataframe tbody tr th {\n",
              "        vertical-align: top;\n",
              "    }\n",
              "\n",
              "    .dataframe thead th {\n",
              "        text-align: right;\n",
              "    }\n",
              "</style>\n",
              "<table border=\"1\" class=\"dataframe\">\n",
              "  <thead>\n",
              "    <tr style=\"text-align: right;\">\n",
              "      <th></th>\n",
              "      <th>user_id</th>\n",
              "      <th>REGION</th>\n",
              "      <th>TENURE</th>\n",
              "      <th>MONTANT</th>\n",
              "      <th>FREQUENCE_RECH</th>\n",
              "      <th>REVENUE</th>\n",
              "      <th>ARPU_SEGMENT</th>\n",
              "      <th>FREQUENCE</th>\n",
              "      <th>DATA_VOLUME</th>\n",
              "      <th>ON_NET</th>\n",
              "      <th>ORANGE</th>\n",
              "      <th>TIGO</th>\n",
              "      <th>ZONE1</th>\n",
              "      <th>ZONE2</th>\n",
              "      <th>MRG</th>\n",
              "      <th>REGULARITY</th>\n",
              "      <th>TOP_PACK</th>\n",
              "      <th>FREQ_TOP_PACK</th>\n",
              "      <th>CHURN</th>\n",
              "    </tr>\n",
              "  </thead>\n",
              "  <tbody>\n",
              "    <tr>\n",
              "      <th>0</th>\n",
              "      <td>7ee9e11e342e27c70455960acc80d3f91c1286d1</td>\n",
              "      <td>DAKAR</td>\n",
              "      <td>K &gt; 24 month</td>\n",
              "      <td>20000.00000</td>\n",
              "      <td>47.00000</td>\n",
              "      <td>21602.00000</td>\n",
              "      <td>7201.00000</td>\n",
              "      <td>52.00000</td>\n",
              "      <td>8835.00000</td>\n",
              "      <td>3391.00000</td>\n",
              "      <td>396.00000</td>\n",
              "      <td>185.00000</td>\n",
              "      <td>NaN</td>\n",
              "      <td>NaN</td>\n",
              "      <td>NO</td>\n",
              "      <td>62</td>\n",
              "      <td>On net 200F=Unlimited _call24H</td>\n",
              "      <td>30.00000</td>\n",
              "      <td>0</td>\n",
              "    </tr>\n",
              "    <tr>\n",
              "      <th>1</th>\n",
              "      <td>50443f42bdc92b10388fc56e520e4421a5fa655c</td>\n",
              "      <td>NaN</td>\n",
              "      <td>K &gt; 24 month</td>\n",
              "      <td>NaN</td>\n",
              "      <td>NaN</td>\n",
              "      <td>NaN</td>\n",
              "      <td>NaN</td>\n",
              "      <td>NaN</td>\n",
              "      <td>NaN</td>\n",
              "      <td>NaN</td>\n",
              "      <td>NaN</td>\n",
              "      <td>NaN</td>\n",
              "      <td>NaN</td>\n",
              "      <td>NaN</td>\n",
              "      <td>NO</td>\n",
              "      <td>3</td>\n",
              "      <td>NaN</td>\n",
              "      <td>NaN</td>\n",
              "      <td>0</td>\n",
              "    </tr>\n",
              "    <tr>\n",
              "      <th>2</th>\n",
              "      <td>da90b5c1a9b204c186079f89969aa01cb03c91b2</td>\n",
              "      <td>NaN</td>\n",
              "      <td>K &gt; 24 month</td>\n",
              "      <td>NaN</td>\n",
              "      <td>NaN</td>\n",
              "      <td>NaN</td>\n",
              "      <td>NaN</td>\n",
              "      <td>NaN</td>\n",
              "      <td>NaN</td>\n",
              "      <td>NaN</td>\n",
              "      <td>NaN</td>\n",
              "      <td>NaN</td>\n",
              "      <td>NaN</td>\n",
              "      <td>NaN</td>\n",
              "      <td>NO</td>\n",
              "      <td>1</td>\n",
              "      <td>NaN</td>\n",
              "      <td>NaN</td>\n",
              "      <td>0</td>\n",
              "    </tr>\n",
              "    <tr>\n",
              "      <th>3</th>\n",
              "      <td>364ec1b424cdc64c25441a444a16930289a0051e</td>\n",
              "      <td>SAINT-LOUIS</td>\n",
              "      <td>K &gt; 24 month</td>\n",
              "      <td>7900.00000</td>\n",
              "      <td>19.00000</td>\n",
              "      <td>7896.00000</td>\n",
              "      <td>2632.00000</td>\n",
              "      <td>25.00000</td>\n",
              "      <td>9385.00000</td>\n",
              "      <td>27.00000</td>\n",
              "      <td>46.00000</td>\n",
              "      <td>20.00000</td>\n",
              "      <td>NaN</td>\n",
              "      <td>2.00000</td>\n",
              "      <td>NO</td>\n",
              "      <td>61</td>\n",
              "      <td>Data:490F=1GB,7d</td>\n",
              "      <td>7.00000</td>\n",
              "      <td>0</td>\n",
              "    </tr>\n",
              "    <tr>\n",
              "      <th>4</th>\n",
              "      <td>d5a5247005bc6d41d3d99f4ef312ebb5f640f2cb</td>\n",
              "      <td>DAKAR</td>\n",
              "      <td>K &gt; 24 month</td>\n",
              "      <td>12350.00000</td>\n",
              "      <td>21.00000</td>\n",
              "      <td>12351.00000</td>\n",
              "      <td>4117.00000</td>\n",
              "      <td>29.00000</td>\n",
              "      <td>9360.00000</td>\n",
              "      <td>66.00000</td>\n",
              "      <td>102.00000</td>\n",
              "      <td>34.00000</td>\n",
              "      <td>NaN</td>\n",
              "      <td>NaN</td>\n",
              "      <td>NO</td>\n",
              "      <td>56</td>\n",
              "      <td>All-net 500F=2000F;5d</td>\n",
              "      <td>11.00000</td>\n",
              "      <td>0</td>\n",
              "    </tr>\n",
              "  </tbody>\n",
              "</table>\n",
              "</div>\n",
              "      <button class=\"colab-df-convert\" onclick=\"convertToInteractive('df-3a96e4ae-caae-4089-b107-30255666517a')\"\n",
              "              title=\"Convert this dataframe to an interactive table.\"\n",
              "              style=\"display:none;\">\n",
              "        \n",
              "  <svg xmlns=\"http://www.w3.org/2000/svg\" height=\"24px\"viewBox=\"0 0 24 24\"\n",
              "       width=\"24px\">\n",
              "    <path d=\"M0 0h24v24H0V0z\" fill=\"none\"/>\n",
              "    <path d=\"M18.56 5.44l.94 2.06.94-2.06 2.06-.94-2.06-.94-.94-2.06-.94 2.06-2.06.94zm-11 1L8.5 8.5l.94-2.06 2.06-.94-2.06-.94L8.5 2.5l-.94 2.06-2.06.94zm10 10l.94 2.06.94-2.06 2.06-.94-2.06-.94-.94-2.06-.94 2.06-2.06.94z\"/><path d=\"M17.41 7.96l-1.37-1.37c-.4-.4-.92-.59-1.43-.59-.52 0-1.04.2-1.43.59L10.3 9.45l-7.72 7.72c-.78.78-.78 2.05 0 2.83L4 21.41c.39.39.9.59 1.41.59.51 0 1.02-.2 1.41-.59l7.78-7.78 2.81-2.81c.8-.78.8-2.07 0-2.86zM5.41 20L4 18.59l7.72-7.72 1.47 1.35L5.41 20z\"/>\n",
              "  </svg>\n",
              "      </button>\n",
              "      \n",
              "  <style>\n",
              "    .colab-df-container {\n",
              "      display:flex;\n",
              "      flex-wrap:wrap;\n",
              "      gap: 12px;\n",
              "    }\n",
              "\n",
              "    .colab-df-convert {\n",
              "      background-color: #E8F0FE;\n",
              "      border: none;\n",
              "      border-radius: 50%;\n",
              "      cursor: pointer;\n",
              "      display: none;\n",
              "      fill: #1967D2;\n",
              "      height: 32px;\n",
              "      padding: 0 0 0 0;\n",
              "      width: 32px;\n",
              "    }\n",
              "\n",
              "    .colab-df-convert:hover {\n",
              "      background-color: #E2EBFA;\n",
              "      box-shadow: 0px 1px 2px rgba(60, 64, 67, 0.3), 0px 1px 3px 1px rgba(60, 64, 67, 0.15);\n",
              "      fill: #174EA6;\n",
              "    }\n",
              "\n",
              "    [theme=dark] .colab-df-convert {\n",
              "      background-color: #3B4455;\n",
              "      fill: #D2E3FC;\n",
              "    }\n",
              "\n",
              "    [theme=dark] .colab-df-convert:hover {\n",
              "      background-color: #434B5C;\n",
              "      box-shadow: 0px 1px 3px 1px rgba(0, 0, 0, 0.15);\n",
              "      filter: drop-shadow(0px 1px 2px rgba(0, 0, 0, 0.3));\n",
              "      fill: #FFFFFF;\n",
              "    }\n",
              "  </style>\n",
              "\n",
              "      <script>\n",
              "        const buttonEl =\n",
              "          document.querySelector('#df-3a96e4ae-caae-4089-b107-30255666517a button.colab-df-convert');\n",
              "        buttonEl.style.display =\n",
              "          google.colab.kernel.accessAllowed ? 'block' : 'none';\n",
              "\n",
              "        async function convertToInteractive(key) {\n",
              "          const element = document.querySelector('#df-3a96e4ae-caae-4089-b107-30255666517a');\n",
              "          const dataTable =\n",
              "            await google.colab.kernel.invokeFunction('convertToInteractive',\n",
              "                                                     [key], {});\n",
              "          if (!dataTable) return;\n",
              "\n",
              "          const docLinkHtml = 'Like what you see? Visit the ' +\n",
              "            '<a target=\"_blank\" href=https://colab.research.google.com/notebooks/data_table.ipynb>data table notebook</a>'\n",
              "            + ' to learn more about interactive tables.';\n",
              "          element.innerHTML = '';\n",
              "          dataTable['output_type'] = 'display_data';\n",
              "          await google.colab.output.renderOutput(dataTable, element);\n",
              "          const docLink = document.createElement('div');\n",
              "          docLink.innerHTML = docLinkHtml;\n",
              "          element.appendChild(docLink);\n",
              "        }\n",
              "      </script>\n",
              "    </div>\n",
              "  </div>\n",
              "  "
            ]
          },
          "metadata": {},
          "execution_count": 5
        }
      ],
      "source": [
        "# Download the data\n",
        "zindi_data_downloader(url = data_url, token = token, file_name = \"Train.csv\")\n",
        "\n",
        "# Loading the data\n",
        "dataset = pd.read_csv(\"Train.csv\")\n",
        "dataset.head()"
      ]
    },
    {
      "cell_type": "code",
      "source": [
        "# Check the shape of the training data\n",
        "dataset.shape"
      ],
      "metadata": {
        "colab": {
          "base_uri": "https://localhost:8080/"
        },
        "id": "G2syWZWADs5o",
        "outputId": "8a06b97b-5947-48aa-b4f2-e19e78d38ec5"
      },
      "execution_count": null,
      "outputs": [
        {
          "output_type": "execute_result",
          "data": {
            "text/plain": [
              "(1077024, 19)"
            ]
          },
          "metadata": {},
          "execution_count": 6
        }
      ]
    },
    {
      "cell_type": "code",
      "execution_count": null,
      "metadata": {
        "colab": {
          "base_uri": "https://localhost:8080/"
        },
        "id": "f4fvTiBdBT8i",
        "outputId": "71810276-e8e3-474f-d6ab-36b0dd848e85"
      },
      "outputs": [
        {
          "output_type": "stream",
          "name": "stdout",
          "text": [
            "<class 'pandas.core.frame.DataFrame'>\n",
            "RangeIndex: 1077024 entries, 0 to 1077023\n",
            "Data columns (total 19 columns):\n",
            " #   Column          Non-Null Count    Dtype  \n",
            "---  ------          --------------    -----  \n",
            " 0   user_id         1077024 non-null  object \n",
            " 1   REGION          652687 non-null   object \n",
            " 2   TENURE          1077024 non-null  object \n",
            " 3   MONTANT         699139 non-null   float64\n",
            " 4   FREQUENCE_RECH  699139 non-null   float64\n",
            " 5   REVENUE         714669 non-null   float64\n",
            " 6   ARPU_SEGMENT    714669 non-null   float64\n",
            " 7   FREQUENCE       714669 non-null   float64\n",
            " 8   DATA_VOLUME     547261 non-null   float64\n",
            " 9   ON_NET          683850 non-null   float64\n",
            " 10  ORANGE          629880 non-null   float64\n",
            " 11  TIGO            432250 non-null   float64\n",
            " 12  ZONE1           84898 non-null    float64\n",
            " 13  ZONE2           68794 non-null    float64\n",
            " 14  MRG             1077024 non-null  object \n",
            " 15  REGULARITY      1077024 non-null  int64  \n",
            " 16  TOP_PACK        626129 non-null   object \n",
            " 17  FREQ_TOP_PACK   626129 non-null   float64\n",
            " 18  CHURN           1077024 non-null  int64  \n",
            "dtypes: float64(12), int64(2), object(5)\n",
            "memory usage: 156.1+ MB\n"
          ]
        }
      ],
      "source": [
        "# Looking at information about the columns\n",
        "dataset.info()"
      ]
    },
    {
      "cell_type": "code",
      "execution_count": null,
      "metadata": {
        "id": "uRscrT3bBT8i"
      },
      "outputs": [],
      "source": [
        "# Cast all column names to lowercase\n",
        "dataset.columns = dataset.columns.str.lower()"
      ]
    },
    {
      "cell_type": "code",
      "source": [
        "# Get the percentages of missing values\n",
        "percent_missing = dataset.isnull().sum() * 100 / len(dataset)\n",
        "missing_value_df = pd.DataFrame({\"percent_missing\": percent_missing})\n",
        "missing_value_df.sort_values(\"percent_missing\", inplace=True)\n",
        "missing_value_df"
      ],
      "metadata": {
        "colab": {
          "base_uri": "https://localhost:8080/",
          "height": 645
        },
        "id": "i27J2FZNHagW",
        "outputId": "9a646adf-61db-4cc4-a7c6-6f19dd4b197e"
      },
      "execution_count": null,
      "outputs": [
        {
          "output_type": "execute_result",
          "data": {
            "text/plain": [
              "                percent_missing\n",
              "user_id                 0.00000\n",
              "regularity              0.00000\n",
              "mrg                     0.00000\n",
              "churn                   0.00000\n",
              "tenure                  0.00000\n",
              "revenue                33.64410\n",
              "arpu_segment           33.64410\n",
              "frequence              33.64410\n",
              "frequence_rech         35.08603\n",
              "montant                35.08603\n",
              "on_net                 36.50559\n",
              "region                 39.39903\n",
              "orange                 41.51662\n",
              "freq_top_pack          41.86490\n",
              "top_pack               41.86490\n",
              "data_volume            49.18767\n",
              "tigo                   59.86626\n",
              "zone1                  92.11735\n",
              "zone2                  93.61258"
            ],
            "text/html": [
              "\n",
              "  <div id=\"df-c36df80d-37f4-4c0e-bb0e-7e1fe15d34ec\">\n",
              "    <div class=\"colab-df-container\">\n",
              "      <div>\n",
              "<style scoped>\n",
              "    .dataframe tbody tr th:only-of-type {\n",
              "        vertical-align: middle;\n",
              "    }\n",
              "\n",
              "    .dataframe tbody tr th {\n",
              "        vertical-align: top;\n",
              "    }\n",
              "\n",
              "    .dataframe thead th {\n",
              "        text-align: right;\n",
              "    }\n",
              "</style>\n",
              "<table border=\"1\" class=\"dataframe\">\n",
              "  <thead>\n",
              "    <tr style=\"text-align: right;\">\n",
              "      <th></th>\n",
              "      <th>percent_missing</th>\n",
              "    </tr>\n",
              "  </thead>\n",
              "  <tbody>\n",
              "    <tr>\n",
              "      <th>user_id</th>\n",
              "      <td>0.00000</td>\n",
              "    </tr>\n",
              "    <tr>\n",
              "      <th>regularity</th>\n",
              "      <td>0.00000</td>\n",
              "    </tr>\n",
              "    <tr>\n",
              "      <th>mrg</th>\n",
              "      <td>0.00000</td>\n",
              "    </tr>\n",
              "    <tr>\n",
              "      <th>churn</th>\n",
              "      <td>0.00000</td>\n",
              "    </tr>\n",
              "    <tr>\n",
              "      <th>tenure</th>\n",
              "      <td>0.00000</td>\n",
              "    </tr>\n",
              "    <tr>\n",
              "      <th>revenue</th>\n",
              "      <td>33.64410</td>\n",
              "    </tr>\n",
              "    <tr>\n",
              "      <th>arpu_segment</th>\n",
              "      <td>33.64410</td>\n",
              "    </tr>\n",
              "    <tr>\n",
              "      <th>frequence</th>\n",
              "      <td>33.64410</td>\n",
              "    </tr>\n",
              "    <tr>\n",
              "      <th>frequence_rech</th>\n",
              "      <td>35.08603</td>\n",
              "    </tr>\n",
              "    <tr>\n",
              "      <th>montant</th>\n",
              "      <td>35.08603</td>\n",
              "    </tr>\n",
              "    <tr>\n",
              "      <th>on_net</th>\n",
              "      <td>36.50559</td>\n",
              "    </tr>\n",
              "    <tr>\n",
              "      <th>region</th>\n",
              "      <td>39.39903</td>\n",
              "    </tr>\n",
              "    <tr>\n",
              "      <th>orange</th>\n",
              "      <td>41.51662</td>\n",
              "    </tr>\n",
              "    <tr>\n",
              "      <th>freq_top_pack</th>\n",
              "      <td>41.86490</td>\n",
              "    </tr>\n",
              "    <tr>\n",
              "      <th>top_pack</th>\n",
              "      <td>41.86490</td>\n",
              "    </tr>\n",
              "    <tr>\n",
              "      <th>data_volume</th>\n",
              "      <td>49.18767</td>\n",
              "    </tr>\n",
              "    <tr>\n",
              "      <th>tigo</th>\n",
              "      <td>59.86626</td>\n",
              "    </tr>\n",
              "    <tr>\n",
              "      <th>zone1</th>\n",
              "      <td>92.11735</td>\n",
              "    </tr>\n",
              "    <tr>\n",
              "      <th>zone2</th>\n",
              "      <td>93.61258</td>\n",
              "    </tr>\n",
              "  </tbody>\n",
              "</table>\n",
              "</div>\n",
              "      <button class=\"colab-df-convert\" onclick=\"convertToInteractive('df-c36df80d-37f4-4c0e-bb0e-7e1fe15d34ec')\"\n",
              "              title=\"Convert this dataframe to an interactive table.\"\n",
              "              style=\"display:none;\">\n",
              "        \n",
              "  <svg xmlns=\"http://www.w3.org/2000/svg\" height=\"24px\"viewBox=\"0 0 24 24\"\n",
              "       width=\"24px\">\n",
              "    <path d=\"M0 0h24v24H0V0z\" fill=\"none\"/>\n",
              "    <path d=\"M18.56 5.44l.94 2.06.94-2.06 2.06-.94-2.06-.94-.94-2.06-.94 2.06-2.06.94zm-11 1L8.5 8.5l.94-2.06 2.06-.94-2.06-.94L8.5 2.5l-.94 2.06-2.06.94zm10 10l.94 2.06.94-2.06 2.06-.94-2.06-.94-.94-2.06-.94 2.06-2.06.94z\"/><path d=\"M17.41 7.96l-1.37-1.37c-.4-.4-.92-.59-1.43-.59-.52 0-1.04.2-1.43.59L10.3 9.45l-7.72 7.72c-.78.78-.78 2.05 0 2.83L4 21.41c.39.39.9.59 1.41.59.51 0 1.02-.2 1.41-.59l7.78-7.78 2.81-2.81c.8-.78.8-2.07 0-2.86zM5.41 20L4 18.59l7.72-7.72 1.47 1.35L5.41 20z\"/>\n",
              "  </svg>\n",
              "      </button>\n",
              "      \n",
              "  <style>\n",
              "    .colab-df-container {\n",
              "      display:flex;\n",
              "      flex-wrap:wrap;\n",
              "      gap: 12px;\n",
              "    }\n",
              "\n",
              "    .colab-df-convert {\n",
              "      background-color: #E8F0FE;\n",
              "      border: none;\n",
              "      border-radius: 50%;\n",
              "      cursor: pointer;\n",
              "      display: none;\n",
              "      fill: #1967D2;\n",
              "      height: 32px;\n",
              "      padding: 0 0 0 0;\n",
              "      width: 32px;\n",
              "    }\n",
              "\n",
              "    .colab-df-convert:hover {\n",
              "      background-color: #E2EBFA;\n",
              "      box-shadow: 0px 1px 2px rgba(60, 64, 67, 0.3), 0px 1px 3px 1px rgba(60, 64, 67, 0.15);\n",
              "      fill: #174EA6;\n",
              "    }\n",
              "\n",
              "    [theme=dark] .colab-df-convert {\n",
              "      background-color: #3B4455;\n",
              "      fill: #D2E3FC;\n",
              "    }\n",
              "\n",
              "    [theme=dark] .colab-df-convert:hover {\n",
              "      background-color: #434B5C;\n",
              "      box-shadow: 0px 1px 3px 1px rgba(0, 0, 0, 0.15);\n",
              "      filter: drop-shadow(0px 1px 2px rgba(0, 0, 0, 0.3));\n",
              "      fill: #FFFFFF;\n",
              "    }\n",
              "  </style>\n",
              "\n",
              "      <script>\n",
              "        const buttonEl =\n",
              "          document.querySelector('#df-c36df80d-37f4-4c0e-bb0e-7e1fe15d34ec button.colab-df-convert');\n",
              "        buttonEl.style.display =\n",
              "          google.colab.kernel.accessAllowed ? 'block' : 'none';\n",
              "\n",
              "        async function convertToInteractive(key) {\n",
              "          const element = document.querySelector('#df-c36df80d-37f4-4c0e-bb0e-7e1fe15d34ec');\n",
              "          const dataTable =\n",
              "            await google.colab.kernel.invokeFunction('convertToInteractive',\n",
              "                                                     [key], {});\n",
              "          if (!dataTable) return;\n",
              "\n",
              "          const docLinkHtml = 'Like what you see? Visit the ' +\n",
              "            '<a target=\"_blank\" href=https://colab.research.google.com/notebooks/data_table.ipynb>data table notebook</a>'\n",
              "            + ' to learn more about interactive tables.';\n",
              "          element.innerHTML = '';\n",
              "          dataTable['output_type'] = 'display_data';\n",
              "          await google.colab.output.renderOutput(dataTable, element);\n",
              "          const docLink = document.createElement('div');\n",
              "          docLink.innerHTML = docLinkHtml;\n",
              "          element.appendChild(docLink);\n",
              "        }\n",
              "      </script>\n",
              "    </div>\n",
              "  </div>\n",
              "  "
            ]
          },
          "metadata": {},
          "execution_count": 9
        }
      ]
    },
    {
      "cell_type": "code",
      "execution_count": null,
      "metadata": {
        "colab": {
          "base_uri": "https://localhost:8080/",
          "height": 49
        },
        "id": "EzhVy61VBT8j",
        "outputId": "c9fcf455-9ad6-41af-b877-b38a87c37fd8"
      },
      "outputs": [
        {
          "output_type": "execute_result",
          "data": {
            "text/plain": [
              "Empty DataFrame\n",
              "Columns: [user_id, region, tenure, montant, frequence_rech, revenue, arpu_segment, frequence, data_volume, on_net, orange, tigo, zone1, zone2, mrg, regularity, top_pack, freq_top_pack, churn]\n",
              "Index: []"
            ],
            "text/html": [
              "\n",
              "  <div id=\"df-6552f68d-e471-402d-8fc9-11f8690fde8d\">\n",
              "    <div class=\"colab-df-container\">\n",
              "      <div>\n",
              "<style scoped>\n",
              "    .dataframe tbody tr th:only-of-type {\n",
              "        vertical-align: middle;\n",
              "    }\n",
              "\n",
              "    .dataframe tbody tr th {\n",
              "        vertical-align: top;\n",
              "    }\n",
              "\n",
              "    .dataframe thead th {\n",
              "        text-align: right;\n",
              "    }\n",
              "</style>\n",
              "<table border=\"1\" class=\"dataframe\">\n",
              "  <thead>\n",
              "    <tr style=\"text-align: right;\">\n",
              "      <th></th>\n",
              "      <th>user_id</th>\n",
              "      <th>region</th>\n",
              "      <th>tenure</th>\n",
              "      <th>montant</th>\n",
              "      <th>frequence_rech</th>\n",
              "      <th>revenue</th>\n",
              "      <th>arpu_segment</th>\n",
              "      <th>frequence</th>\n",
              "      <th>data_volume</th>\n",
              "      <th>on_net</th>\n",
              "      <th>orange</th>\n",
              "      <th>tigo</th>\n",
              "      <th>zone1</th>\n",
              "      <th>zone2</th>\n",
              "      <th>mrg</th>\n",
              "      <th>regularity</th>\n",
              "      <th>top_pack</th>\n",
              "      <th>freq_top_pack</th>\n",
              "      <th>churn</th>\n",
              "    </tr>\n",
              "  </thead>\n",
              "  <tbody>\n",
              "  </tbody>\n",
              "</table>\n",
              "</div>\n",
              "      <button class=\"colab-df-convert\" onclick=\"convertToInteractive('df-6552f68d-e471-402d-8fc9-11f8690fde8d')\"\n",
              "              title=\"Convert this dataframe to an interactive table.\"\n",
              "              style=\"display:none;\">\n",
              "        \n",
              "  <svg xmlns=\"http://www.w3.org/2000/svg\" height=\"24px\"viewBox=\"0 0 24 24\"\n",
              "       width=\"24px\">\n",
              "    <path d=\"M0 0h24v24H0V0z\" fill=\"none\"/>\n",
              "    <path d=\"M18.56 5.44l.94 2.06.94-2.06 2.06-.94-2.06-.94-.94-2.06-.94 2.06-2.06.94zm-11 1L8.5 8.5l.94-2.06 2.06-.94-2.06-.94L8.5 2.5l-.94 2.06-2.06.94zm10 10l.94 2.06.94-2.06 2.06-.94-2.06-.94-.94-2.06-.94 2.06-2.06.94z\"/><path d=\"M17.41 7.96l-1.37-1.37c-.4-.4-.92-.59-1.43-.59-.52 0-1.04.2-1.43.59L10.3 9.45l-7.72 7.72c-.78.78-.78 2.05 0 2.83L4 21.41c.39.39.9.59 1.41.59.51 0 1.02-.2 1.41-.59l7.78-7.78 2.81-2.81c.8-.78.8-2.07 0-2.86zM5.41 20L4 18.59l7.72-7.72 1.47 1.35L5.41 20z\"/>\n",
              "  </svg>\n",
              "      </button>\n",
              "      \n",
              "  <style>\n",
              "    .colab-df-container {\n",
              "      display:flex;\n",
              "      flex-wrap:wrap;\n",
              "      gap: 12px;\n",
              "    }\n",
              "\n",
              "    .colab-df-convert {\n",
              "      background-color: #E8F0FE;\n",
              "      border: none;\n",
              "      border-radius: 50%;\n",
              "      cursor: pointer;\n",
              "      display: none;\n",
              "      fill: #1967D2;\n",
              "      height: 32px;\n",
              "      padding: 0 0 0 0;\n",
              "      width: 32px;\n",
              "    }\n",
              "\n",
              "    .colab-df-convert:hover {\n",
              "      background-color: #E2EBFA;\n",
              "      box-shadow: 0px 1px 2px rgba(60, 64, 67, 0.3), 0px 1px 3px 1px rgba(60, 64, 67, 0.15);\n",
              "      fill: #174EA6;\n",
              "    }\n",
              "\n",
              "    [theme=dark] .colab-df-convert {\n",
              "      background-color: #3B4455;\n",
              "      fill: #D2E3FC;\n",
              "    }\n",
              "\n",
              "    [theme=dark] .colab-df-convert:hover {\n",
              "      background-color: #434B5C;\n",
              "      box-shadow: 0px 1px 3px 1px rgba(0, 0, 0, 0.15);\n",
              "      filter: drop-shadow(0px 1px 2px rgba(0, 0, 0, 0.3));\n",
              "      fill: #FFFFFF;\n",
              "    }\n",
              "  </style>\n",
              "\n",
              "      <script>\n",
              "        const buttonEl =\n",
              "          document.querySelector('#df-6552f68d-e471-402d-8fc9-11f8690fde8d button.colab-df-convert');\n",
              "        buttonEl.style.display =\n",
              "          google.colab.kernel.accessAllowed ? 'block' : 'none';\n",
              "\n",
              "        async function convertToInteractive(key) {\n",
              "          const element = document.querySelector('#df-6552f68d-e471-402d-8fc9-11f8690fde8d');\n",
              "          const dataTable =\n",
              "            await google.colab.kernel.invokeFunction('convertToInteractive',\n",
              "                                                     [key], {});\n",
              "          if (!dataTable) return;\n",
              "\n",
              "          const docLinkHtml = 'Like what you see? Visit the ' +\n",
              "            '<a target=\"_blank\" href=https://colab.research.google.com/notebooks/data_table.ipynb>data table notebook</a>'\n",
              "            + ' to learn more about interactive tables.';\n",
              "          element.innerHTML = '';\n",
              "          dataTable['output_type'] = 'display_data';\n",
              "          await google.colab.output.renderOutput(dataTable, element);\n",
              "          const docLink = document.createElement('div');\n",
              "          docLink.innerHTML = docLinkHtml;\n",
              "          element.appendChild(docLink);\n",
              "        }\n",
              "      </script>\n",
              "    </div>\n",
              "  </div>\n",
              "  "
            ]
          },
          "metadata": {},
          "execution_count": 10
        }
      ],
      "source": [
        "# Check for duplicates\n",
        "dataset[dataset.duplicated()]"
      ]
    },
    {
      "cell_type": "markdown",
      "metadata": {
        "id": "-l9dIUJ2BT8j"
      },
      "source": [
        "From the dataset preview and the info above, we make the following observations:\n",
        "- Out of the 18 columns, only 5 have no missing values. The columns therefore have to be assessed, and necessary action taken on the columns to deal with the missing values.\n",
        "- Given the extent of missing values for zone1 and zone2 (over 90% each), they will be dropped.\n",
        "- There are no duplicates in the dataset."
      ]
    },
    {
      "cell_type": "code",
      "source": [
        "# Drop the columns with lots of missing values\n",
        "dataset.drop(columns = [\"zone1\", \"zone2\", \"tigo\", \"orange\", \"on_net\"], inplace = True)"
      ],
      "metadata": {
        "id": "stdmPtyNto3d"
      },
      "execution_count": null,
      "outputs": []
    },
    {
      "cell_type": "markdown",
      "metadata": {
        "id": "XmXGcdd2BT8k"
      },
      "source": [
        "### 4.1 Exploration of Numeric Columns"
      ]
    },
    {
      "cell_type": "code",
      "execution_count": null,
      "metadata": {
        "colab": {
          "base_uri": "https://localhost:8080/",
          "height": 349
        },
        "id": "G9iXthUrBT8k",
        "outputId": "a314ba53-b229-49ac-cc6d-c6df39cb5e34",
        "scrolled": true
      },
      "outputs": [
        {
          "output_type": "stream",
          "name": "stdout",
          "text": [
            "Summary table of the Descriptive Statistics of Columns with Numeric Values\n"
          ]
        },
        {
          "output_type": "execute_result",
          "data": {
            "text/plain": [
              "                       count       mean         std      min        25%  \\\n",
              "montant         699139.00000 5529.21090  7104.73795 20.00000 1000.00000   \n",
              "frequence_rech  699139.00000   11.52376    13.26194  1.00000    2.00000   \n",
              "revenue         714669.00000 5506.05080  7175.62501  1.00000 1000.00000   \n",
              "arpu_segment    714669.00000 1835.35596  2391.87090  0.00000  333.00000   \n",
              "frequence       714669.00000   13.97444    14.68706  1.00000    3.00000   \n",
              "data_volume     547261.00000 3368.80172 12898.92804  0.00000    0.00000   \n",
              "regularity     1077024.00000   28.04450    22.28861  1.00000    6.00000   \n",
              "freq_top_pack   626129.00000    9.26245    12.24232  1.00000    2.00000   \n",
              "churn          1077024.00000    0.18755     0.39035  0.00000    0.00000   \n",
              "\n",
              "                      50%        75%           max  \n",
              "montant        3000.00000 7350.00000  470000.00000  \n",
              "frequence_rech    7.00000   16.00000     131.00000  \n",
              "revenue        3000.00000 7360.00000  532177.00000  \n",
              "arpu_segment   1000.00000 2453.00000  177392.00000  \n",
              "frequence         9.00000   20.00000      91.00000  \n",
              "data_volume     258.00000 2905.00000 1702309.00000  \n",
              "regularity       24.00000   51.00000      62.00000  \n",
              "freq_top_pack     5.00000   12.00000     624.00000  \n",
              "churn             0.00000    0.00000       1.00000  "
            ],
            "text/html": [
              "\n",
              "  <div id=\"df-e5d9138d-7cd4-4e8b-bf7d-891c653eaed2\">\n",
              "    <div class=\"colab-df-container\">\n",
              "      <div>\n",
              "<style scoped>\n",
              "    .dataframe tbody tr th:only-of-type {\n",
              "        vertical-align: middle;\n",
              "    }\n",
              "\n",
              "    .dataframe tbody tr th {\n",
              "        vertical-align: top;\n",
              "    }\n",
              "\n",
              "    .dataframe thead th {\n",
              "        text-align: right;\n",
              "    }\n",
              "</style>\n",
              "<table border=\"1\" class=\"dataframe\">\n",
              "  <thead>\n",
              "    <tr style=\"text-align: right;\">\n",
              "      <th></th>\n",
              "      <th>count</th>\n",
              "      <th>mean</th>\n",
              "      <th>std</th>\n",
              "      <th>min</th>\n",
              "      <th>25%</th>\n",
              "      <th>50%</th>\n",
              "      <th>75%</th>\n",
              "      <th>max</th>\n",
              "    </tr>\n",
              "  </thead>\n",
              "  <tbody>\n",
              "    <tr>\n",
              "      <th>montant</th>\n",
              "      <td>699139.00000</td>\n",
              "      <td>5529.21090</td>\n",
              "      <td>7104.73795</td>\n",
              "      <td>20.00000</td>\n",
              "      <td>1000.00000</td>\n",
              "      <td>3000.00000</td>\n",
              "      <td>7350.00000</td>\n",
              "      <td>470000.00000</td>\n",
              "    </tr>\n",
              "    <tr>\n",
              "      <th>frequence_rech</th>\n",
              "      <td>699139.00000</td>\n",
              "      <td>11.52376</td>\n",
              "      <td>13.26194</td>\n",
              "      <td>1.00000</td>\n",
              "      <td>2.00000</td>\n",
              "      <td>7.00000</td>\n",
              "      <td>16.00000</td>\n",
              "      <td>131.00000</td>\n",
              "    </tr>\n",
              "    <tr>\n",
              "      <th>revenue</th>\n",
              "      <td>714669.00000</td>\n",
              "      <td>5506.05080</td>\n",
              "      <td>7175.62501</td>\n",
              "      <td>1.00000</td>\n",
              "      <td>1000.00000</td>\n",
              "      <td>3000.00000</td>\n",
              "      <td>7360.00000</td>\n",
              "      <td>532177.00000</td>\n",
              "    </tr>\n",
              "    <tr>\n",
              "      <th>arpu_segment</th>\n",
              "      <td>714669.00000</td>\n",
              "      <td>1835.35596</td>\n",
              "      <td>2391.87090</td>\n",
              "      <td>0.00000</td>\n",
              "      <td>333.00000</td>\n",
              "      <td>1000.00000</td>\n",
              "      <td>2453.00000</td>\n",
              "      <td>177392.00000</td>\n",
              "    </tr>\n",
              "    <tr>\n",
              "      <th>frequence</th>\n",
              "      <td>714669.00000</td>\n",
              "      <td>13.97444</td>\n",
              "      <td>14.68706</td>\n",
              "      <td>1.00000</td>\n",
              "      <td>3.00000</td>\n",
              "      <td>9.00000</td>\n",
              "      <td>20.00000</td>\n",
              "      <td>91.00000</td>\n",
              "    </tr>\n",
              "    <tr>\n",
              "      <th>data_volume</th>\n",
              "      <td>547261.00000</td>\n",
              "      <td>3368.80172</td>\n",
              "      <td>12898.92804</td>\n",
              "      <td>0.00000</td>\n",
              "      <td>0.00000</td>\n",
              "      <td>258.00000</td>\n",
              "      <td>2905.00000</td>\n",
              "      <td>1702309.00000</td>\n",
              "    </tr>\n",
              "    <tr>\n",
              "      <th>regularity</th>\n",
              "      <td>1077024.00000</td>\n",
              "      <td>28.04450</td>\n",
              "      <td>22.28861</td>\n",
              "      <td>1.00000</td>\n",
              "      <td>6.00000</td>\n",
              "      <td>24.00000</td>\n",
              "      <td>51.00000</td>\n",
              "      <td>62.00000</td>\n",
              "    </tr>\n",
              "    <tr>\n",
              "      <th>freq_top_pack</th>\n",
              "      <td>626129.00000</td>\n",
              "      <td>9.26245</td>\n",
              "      <td>12.24232</td>\n",
              "      <td>1.00000</td>\n",
              "      <td>2.00000</td>\n",
              "      <td>5.00000</td>\n",
              "      <td>12.00000</td>\n",
              "      <td>624.00000</td>\n",
              "    </tr>\n",
              "    <tr>\n",
              "      <th>churn</th>\n",
              "      <td>1077024.00000</td>\n",
              "      <td>0.18755</td>\n",
              "      <td>0.39035</td>\n",
              "      <td>0.00000</td>\n",
              "      <td>0.00000</td>\n",
              "      <td>0.00000</td>\n",
              "      <td>0.00000</td>\n",
              "      <td>1.00000</td>\n",
              "    </tr>\n",
              "  </tbody>\n",
              "</table>\n",
              "</div>\n",
              "      <button class=\"colab-df-convert\" onclick=\"convertToInteractive('df-e5d9138d-7cd4-4e8b-bf7d-891c653eaed2')\"\n",
              "              title=\"Convert this dataframe to an interactive table.\"\n",
              "              style=\"display:none;\">\n",
              "        \n",
              "  <svg xmlns=\"http://www.w3.org/2000/svg\" height=\"24px\"viewBox=\"0 0 24 24\"\n",
              "       width=\"24px\">\n",
              "    <path d=\"M0 0h24v24H0V0z\" fill=\"none\"/>\n",
              "    <path d=\"M18.56 5.44l.94 2.06.94-2.06 2.06-.94-2.06-.94-.94-2.06-.94 2.06-2.06.94zm-11 1L8.5 8.5l.94-2.06 2.06-.94-2.06-.94L8.5 2.5l-.94 2.06-2.06.94zm10 10l.94 2.06.94-2.06 2.06-.94-2.06-.94-.94-2.06-.94 2.06-2.06.94z\"/><path d=\"M17.41 7.96l-1.37-1.37c-.4-.4-.92-.59-1.43-.59-.52 0-1.04.2-1.43.59L10.3 9.45l-7.72 7.72c-.78.78-.78 2.05 0 2.83L4 21.41c.39.39.9.59 1.41.59.51 0 1.02-.2 1.41-.59l7.78-7.78 2.81-2.81c.8-.78.8-2.07 0-2.86zM5.41 20L4 18.59l7.72-7.72 1.47 1.35L5.41 20z\"/>\n",
              "  </svg>\n",
              "      </button>\n",
              "      \n",
              "  <style>\n",
              "    .colab-df-container {\n",
              "      display:flex;\n",
              "      flex-wrap:wrap;\n",
              "      gap: 12px;\n",
              "    }\n",
              "\n",
              "    .colab-df-convert {\n",
              "      background-color: #E8F0FE;\n",
              "      border: none;\n",
              "      border-radius: 50%;\n",
              "      cursor: pointer;\n",
              "      display: none;\n",
              "      fill: #1967D2;\n",
              "      height: 32px;\n",
              "      padding: 0 0 0 0;\n",
              "      width: 32px;\n",
              "    }\n",
              "\n",
              "    .colab-df-convert:hover {\n",
              "      background-color: #E2EBFA;\n",
              "      box-shadow: 0px 1px 2px rgba(60, 64, 67, 0.3), 0px 1px 3px 1px rgba(60, 64, 67, 0.15);\n",
              "      fill: #174EA6;\n",
              "    }\n",
              "\n",
              "    [theme=dark] .colab-df-convert {\n",
              "      background-color: #3B4455;\n",
              "      fill: #D2E3FC;\n",
              "    }\n",
              "\n",
              "    [theme=dark] .colab-df-convert:hover {\n",
              "      background-color: #434B5C;\n",
              "      box-shadow: 0px 1px 3px 1px rgba(0, 0, 0, 0.15);\n",
              "      filter: drop-shadow(0px 1px 2px rgba(0, 0, 0, 0.3));\n",
              "      fill: #FFFFFF;\n",
              "    }\n",
              "  </style>\n",
              "\n",
              "      <script>\n",
              "        const buttonEl =\n",
              "          document.querySelector('#df-e5d9138d-7cd4-4e8b-bf7d-891c653eaed2 button.colab-df-convert');\n",
              "        buttonEl.style.display =\n",
              "          google.colab.kernel.accessAllowed ? 'block' : 'none';\n",
              "\n",
              "        async function convertToInteractive(key) {\n",
              "          const element = document.querySelector('#df-e5d9138d-7cd4-4e8b-bf7d-891c653eaed2');\n",
              "          const dataTable =\n",
              "            await google.colab.kernel.invokeFunction('convertToInteractive',\n",
              "                                                     [key], {});\n",
              "          if (!dataTable) return;\n",
              "\n",
              "          const docLinkHtml = 'Like what you see? Visit the ' +\n",
              "            '<a target=\"_blank\" href=https://colab.research.google.com/notebooks/data_table.ipynb>data table notebook</a>'\n",
              "            + ' to learn more about interactive tables.';\n",
              "          element.innerHTML = '';\n",
              "          dataTable['output_type'] = 'display_data';\n",
              "          await google.colab.output.renderOutput(dataTable, element);\n",
              "          const docLink = document.createElement('div');\n",
              "          docLink.innerHTML = docLinkHtml;\n",
              "          element.appendChild(docLink);\n",
              "        }\n",
              "      </script>\n",
              "    </div>\n",
              "  </div>\n",
              "  "
            ]
          },
          "metadata": {},
          "execution_count": 12
        }
      ],
      "source": [
        "# Looking at the descriptive statistics of the columns with numeric values\n",
        "numerics = [column for column in dataset.columns if (dataset[column].dtype != \"O\")]\n",
        "print(\"Summary table of the Descriptive Statistics of Columns with Numeric Values\")\n",
        "dataset[numerics].describe().T"
      ]
    },
    {
      "cell_type": "markdown",
      "source": [
        "From the summary table above, we notice some interesting things about the means and medians of the columns. To ensure that our actions on the missing values do not skew the data further or enforce any existing biases in the data, we will check for outliers in the columns before making a final determination. This will be done with boxplots."
      ],
      "metadata": {
        "id": "8YNmiZ68dqJ2"
      }
    },
    {
      "cell_type": "code",
      "source": [
        " # Set up to calculate the outliers\n",
        "for column in dataset[numerics]:\n",
        "  sns.boxplot(dataset[column])\n",
        "  plt.show()"
      ],
      "metadata": {
        "colab": {
          "base_uri": "https://localhost:8080/",
          "height": 1000
        },
        "id": "RaJbzJPSdo5C",
        "outputId": "a4e0e0df-b57a-4588-b9ea-1126a8cb80d1"
      },
      "execution_count": null,
      "outputs": [
        {
          "output_type": "display_data",
          "data": {
            "text/plain": [
              "<Figure size 432x288 with 1 Axes>"
            ],
            "image/png": "[encoded data removed]"
          },
          "metadata": {
            "needs_background": "light"
          }
        },
        {
          "output_type": "display_data",
          "data": {
            "text/plain": [
              "<Figure size 432x288 with 1 Axes>"
            ],
            "image/png": "[encoded data removed]"
          },
          "metadata": {
            "needs_background": "light"
          }
        },
        {
          "output_type": "display_data",
          "data": {
            "text/plain": [
              "<Figure size 432x288 with 1 Axes>"
            ],
            "image/png": "[encoded data removed]"
          },
          "metadata": {
            "needs_background": "light"
          }
        },
        {
          "output_type": "display_data",
          "data": {
            "text/plain": [
              "<Figure size 432x288 with 1 Axes>"
            ],
            "image/png": "[encoded data removed]"
          },
          "metadata": {
            "needs_background": "light"
          }
        },
        {
          "output_type": "display_data",
          "data": {
            "text/plain": [
              "<Figure size 432x288 with 1 Axes>"
            ],
            "image/png": "[encoded data removed]"
          },
          "metadata": {
            "needs_background": "light"
          }
        },
        {
          "output_type": "display_data",
          "data": {
            "text/plain": [
              "<Figure size 432x288 with 1 Axes>"
            ],
            "image/png": "[encoded data removed]"
          },
          "metadata": {
            "needs_background": "light"
          }
        },
        {
          "output_type": "display_data",
          "data": {
            "text/plain": [
              "<Figure size 432x288 with 1 Axes>"
            ],
            "image/png": "[encoded data removed]"
          },
          "metadata": {
            "needs_background": "light"
          }
        },
        {
          "output_type": "display_data",
          "data": {
            "text/plain": [
              "<Figure size 432x288 with 1 Axes>"
            ],
            "image/png": "[encoded data removed]"
          },
          "metadata": {
            "needs_background": "light"
          }
        },
        {
          "output_type": "display_data",
          "data": {
            "text/plain": [
              "<Figure size 432x288 with 1 Axes>"
            ],
            "image/png": "[encoded data removed]"
          },
          "metadata": {
            "needs_background": "light"
          }
        }
      ]
    },
    {
      "cell_type": "markdown",
      "source": [
        "From the boxplots, we notice that with the exception of \"regularity\" and \"churn\" (which has only 2 values), all the other columns have significant outliers. These are likely to skew the mean, as such, the missing values in those columns will be filled with their respective medians, which are much less likely to be affected by outliers."
      ],
      "metadata": {
        "id": "Y0WgeHjOj9OY"
      }
    },
    {
      "cell_type": "code",
      "source": [
        "# Fill the numeric columns with the mean values\n",
        "dataset[\"montant\"].fillna((dataset[\"montant\"].mean()), inplace=True)\n",
        "dataset[\"frequence_rech\"].fillna((dataset[\"frequence_rech\"].mean()), inplace=True)\n",
        "#dataset[\"revenue\"].fillna((dataset[\"revenue\"].mean()), inplace=True)\n",
        "dataset[\"arpu_segment\"].fillna((dataset[\"arpu_segment\"].mean()), inplace=True)\n",
        "dataset[\"frequence\"].fillna((dataset[\"frequence\"].mean()), inplace=True)\n",
        "dataset[\"data_volume\"].fillna((dataset[\"data_volume\"].mean()), inplace=True)\n",
        "# dataset[\"on_net\"].fillna((dataset[\"on_net\"].mean()), inplace=True)\n",
        "# dataset[\"orange\"].fillna((dataset[\"orange\"].mean()), inplace=True)\n",
        "# dataset[\"tigo\"].fillna((dataset[\"tigo\"].mean()), inplace=True)\n",
        "# dataset[\"zone1\"].fillna((dataset[\"zone1\"].mean()), inplace=True)\n",
        "# dataset[\"zone2\"].fillna((dataset[\"zone2\"].mean()), inplace=True)\n",
        "dataset[\"freq_top_pack\"].fillna((dataset[\"freq_top_pack\"].mean()), inplace=True)"
      ],
      "metadata": {
        "id": "4oXuZZ_AubLS"
      },
      "execution_count": null,
      "outputs": []
    },
    {
      "cell_type": "code",
      "source": [
        "# Confirm filling of columns with the percentages of missing values\n",
        "percent_missing = dataset.isnull().sum() * 100 / len(dataset)\n",
        "missing_value_df = pd.DataFrame({\"percent_missing\": percent_missing})\n",
        "missing_value_df.sort_values(\"percent_missing\", inplace=True)\n",
        "missing_value_df"
      ],
      "metadata": {
        "colab": {
          "base_uri": "https://localhost:8080/",
          "height": 488
        },
        "id": "P9aSWRfMlBYv",
        "outputId": "81f34c54-c235-47aa-e63e-817370ad45e8"
      },
      "execution_count": null,
      "outputs": [
        {
          "output_type": "execute_result",
          "data": {
            "text/plain": [
              "                percent_missing\n",
              "user_id                 0.00000\n",
              "tenure                  0.00000\n",
              "montant                 0.00000\n",
              "frequence_rech          0.00000\n",
              "revenue                 0.00000\n",
              "arpu_segment            0.00000\n",
              "frequence               0.00000\n",
              "data_volume             0.00000\n",
              "mrg                     0.00000\n",
              "regularity              0.00000\n",
              "freq_top_pack           0.00000\n",
              "churn                   0.00000\n",
              "region                 39.39903\n",
              "top_pack               41.86490"
            ],
            "text/html": [
              "\n",
              "  <div id=\"df-dcf280d0-ec53-4d34-85bb-8b75661e23bc\">\n",
              "    <div class=\"colab-df-container\">\n",
              "      <div>\n",
              "<style scoped>\n",
              "    .dataframe tbody tr th:only-of-type {\n",
              "        vertical-align: middle;\n",
              "    }\n",
              "\n",
              "    .dataframe tbody tr th {\n",
              "        vertical-align: top;\n",
              "    }\n",
              "\n",
              "    .dataframe thead th {\n",
              "        text-align: right;\n",
              "    }\n",
              "</style>\n",
              "<table border=\"1\" class=\"dataframe\">\n",
              "  <thead>\n",
              "    <tr style=\"text-align: right;\">\n",
              "      <th></th>\n",
              "      <th>percent_missing</th>\n",
              "    </tr>\n",
              "  </thead>\n",
              "  <tbody>\n",
              "    <tr>\n",
              "      <th>user_id</th>\n",
              "      <td>0.00000</td>\n",
              "    </tr>\n",
              "    <tr>\n",
              "      <th>tenure</th>\n",
              "      <td>0.00000</td>\n",
              "    </tr>\n",
              "    <tr>\n",
              "      <th>montant</th>\n",
              "      <td>0.00000</td>\n",
              "    </tr>\n",
              "    <tr>\n",
              "      <th>frequence_rech</th>\n",
              "      <td>0.00000</td>\n",
              "    </tr>\n",
              "    <tr>\n",
              "      <th>revenue</th>\n",
              "      <td>0.00000</td>\n",
              "    </tr>\n",
              "    <tr>\n",
              "      <th>arpu_segment</th>\n",
              "      <td>0.00000</td>\n",
              "    </tr>\n",
              "    <tr>\n",
              "      <th>frequence</th>\n",
              "      <td>0.00000</td>\n",
              "    </tr>\n",
              "    <tr>\n",
              "      <th>data_volume</th>\n",
              "      <td>0.00000</td>\n",
              "    </tr>\n",
              "    <tr>\n",
              "      <th>mrg</th>\n",
              "      <td>0.00000</td>\n",
              "    </tr>\n",
              "    <tr>\n",
              "      <th>regularity</th>\n",
              "      <td>0.00000</td>\n",
              "    </tr>\n",
              "    <tr>\n",
              "      <th>freq_top_pack</th>\n",
              "      <td>0.00000</td>\n",
              "    </tr>\n",
              "    <tr>\n",
              "      <th>churn</th>\n",
              "      <td>0.00000</td>\n",
              "    </tr>\n",
              "    <tr>\n",
              "      <th>region</th>\n",
              "      <td>39.39903</td>\n",
              "    </tr>\n",
              "    <tr>\n",
              "      <th>top_pack</th>\n",
              "      <td>41.86490</td>\n",
              "    </tr>\n",
              "  </tbody>\n",
              "</table>\n",
              "</div>\n",
              "      <button class=\"colab-df-convert\" onclick=\"convertToInteractive('df-dcf280d0-ec53-4d34-85bb-8b75661e23bc')\"\n",
              "              title=\"Convert this dataframe to an interactive table.\"\n",
              "              style=\"display:none;\">\n",
              "        \n",
              "  <svg xmlns=\"http://www.w3.org/2000/svg\" height=\"24px\"viewBox=\"0 0 24 24\"\n",
              "       width=\"24px\">\n",
              "    <path d=\"M0 0h24v24H0V0z\" fill=\"none\"/>\n",
              "    <path d=\"M18.56 5.44l.94 2.06.94-2.06 2.06-.94-2.06-.94-.94-2.06-.94 2.06-2.06.94zm-11 1L8.5 8.5l.94-2.06 2.06-.94-2.06-.94L8.5 2.5l-.94 2.06-2.06.94zm10 10l.94 2.06.94-2.06 2.06-.94-2.06-.94-.94-2.06-.94 2.06-2.06.94z\"/><path d=\"M17.41 7.96l-1.37-1.37c-.4-.4-.92-.59-1.43-.59-.52 0-1.04.2-1.43.59L10.3 9.45l-7.72 7.72c-.78.78-.78 2.05 0 2.83L4 21.41c.39.39.9.59 1.41.59.51 0 1.02-.2 1.41-.59l7.78-7.78 2.81-2.81c.8-.78.8-2.07 0-2.86zM5.41 20L4 18.59l7.72-7.72 1.47 1.35L5.41 20z\"/>\n",
              "  </svg>\n",
              "      </button>\n",
              "      \n",
              "  <style>\n",
              "    .colab-df-container {\n",
              "      display:flex;\n",
              "      flex-wrap:wrap;\n",
              "      gap: 12px;\n",
              "    }\n",
              "\n",
              "    .colab-df-convert {\n",
              "      background-color: #E8F0FE;\n",
              "      border: none;\n",
              "      border-radius: 50%;\n",
              "      cursor: pointer;\n",
              "      display: none;\n",
              "      fill: #1967D2;\n",
              "      height: 32px;\n",
              "      padding: 0 0 0 0;\n",
              "      width: 32px;\n",
              "    }\n",
              "\n",
              "    .colab-df-convert:hover {\n",
              "      background-color: #E2EBFA;\n",
              "      box-shadow: 0px 1px 2px rgba(60, 64, 67, 0.3), 0px 1px 3px 1px rgba(60, 64, 67, 0.15);\n",
              "      fill: #174EA6;\n",
              "    }\n",
              "\n",
              "    [theme=dark] .colab-df-convert {\n",
              "      background-color: #3B4455;\n",
              "      fill: #D2E3FC;\n",
              "    }\n",
              "\n",
              "    [theme=dark] .colab-df-convert:hover {\n",
              "      background-color: #434B5C;\n",
              "      box-shadow: 0px 1px 3px 1px rgba(0, 0, 0, 0.15);\n",
              "      filter: drop-shadow(0px 1px 2px rgba(0, 0, 0, 0.3));\n",
              "      fill: #FFFFFF;\n",
              "    }\n",
              "  </style>\n",
              "\n",
              "      <script>\n",
              "        const buttonEl =\n",
              "          document.querySelector('#df-dcf280d0-ec53-4d34-85bb-8b75661e23bc button.colab-df-convert');\n",
              "        buttonEl.style.display =\n",
              "          google.colab.kernel.accessAllowed ? 'block' : 'none';\n",
              "\n",
              "        async function convertToInteractive(key) {\n",
              "          const element = document.querySelector('#df-dcf280d0-ec53-4d34-85bb-8b75661e23bc');\n",
              "          const dataTable =\n",
              "            await google.colab.kernel.invokeFunction('convertToInteractive',\n",
              "                                                     [key], {});\n",
              "          if (!dataTable) return;\n",
              "\n",
              "          const docLinkHtml = 'Like what you see? Visit the ' +\n",
              "            '<a target=\"_blank\" href=https://colab.research.google.com/notebooks/data_table.ipynb>data table notebook</a>'\n",
              "            + ' to learn more about interactive tables.';\n",
              "          element.innerHTML = '';\n",
              "          dataTable['output_type'] = 'display_data';\n",
              "          await google.colab.output.renderOutput(dataTable, element);\n",
              "          const docLink = document.createElement('div');\n",
              "          docLink.innerHTML = docLinkHtml;\n",
              "          element.appendChild(docLink);\n",
              "        }\n",
              "      </script>\n",
              "    </div>\n",
              "  </div>\n",
              "  "
            ]
          },
          "metadata": {},
          "execution_count": 16
        }
      ]
    },
    {
      "cell_type": "code",
      "source": [
        "# Check the value counts of the churn column\n",
        "dataset[\"churn\"].value_counts(normalize = True)"
      ],
      "metadata": {
        "colab": {
          "base_uri": "https://localhost:8080/"
        },
        "id": "ZzA5kxV_lAc2",
        "outputId": "8d169b05-69f8-4545-a21b-ce0e4cd45d94"
      },
      "execution_count": null,
      "outputs": [
        {
          "output_type": "execute_result",
          "data": {
            "text/plain": [
              "0   0.81245\n",
              "1   0.18755\n",
              "Name: churn, dtype: float64"
            ]
          },
          "metadata": {},
          "execution_count": 17
        }
      ]
    },
    {
      "cell_type": "code",
      "source": [
        "# Check the value counts of the top_pack column\n",
        "dataset[\"top_pack\"].value_counts(normalize = True)"
      ],
      "metadata": {
        "colab": {
          "base_uri": "https://localhost:8080/"
        },
        "id": "nimoTs7g-XOG",
        "outputId": "8bd96a6f-5b7e-4353-d8d2-f5068b7f508b"
      },
      "execution_count": null,
      "outputs": [
        {
          "output_type": "execute_result",
          "data": {
            "text/plain": [
              "All-net 500F=2000F;5d            0.25359\n",
              "On net 200F=Unlimited _call24H   0.12186\n",
              "Data:490F=1GB,7d                 0.09212\n",
              "Data: 100 F=40MB,24H             0.06790\n",
              "Mixt 250F=Unlimited_call24H      0.05370\n",
              "                                   ...  \n",
              "150=unlimited pilot auto         0.00000\n",
              "FIFA_TS_weekly                   0.00000\n",
              "Data_Mifi_10Go_Monthly           0.00000\n",
              "Data_Mifi_20Go                   0.00000\n",
              "200=unlimited pilot auto         0.00000\n",
              "Name: top_pack, Length: 126, dtype: float64"
            ]
          },
          "metadata": {},
          "execution_count": 18
        }
      ]
    },
    {
      "cell_type": "markdown",
      "metadata": {
        "id": "nbdUuaZWBT8k"
      },
      "source": [
        "### 4.2 Exploration of Categorical Columns"
      ]
    },
    {
      "cell_type": "code",
      "execution_count": null,
      "metadata": {
        "id": "Mz_I5PM5BT8l",
        "scrolled": false,
        "colab": {
          "base_uri": "https://localhost:8080/",
          "height": 1000
        },
        "outputId": "15cc8d73-d1d3-4c95-8ffe-1c7563763739"
      },
      "outputs": [
        {
          "output_type": "display_data",
          "data": {
            "text/plain": [
              "<Figure size 720x504 with 1 Axes>"
            ],
            "image/png": "[encoded data removed]"
          },
          "metadata": {
            "needs_background": "light"
          }
        },
        {
          "output_type": "stream",
          "name": "stdout",
          "text": [
            "\n",
            "\n"
          ]
        },
        {
          "output_type": "display_data",
          "data": {
            "text/plain": [
              "<Figure size 432x288 with 1 Axes>"
            ],
            "image/png": "[encoded data removed]"
          },
          "metadata": {
            "needs_background": "light"
          }
        },
        {
          "output_type": "stream",
          "name": "stdout",
          "text": [
            "\n",
            "\n"
          ]
        },
        {
          "output_type": "display_data",
          "data": {
            "text/plain": [
              "<Figure size 432x288 with 1 Axes>"
            ],
            "image/png": "[encoded data removed]"
          },
          "metadata": {
            "needs_background": "light"
          }
        },
        {
          "output_type": "stream",
          "name": "stdout",
          "text": [
            "\n",
            "\n"
          ]
        },
        {
          "output_type": "display_data",
          "data": {
            "text/plain": [
              "<Figure size 432x288 with 1 Axes>"
            ],
            "image/png": "[encoded data removed]"
          },
          "metadata": {
            "needs_background": "light"
          }
        },
        {
          "output_type": "stream",
          "name": "stdout",
          "text": [
            "\n",
            "\n"
          ]
        }
      ],
      "source": [
        "# Visualizing the distribution of the columns with categorical values and their churn levels\n",
        "categoricals = [column for column in dataset.columns if (dataset[column].dtype == \"O\")]\n",
        "categoricals.remove(\"user_id\")\n",
        "\n",
        "plt.figure(figsize=(10,7))\n",
        "for column in dataset[categoricals].columns:\n",
        "  # Visualize the distribution of the categories in the column\n",
        "  dataset[column].value_counts(normalize=True).plot(kind='bar')\n",
        "  plt.ylabel('counts')\n",
        "  plt.xlabel(column)\n",
        "  plt.show()\n",
        "  print(\"\\n\")"
      ]
    },
    {
      "cell_type": "code",
      "source": [
        "# Confirm filling of columns with the percentages of missing values\n",
        "percent_missing = dataset.isnull().sum() * 100 / len(dataset)\n",
        "missing_value_df = pd.DataFrame({\"percent_missing\": percent_missing})\n",
        "missing_value_df.sort_values(\"percent_missing\", inplace=True)\n",
        "missing_value_df"
      ],
      "metadata": {
        "id": "axp5TwEDlhtR",
        "colab": {
          "base_uri": "https://localhost:8080/",
          "height": 488
        },
        "outputId": "ae6480ea-4153-4195-b750-6f93c7e81a28"
      },
      "execution_count": null,
      "outputs": [
        {
          "output_type": "execute_result",
          "data": {
            "text/plain": [
              "                percent_missing\n",
              "user_id                 0.00000\n",
              "region                  0.00000\n",
              "tenure                  0.00000\n",
              "montant                 0.00000\n",
              "frequence_rech          0.00000\n",
              "revenue                 0.00000\n",
              "arpu_segment            0.00000\n",
              "frequence               0.00000\n",
              "data_volume             0.00000\n",
              "mrg                     0.00000\n",
              "regularity              0.00000\n",
              "freq_top_pack           0.00000\n",
              "churn                   0.00000\n",
              "top_pack               41.86490"
            ],
            "text/html": [
              "\n",
              "  <div id=\"df-d5aa5a74-e10a-41a4-b466-eb47d58579fa\">\n",
              "    <div class=\"colab-df-container\">\n",
              "      <div>\n",
              "<style scoped>\n",
              "    .dataframe tbody tr th:only-of-type {\n",
              "        vertical-align: middle;\n",
              "    }\n",
              "\n",
              "    .dataframe tbody tr th {\n",
              "        vertical-align: top;\n",
              "    }\n",
              "\n",
              "    .dataframe thead th {\n",
              "        text-align: right;\n",
              "    }\n",
              "</style>\n",
              "<table border=\"1\" class=\"dataframe\">\n",
              "  <thead>\n",
              "    <tr style=\"text-align: right;\">\n",
              "      <th></th>\n",
              "      <th>percent_missing</th>\n",
              "    </tr>\n",
              "  </thead>\n",
              "  <tbody>\n",
              "    <tr>\n",
              "      <th>user_id</th>\n",
              "      <td>0.00000</td>\n",
              "    </tr>\n",
              "    <tr>\n",
              "      <th>region</th>\n",
              "      <td>0.00000</td>\n",
              "    </tr>\n",
              "    <tr>\n",
              "      <th>tenure</th>\n",
              "      <td>0.00000</td>\n",
              "    </tr>\n",
              "    <tr>\n",
              "      <th>montant</th>\n",
              "      <td>0.00000</td>\n",
              "    </tr>\n",
              "    <tr>\n",
              "      <th>frequence_rech</th>\n",
              "      <td>0.00000</td>\n",
              "    </tr>\n",
              "    <tr>\n",
              "      <th>revenue</th>\n",
              "      <td>0.00000</td>\n",
              "    </tr>\n",
              "    <tr>\n",
              "      <th>arpu_segment</th>\n",
              "      <td>0.00000</td>\n",
              "    </tr>\n",
              "    <tr>\n",
              "      <th>frequence</th>\n",
              "      <td>0.00000</td>\n",
              "    </tr>\n",
              "    <tr>\n",
              "      <th>data_volume</th>\n",
              "      <td>0.00000</td>\n",
              "    </tr>\n",
              "    <tr>\n",
              "      <th>mrg</th>\n",
              "      <td>0.00000</td>\n",
              "    </tr>\n",
              "    <tr>\n",
              "      <th>regularity</th>\n",
              "      <td>0.00000</td>\n",
              "    </tr>\n",
              "    <tr>\n",
              "      <th>freq_top_pack</th>\n",
              "      <td>0.00000</td>\n",
              "    </tr>\n",
              "    <tr>\n",
              "      <th>churn</th>\n",
              "      <td>0.00000</td>\n",
              "    </tr>\n",
              "    <tr>\n",
              "      <th>top_pack</th>\n",
              "      <td>41.86490</td>\n",
              "    </tr>\n",
              "  </tbody>\n",
              "</table>\n",
              "</div>\n",
              "      <button class=\"colab-df-convert\" onclick=\"convertToInteractive('df-d5aa5a74-e10a-41a4-b466-eb47d58579fa')\"\n",
              "              title=\"Convert this dataframe to an interactive table.\"\n",
              "              style=\"display:none;\">\n",
              "        \n",
              "  <svg xmlns=\"http://www.w3.org/2000/svg\" height=\"24px\"viewBox=\"0 0 24 24\"\n",
              "       width=\"24px\">\n",
              "    <path d=\"M0 0h24v24H0V0z\" fill=\"none\"/>\n",
              "    <path d=\"M18.56 5.44l.94 2.06.94-2.06 2.06-.94-2.06-.94-.94-2.06-.94 2.06-2.06.94zm-11 1L8.5 8.5l.94-2.06 2.06-.94-2.06-.94L8.5 2.5l-.94 2.06-2.06.94zm10 10l.94 2.06.94-2.06 2.06-.94-2.06-.94-.94-2.06-.94 2.06-2.06.94z\"/><path d=\"M17.41 7.96l-1.37-1.37c-.4-.4-.92-.59-1.43-.59-.52 0-1.04.2-1.43.59L10.3 9.45l-7.72 7.72c-.78.78-.78 2.05 0 2.83L4 21.41c.39.39.9.59 1.41.59.51 0 1.02-.2 1.41-.59l7.78-7.78 2.81-2.81c.8-.78.8-2.07 0-2.86zM5.41 20L4 18.59l7.72-7.72 1.47 1.35L5.41 20z\"/>\n",
              "  </svg>\n",
              "      </button>\n",
              "      \n",
              "  <style>\n",
              "    .colab-df-container {\n",
              "      display:flex;\n",
              "      flex-wrap:wrap;\n",
              "      gap: 12px;\n",
              "    }\n",
              "\n",
              "    .colab-df-convert {\n",
              "      background-color: #E8F0FE;\n",
              "      border: none;\n",
              "      border-radius: 50%;\n",
              "      cursor: pointer;\n",
              "      display: none;\n",
              "      fill: #1967D2;\n",
              "      height: 32px;\n",
              "      padding: 0 0 0 0;\n",
              "      width: 32px;\n",
              "    }\n",
              "\n",
              "    .colab-df-convert:hover {\n",
              "      background-color: #E2EBFA;\n",
              "      box-shadow: 0px 1px 2px rgba(60, 64, 67, 0.3), 0px 1px 3px 1px rgba(60, 64, 67, 0.15);\n",
              "      fill: #174EA6;\n",
              "    }\n",
              "\n",
              "    [theme=dark] .colab-df-convert {\n",
              "      background-color: #3B4455;\n",
              "      fill: #D2E3FC;\n",
              "    }\n",
              "\n",
              "    [theme=dark] .colab-df-convert:hover {\n",
              "      background-color: #434B5C;\n",
              "      box-shadow: 0px 1px 3px 1px rgba(0, 0, 0, 0.15);\n",
              "      filter: drop-shadow(0px 1px 2px rgba(0, 0, 0, 0.3));\n",
              "      fill: #FFFFFF;\n",
              "    }\n",
              "  </style>\n",
              "\n",
              "      <script>\n",
              "        const buttonEl =\n",
              "          document.querySelector('#df-d5aa5a74-e10a-41a4-b466-eb47d58579fa button.colab-df-convert');\n",
              "        buttonEl.style.display =\n",
              "          google.colab.kernel.accessAllowed ? 'block' : 'none';\n",
              "\n",
              "        async function convertToInteractive(key) {\n",
              "          const element = document.querySelector('#df-d5aa5a74-e10a-41a4-b466-eb47d58579fa');\n",
              "          const dataTable =\n",
              "            await google.colab.kernel.invokeFunction('convertToInteractive',\n",
              "                                                     [key], {});\n",
              "          if (!dataTable) return;\n",
              "\n",
              "          const docLinkHtml = 'Like what you see? Visit the ' +\n",
              "            '<a target=\"_blank\" href=https://colab.research.google.com/notebooks/data_table.ipynb>data table notebook</a>'\n",
              "            + ' to learn more about interactive tables.';\n",
              "          element.innerHTML = '';\n",
              "          dataTable['output_type'] = 'display_data';\n",
              "          await google.colab.output.renderOutput(dataTable, element);\n",
              "          const docLink = document.createElement('div');\n",
              "          docLink.innerHTML = docLinkHtml;\n",
              "          element.appendChild(docLink);\n",
              "        }\n",
              "      </script>\n",
              "    </div>\n",
              "  </div>\n",
              "  "
            ]
          },
          "metadata": {},
          "execution_count": 21
        }
      ]
    },
    {
      "cell_type": "code",
      "source": [
        "# Confirm the unique values of the mrg column\n",
        "dataset[\"mrg\"].value_counts()"
      ],
      "metadata": {
        "id": "D4zG1_X8cQ6_",
        "colab": {
          "base_uri": "https://localhost:8080/"
        },
        "outputId": "43609332-e945-452a-882c-da81d1f69118"
      },
      "execution_count": null,
      "outputs": [
        {
          "output_type": "execute_result",
          "data": {
            "text/plain": [
              "NO    1077024\n",
              "Name: mrg, dtype: int64"
            ]
          },
          "metadata": {},
          "execution_count": 22
        }
      ]
    },
    {
      "cell_type": "markdown",
      "metadata": {
        "id": "EJ5s2lLoBT8l"
      },
      "source": [
        "## 5.0 Feature Engineering\n",
        "### 5.1 Feature Encoding"
      ]
    },
    {
      "cell_type": "code",
      "execution_count": null,
      "metadata": {
        "id": "PzIfELJWBT8l",
        "colab": {
          "base_uri": "https://localhost:8080/"
        },
        "outputId": "800adf6a-ce49-4791-f1a1-b912f8e5d2ad"
      },
      "outputs": [
        {
          "output_type": "execute_result",
          "data": {
            "text/plain": [
              "user_id           1077024\n",
              "region                 14\n",
              "tenure                  8\n",
              "montant              4358\n",
              "frequence_rech        120\n",
              "revenue             31811\n",
              "arpu_segment        14063\n",
              "frequence              92\n",
              "data_volume         32460\n",
              "mrg                     1\n",
              "regularity             62\n",
              "top_pack              126\n",
              "freq_top_pack         207\n",
              "churn                   2\n",
              "dtype: int64"
            ]
          },
          "metadata": {},
          "execution_count": 23
        }
      ],
      "source": [
        "# Looking at the unique values in each column\n",
        "dataset.nunique()"
      ]
    },
    {
      "cell_type": "markdown",
      "source": [
        "**Initial columns to drop**\n",
        "- Due to the *low variability* of the \"mrg\" column, it will be dropped.\n",
        "- For the opposite reason - *too much variability* - the \"top_pack\" column will also be dropped\n",
        "- The \"region\" column is also a big risk since it is likely to add a lot of dimensionality to the work, and may cause a significant slowdown in training. It will also be dropped in the meantime.\n",
        "- The above will be dropped along with the \"user_id\" which is unique for every user, and will not provide any useful information to the models."
      ],
      "metadata": {
        "id": "EDrOBl6MiMUO"
      }
    },
    {
      "cell_type": "code",
      "source": [
        "# Drop the useless columns\n",
        "dataset.drop(columns = [\"user_id\", \"mrg\", \"top_pack\", \"region\", \"revenue\"], inplace = True)"
      ],
      "metadata": {
        "id": "l04ERz0mh6qf"
      },
      "execution_count": null,
      "outputs": []
    },
    {
      "cell_type": "code",
      "source": [
        "# Encode the TENURE column\n",
        "l_encoder = LabelEncoder()\n",
        "dataset[\"tenure\"] = l_encoder.fit_transform(dataset[\"tenure\"])"
      ],
      "metadata": {
        "id": "wIxe54ynPodw"
      },
      "execution_count": null,
      "outputs": []
    },
    {
      "cell_type": "code",
      "source": [
        "# Create a copy of the dataset\n",
        "complete_set = dataset.copy()\n",
        "complete_set.head()"
      ],
      "metadata": {
        "id": "I-pisETZPn88",
        "colab": {
          "base_uri": "https://localhost:8080/",
          "height": 206
        },
        "outputId": "15b97f08-d7f4-46b1-a57a-e8602b8fb9e5"
      },
      "execution_count": null,
      "outputs": [
        {
          "output_type": "execute_result",
          "data": {
            "text/plain": [
              "   tenure     montant  frequence_rech  arpu_segment  frequence  data_volume  \\\n",
              "0       7 20000.00000        47.00000    7201.00000   52.00000   8835.00000   \n",
              "1       7  5529.21090        11.52376    1835.35596   13.97444   3368.80172   \n",
              "2       7  5529.21090        11.52376    1835.35596   13.97444   3368.80172   \n",
              "3       7  7900.00000        19.00000    2632.00000   25.00000   9385.00000   \n",
              "4       7 12350.00000        21.00000    4117.00000   29.00000   9360.00000   \n",
              "\n",
              "   regularity  freq_top_pack  churn  \n",
              "0          62       30.00000      0  \n",
              "1           3        9.26245      0  \n",
              "2           1        9.26245      0  \n",
              "3          61        7.00000      0  \n",
              "4          56       11.00000      0  "
            ],
            "text/html": [
              "\n",
              "  <div id=\"df-58950e8e-acea-472b-b895-8ab673210447\">\n",
              "    <div class=\"colab-df-container\">\n",
              "      <div>\n",
              "<style scoped>\n",
              "    .dataframe tbody tr th:only-of-type {\n",
              "        vertical-align: middle;\n",
              "    }\n",
              "\n",
              "    .dataframe tbody tr th {\n",
              "        vertical-align: top;\n",
              "    }\n",
              "\n",
              "    .dataframe thead th {\n",
              "        text-align: right;\n",
              "    }\n",
              "</style>\n",
              "<table border=\"1\" class=\"dataframe\">\n",
              "  <thead>\n",
              "    <tr style=\"text-align: right;\">\n",
              "      <th></th>\n",
              "      <th>tenure</th>\n",
              "      <th>montant</th>\n",
              "      <th>frequence_rech</th>\n",
              "      <th>arpu_segment</th>\n",
              "      <th>frequence</th>\n",
              "      <th>data_volume</th>\n",
              "      <th>regularity</th>\n",
              "      <th>freq_top_pack</th>\n",
              "      <th>churn</th>\n",
              "    </tr>\n",
              "  </thead>\n",
              "  <tbody>\n",
              "    <tr>\n",
              "      <th>0</th>\n",
              "      <td>7</td>\n",
              "      <td>20000.00000</td>\n",
              "      <td>47.00000</td>\n",
              "      <td>7201.00000</td>\n",
              "      <td>52.00000</td>\n",
              "      <td>8835.00000</td>\n",
              "      <td>62</td>\n",
              "      <td>30.00000</td>\n",
              "      <td>0</td>\n",
              "    </tr>\n",
              "    <tr>\n",
              "      <th>1</th>\n",
              "      <td>7</td>\n",
              "      <td>5529.21090</td>\n",
              "      <td>11.52376</td>\n",
              "      <td>1835.35596</td>\n",
              "      <td>13.97444</td>\n",
              "      <td>3368.80172</td>\n",
              "      <td>3</td>\n",
              "      <td>9.26245</td>\n",
              "      <td>0</td>\n",
              "    </tr>\n",
              "    <tr>\n",
              "      <th>2</th>\n",
              "      <td>7</td>\n",
              "      <td>5529.21090</td>\n",
              "      <td>11.52376</td>\n",
              "      <td>1835.35596</td>\n",
              "      <td>13.97444</td>\n",
              "      <td>3368.80172</td>\n",
              "      <td>1</td>\n",
              "      <td>9.26245</td>\n",
              "      <td>0</td>\n",
              "    </tr>\n",
              "    <tr>\n",
              "      <th>3</th>\n",
              "      <td>7</td>\n",
              "      <td>7900.00000</td>\n",
              "      <td>19.00000</td>\n",
              "      <td>2632.00000</td>\n",
              "      <td>25.00000</td>\n",
              "      <td>9385.00000</td>\n",
              "      <td>61</td>\n",
              "      <td>7.00000</td>\n",
              "      <td>0</td>\n",
              "    </tr>\n",
              "    <tr>\n",
              "      <th>4</th>\n",
              "      <td>7</td>\n",
              "      <td>12350.00000</td>\n",
              "      <td>21.00000</td>\n",
              "      <td>4117.00000</td>\n",
              "      <td>29.00000</td>\n",
              "      <td>9360.00000</td>\n",
              "      <td>56</td>\n",
              "      <td>11.00000</td>\n",
              "      <td>0</td>\n",
              "    </tr>\n",
              "  </tbody>\n",
              "</table>\n",
              "</div>\n",
              "      <button class=\"colab-df-convert\" onclick=\"convertToInteractive('df-58950e8e-acea-472b-b895-8ab673210447')\"\n",
              "              title=\"Convert this dataframe to an interactive table.\"\n",
              "              style=\"display:none;\">\n",
              "        \n",
              "  <svg xmlns=\"http://www.w3.org/2000/svg\" height=\"24px\"viewBox=\"0 0 24 24\"\n",
              "       width=\"24px\">\n",
              "    <path d=\"M0 0h24v24H0V0z\" fill=\"none\"/>\n",
              "    <path d=\"M18.56 5.44l.94 2.06.94-2.06 2.06-.94-2.06-.94-.94-2.06-.94 2.06-2.06.94zm-11 1L8.5 8.5l.94-2.06 2.06-.94-2.06-.94L8.5 2.5l-.94 2.06-2.06.94zm10 10l.94 2.06.94-2.06 2.06-.94-2.06-.94-.94-2.06-.94 2.06-2.06.94z\"/><path d=\"M17.41 7.96l-1.37-1.37c-.4-.4-.92-.59-1.43-.59-.52 0-1.04.2-1.43.59L10.3 9.45l-7.72 7.72c-.78.78-.78 2.05 0 2.83L4 21.41c.39.39.9.59 1.41.59.51 0 1.02-.2 1.41-.59l7.78-7.78 2.81-2.81c.8-.78.8-2.07 0-2.86zM5.41 20L4 18.59l7.72-7.72 1.47 1.35L5.41 20z\"/>\n",
              "  </svg>\n",
              "      </button>\n",
              "      \n",
              "  <style>\n",
              "    .colab-df-container {\n",
              "      display:flex;\n",
              "      flex-wrap:wrap;\n",
              "      gap: 12px;\n",
              "    }\n",
              "\n",
              "    .colab-df-convert {\n",
              "      background-color: #E8F0FE;\n",
              "      border: none;\n",
              "      border-radius: 50%;\n",
              "      cursor: pointer;\n",
              "      display: none;\n",
              "      fill: #1967D2;\n",
              "      height: 32px;\n",
              "      padding: 0 0 0 0;\n",
              "      width: 32px;\n",
              "    }\n",
              "\n",
              "    .colab-df-convert:hover {\n",
              "      background-color: #E2EBFA;\n",
              "      box-shadow: 0px 1px 2px rgba(60, 64, 67, 0.3), 0px 1px 3px 1px rgba(60, 64, 67, 0.15);\n",
              "      fill: #174EA6;\n",
              "    }\n",
              "\n",
              "    [theme=dark] .colab-df-convert {\n",
              "      background-color: #3B4455;\n",
              "      fill: #D2E3FC;\n",
              "    }\n",
              "\n",
              "    [theme=dark] .colab-df-convert:hover {\n",
              "      background-color: #434B5C;\n",
              "      box-shadow: 0px 1px 3px 1px rgba(0, 0, 0, 0.15);\n",
              "      filter: drop-shadow(0px 1px 2px rgba(0, 0, 0, 0.3));\n",
              "      fill: #FFFFFF;\n",
              "    }\n",
              "  </style>\n",
              "\n",
              "      <script>\n",
              "        const buttonEl =\n",
              "          document.querySelector('#df-58950e8e-acea-472b-b895-8ab673210447 button.colab-df-convert');\n",
              "        buttonEl.style.display =\n",
              "          google.colab.kernel.accessAllowed ? 'block' : 'none';\n",
              "\n",
              "        async function convertToInteractive(key) {\n",
              "          const element = document.querySelector('#df-58950e8e-acea-472b-b895-8ab673210447');\n",
              "          const dataTable =\n",
              "            await google.colab.kernel.invokeFunction('convertToInteractive',\n",
              "                                                     [key], {});\n",
              "          if (!dataTable) return;\n",
              "\n",
              "          const docLinkHtml = 'Like what you see? Visit the ' +\n",
              "            '<a target=\"_blank\" href=https://colab.research.google.com/notebooks/data_table.ipynb>data table notebook</a>'\n",
              "            + ' to learn more about interactive tables.';\n",
              "          element.innerHTML = '';\n",
              "          dataTable['output_type'] = 'display_data';\n",
              "          await google.colab.output.renderOutput(dataTable, element);\n",
              "          const docLink = document.createElement('div');\n",
              "          docLink.innerHTML = docLinkHtml;\n",
              "          element.appendChild(docLink);\n",
              "        }\n",
              "      </script>\n",
              "    </div>\n",
              "  </div>\n",
              "  "
            ]
          },
          "metadata": {},
          "execution_count": 28
        }
      ]
    },
    {
      "cell_type": "code",
      "execution_count": null,
      "metadata": {
        "id": "SmSTZ0MvBT8n",
        "colab": {
          "base_uri": "https://localhost:8080/"
        },
        "outputId": "5e8f5d62-7939-4308-b661-03e8abc22e89"
      },
      "outputs": [
        {
          "output_type": "stream",
          "name": "stdout",
          "text": [
            "<class 'pandas.core.frame.DataFrame'>\n",
            "RangeIndex: 1077024 entries, 0 to 1077023\n",
            "Data columns (total 9 columns):\n",
            " #   Column          Non-Null Count    Dtype  \n",
            "---  ------          --------------    -----  \n",
            " 0   tenure          1077024 non-null  int64  \n",
            " 1   montant         1077024 non-null  float64\n",
            " 2   frequence_rech  1077024 non-null  float64\n",
            " 3   arpu_segment    1077024 non-null  float64\n",
            " 4   frequence       1077024 non-null  float64\n",
            " 5   data_volume     1077024 non-null  float64\n",
            " 6   regularity      1077024 non-null  int64  \n",
            " 7   freq_top_pack   1077024 non-null  float64\n",
            " 8   churn           1077024 non-null  int64  \n",
            "dtypes: float64(6), int64(3)\n",
            "memory usage: 74.0 MB\n"
          ]
        }
      ],
      "source": [
        "# View a high-level overview of the dataset\n",
        "complete_set.info()"
      ]
    },
    {
      "cell_type": "markdown",
      "metadata": {
        "id": "eDcmIunfBT8n"
      },
      "source": [
        "### 5.2 Feature Selection"
      ]
    },
    {
      "cell_type": "markdown",
      "metadata": {
        "id": "wQmOkxFiBT8o"
      },
      "source": [
        "#### 5.2.1 Correlation Matrix"
      ]
    },
    {
      "cell_type": "code",
      "execution_count": null,
      "metadata": {
        "id": "VxE0cR9PBT8o",
        "scrolled": false,
        "colab": {
          "base_uri": "https://localhost:8080/",
          "height": 542
        },
        "outputId": "9681fcff-8862-4ead-9987-823897998ece"
      },
      "outputs": [
        {
          "output_type": "display_data",
          "data": {
            "text/html": [
              "<html>\n",
              "<head><meta charset=\"utf-8\" /></head>\n",
              "<body>\n",
              "    <div>            <script src=\"https://cdnjs.cloudflare.com/ajax/libs/mathjax/2.7.5/MathJax.js?config=TeX-AMS-MML_SVG\"></script><script type=\"text/javascript\">if (window.MathJax) {MathJax.Hub.Config({SVG: {font: \"STIX-Web\"}});}</script>                <script type=\"text/javascript\">window.PlotlyConfig = {MathJaxConfig: 'local'};</script>\n",
              "        <script src=\"https://cdn.plot.ly/plotly-2.8.3.min.js\"></script>                <div id=\"348bc124-ca38-4081-a7c3-5c716285ba9c\" class=\"plotly-graph-div\" style=\"height:525px; width:100%;\"></div>            <script type=\"text/javascript\">                                    window.PLOTLYENV=window.PLOTLYENV || {};                                    if (document.getElementById(\"348bc124-ca38-4081-a7c3-5c716285ba9c\")) {                    Plotly.newPlot(                        \"348bc124-ca38-4081-a7c3-5c716285ba9c\",                        [{\"coloraxis\":\"coloraxis\",\"name\":\"0\",\"texttemplate\":\"%{z:.3f}\",\"x\":[\"tenure\",\"montant\",\"frequence_rech\",\"arpu_segment\",\"frequence\",\"data_volume\",\"regularity\",\"freq_top_pack\",\"churn\"],\"y\":[\"tenure\",\"montant\",\"frequence_rech\",\"arpu_segment\",\"frequence\",\"data_volume\",\"regularity\",\"freq_top_pack\",\"churn\"],\"z\":[[1.0,0.011485322899132233,0.00446820682876066,0.011988454395383322,0.004032846042167735,-0.016523485253468445,0.03222240404323265,0.006751339982139133,-0.04498046875536705],[0.011485322899132233,1.0,0.7918752654655534,0.961819355116337,0.7622261248954163,0.237015409744887,0.36752610931231844,0.7096403510843781,-0.04740262087284444],[0.00446820682876066,0.7918752654655534,1.0,0.786245952841176,0.9382015044565363,0.12760643826451806,0.39254499521140207,0.8392402046811303,-0.055853668998199386],[0.011988454395383322,0.961819355116337,0.786245952841176,1.0,0.7862071457601374,0.2459174316667886,0.38163679664729766,0.7179313410543344,-0.0541472394754411],[0.004032846042167735,0.7622261248954163,0.9382015044565363,0.7862071457601374,1.0,0.14197439195033656,0.42424799035445715,0.8086107009250848,-0.06625482410703604],[-0.016523485253468445,0.237015409744887,0.12760643826451806,0.2459174316667886,0.14197439195033656,1.0,0.12102639021543826,0.10004769453492837,-0.01598840428082698],[0.03222240404323265,0.36752610931231844,0.39254499521140207,0.38163679664729766,0.42424799035445715,0.12102639021543826,1.0,0.2839824313467545,-0.47974568648386706],[0.006751339982139133,0.7096403510843781,0.8392402046811303,0.7179313410543344,0.8086107009250848,0.10004769453492837,0.2839824313467545,1.0,-0.03323572066211275],[-0.04498046875536705,-0.04740262087284444,-0.055853668998199386,-0.0541472394754411,-0.06625482410703604,-0.01598840428082698,-0.47974568648386706,-0.03323572066211275,1.0]],\"type\":\"heatmap\",\"xaxis\":\"x\",\"yaxis\":\"y\",\"hovertemplate\":\"x: %{x}<br>y: %{y}<br>Correlation Coefficient: %{z}<extra></extra>\"}],                        {\"template\":{\"data\":{\"bar\":[{\"error_x\":{\"color\":\"#2a3f5f\"},\"error_y\":{\"color\":\"#2a3f5f\"},\"marker\":{\"line\":{\"color\":\"#E5ECF6\",\"width\":0.5},\"pattern\":{\"fillmode\":\"overlay\",\"size\":10,\"solidity\":0.2}},\"type\":\"bar\"}],\"barpolar\":[{\"marker\":{\"line\":{\"color\":\"#E5ECF6\",\"width\":0.5},\"pattern\":{\"fillmode\":\"overlay\",\"size\":10,\"solidity\":0.2}},\"type\":\"barpolar\"}],\"carpet\":[{\"aaxis\":{\"endlinecolor\":\"#2a3f5f\",\"gridcolor\":\"white\",\"linecolor\":\"white\",\"minorgridcolor\":\"white\",\"startlinecolor\":\"#2a3f5f\"},\"baxis\":{\"endlinecolor\":\"#2a3f5f\",\"gridcolor\":\"white\",\"linecolor\":\"white\",\"minorgridcolor\":\"white\",\"startlinecolor\":\"#2a3f5f\"},\"type\":\"carpet\"}],\"choropleth\":[{\"colorbar\":{\"outlinewidth\":0,\"ticks\":\"\"},\"type\":\"choropleth\"}],\"contour\":[{\"colorbar\":{\"outlinewidth\":0,\"ticks\":\"\"},\"colorscale\":[[0.0,\"#0d0887\"],[0.1111111111111111,\"#46039f\"],[0.2222222222222222,\"#7201a8\"],[0.3333333333333333,\"#9c179e\"],[0.4444444444444444,\"#bd3786\"],[0.5555555555555556,\"#d8576b\"],[0.6666666666666666,\"#ed7953\"],[0.7777777777777778,\"#fb9f3a\"],[0.8888888888888888,\"#fdca26\"],[1.0,\"#f0f921\"]],\"type\":\"contour\"}],\"contourcarpet\":[{\"colorbar\":{\"outlinewidth\":0,\"ticks\":\"\"},\"type\":\"contourcarpet\"}],\"heatmap\":[{\"colorbar\":{\"outlinewidth\":0,\"ticks\":\"\"},\"colorscale\":[[0.0,\"#0d0887\"],[0.1111111111111111,\"#46039f\"],[0.2222222222222222,\"#7201a8\"],[0.3333333333333333,\"#9c179e\"],[0.4444444444444444,\"#bd3786\"],[0.5555555555555556,\"#d8576b\"],[0.6666666666666666,\"#ed7953\"],[0.7777777777777778,\"#fb9f3a\"],[0.8888888888888888,\"#fdca26\"],[1.0,\"#f0f921\"]],\"type\":\"heatmap\"}],\"heatmapgl\":[{\"colorbar\":{\"outlinewidth\":0,\"ticks\":\"\"},\"colorscale\":[[0.0,\"#0d0887\"],[0.1111111111111111,\"#46039f\"],[0.2222222222222222,\"#7201a8\"],[0.3333333333333333,\"#9c179e\"],[0.4444444444444444,\"#bd3786\"],[0.5555555555555556,\"#d8576b\"],[0.6666666666666666,\"#ed7953\"],[0.7777777777777778,\"#fb9f3a\"],[0.8888888888888888,\"#fdca26\"],[1.0,\"#f0f921\"]],\"type\":\"heatmapgl\"}],\"histogram\":[{\"marker\":{\"pattern\":{\"fillmode\":\"overlay\",\"size\":10,\"solidity\":0.2}},\"type\":\"histogram\"}],\"histogram2d\":[{\"colorbar\":{\"outlinewidth\":0,\"ticks\":\"\"},\"colorscale\":[[0.0,\"#0d0887\"],[0.1111111111111111,\"#46039f\"],[0.2222222222222222,\"#7201a8\"],[0.3333333333333333,\"#9c179e\"],[0.4444444444444444,\"#bd3786\"],[0.5555555555555556,\"#d8576b\"],[0.6666666666666666,\"#ed7953\"],[0.7777777777777778,\"#fb9f3a\"],[0.8888888888888888,\"#fdca26\"],[1.0,\"#f0f921\"]],\"type\":\"histogram2d\"}],\"histogram2dcontour\":[{\"colorbar\":{\"outlinewidth\":0,\"ticks\":\"\"},\"colorscale\":[[0.0,\"#0d0887\"],[0.1111111111111111,\"#46039f\"],[0.2222222222222222,\"#7201a8\"],[0.3333333333333333,\"#9c179e\"],[0.4444444444444444,\"#bd3786\"],[0.5555555555555556,\"#d8576b\"],[0.6666666666666666,\"#ed7953\"],[0.7777777777777778,\"#fb9f3a\"],[0.8888888888888888,\"#fdca26\"],[1.0,\"#f0f921\"]],\"type\":\"histogram2dcontour\"}],\"mesh3d\":[{\"colorbar\":{\"outlinewidth\":0,\"ticks\":\"\"},\"type\":\"mesh3d\"}],\"parcoords\":[{\"line\":{\"colorbar\":{\"outlinewidth\":0,\"ticks\":\"\"}},\"type\":\"parcoords\"}],\"pie\":[{\"automargin\":true,\"type\":\"pie\"}],\"scatter\":[{\"marker\":{\"colorbar\":{\"outlinewidth\":0,\"ticks\":\"\"}},\"type\":\"scatter\"}],\"scatter3d\":[{\"line\":{\"colorbar\":{\"outlinewidth\":0,\"ticks\":\"\"}},\"marker\":{\"colorbar\":{\"outlinewidth\":0,\"ticks\":\"\"}},\"type\":\"scatter3d\"}],\"scattercarpet\":[{\"marker\":{\"colorbar\":{\"outlinewidth\":0,\"ticks\":\"\"}},\"type\":\"scattercarpet\"}],\"scattergeo\":[{\"marker\":{\"colorbar\":{\"outlinewidth\":0,\"ticks\":\"\"}},\"type\":\"scattergeo\"}],\"scattergl\":[{\"marker\":{\"colorbar\":{\"outlinewidth\":0,\"ticks\":\"\"}},\"type\":\"scattergl\"}],\"scattermapbox\":[{\"marker\":{\"colorbar\":{\"outlinewidth\":0,\"ticks\":\"\"}},\"type\":\"scattermapbox\"}],\"scatterpolar\":[{\"marker\":{\"colorbar\":{\"outlinewidth\":0,\"ticks\":\"\"}},\"type\":\"scatterpolar\"}],\"scatterpolargl\":[{\"marker\":{\"colorbar\":{\"outlinewidth\":0,\"ticks\":\"\"}},\"type\":\"scatterpolargl\"}],\"scatterternary\":[{\"marker\":{\"colorbar\":{\"outlinewidth\":0,\"ticks\":\"\"}},\"type\":\"scatterternary\"}],\"surface\":[{\"colorbar\":{\"outlinewidth\":0,\"ticks\":\"\"},\"colorscale\":[[0.0,\"#0d0887\"],[0.1111111111111111,\"#46039f\"],[0.2222222222222222,\"#7201a8\"],[0.3333333333333333,\"#9c179e\"],[0.4444444444444444,\"#bd3786\"],[0.5555555555555556,\"#d8576b\"],[0.6666666666666666,\"#ed7953\"],[0.7777777777777778,\"#fb9f3a\"],[0.8888888888888888,\"#fdca26\"],[1.0,\"#f0f921\"]],\"type\":\"surface\"}],\"table\":[{\"cells\":{\"fill\":{\"color\":\"#EBF0F8\"},\"line\":{\"color\":\"white\"}},\"header\":{\"fill\":{\"color\":\"#C8D4E3\"},\"line\":{\"color\":\"white\"}},\"type\":\"table\"}]},\"layout\":{\"annotationdefaults\":{\"arrowcolor\":\"#2a3f5f\",\"arrowhead\":0,\"arrowwidth\":1},\"autotypenumbers\":\"strict\",\"coloraxis\":{\"colorbar\":{\"outlinewidth\":0,\"ticks\":\"\"}},\"colorscale\":{\"diverging\":[[0,\"#8e0152\"],[0.1,\"#c51b7d\"],[0.2,\"#de77ae\"],[0.3,\"#f1b6da\"],[0.4,\"#fde0ef\"],[0.5,\"#f7f7f7\"],[0.6,\"#e6f5d0\"],[0.7,\"#b8e186\"],[0.8,\"#7fbc41\"],[0.9,\"#4d9221\"],[1,\"#276419\"]],\"sequential\":[[0.0,\"#0d0887\"],[0.1111111111111111,\"#46039f\"],[0.2222222222222222,\"#7201a8\"],[0.3333333333333333,\"#9c179e\"],[0.4444444444444444,\"#bd3786\"],[0.5555555555555556,\"#d8576b\"],[0.6666666666666666,\"#ed7953\"],[0.7777777777777778,\"#fb9f3a\"],[0.8888888888888888,\"#fdca26\"],[1.0,\"#f0f921\"]],\"sequentialminus\":[[0.0,\"#0d0887\"],[0.1111111111111111,\"#46039f\"],[0.2222222222222222,\"#7201a8\"],[0.3333333333333333,\"#9c179e\"],[0.4444444444444444,\"#bd3786\"],[0.5555555555555556,\"#d8576b\"],[0.6666666666666666,\"#ed7953\"],[0.7777777777777778,\"#fb9f3a\"],[0.8888888888888888,\"#fdca26\"],[1.0,\"#f0f921\"]]},\"colorway\":[\"#636efa\",\"#EF553B\",\"#00cc96\",\"#ab63fa\",\"#FFA15A\",\"#19d3f3\",\"#FF6692\",\"#B6E880\",\"#FF97FF\",\"#FECB52\"],\"font\":{\"color\":\"#2a3f5f\"},\"geo\":{\"bgcolor\":\"white\",\"lakecolor\":\"white\",\"landcolor\":\"#E5ECF6\",\"showlakes\":true,\"showland\":true,\"subunitcolor\":\"white\"},\"hoverlabel\":{\"align\":\"left\"},\"hovermode\":\"closest\",\"mapbox\":{\"style\":\"light\"},\"paper_bgcolor\":\"white\",\"plot_bgcolor\":\"#E5ECF6\",\"polar\":{\"angularaxis\":{\"gridcolor\":\"white\",\"linecolor\":\"white\",\"ticks\":\"\"},\"bgcolor\":\"#E5ECF6\",\"radialaxis\":{\"gridcolor\":\"white\",\"linecolor\":\"white\",\"ticks\":\"\"}},\"scene\":{\"xaxis\":{\"backgroundcolor\":\"#E5ECF6\",\"gridcolor\":\"white\",\"gridwidth\":2,\"linecolor\":\"white\",\"showbackground\":true,\"ticks\":\"\",\"zerolinecolor\":\"white\"},\"yaxis\":{\"backgroundcolor\":\"#E5ECF6\",\"gridcolor\":\"white\",\"gridwidth\":2,\"linecolor\":\"white\",\"showbackground\":true,\"ticks\":\"\",\"zerolinecolor\":\"white\"},\"zaxis\":{\"backgroundcolor\":\"#E5ECF6\",\"gridcolor\":\"white\",\"gridwidth\":2,\"linecolor\":\"white\",\"showbackground\":true,\"ticks\":\"\",\"zerolinecolor\":\"white\"}},\"shapedefaults\":{\"line\":{\"color\":\"#2a3f5f\"}},\"ternary\":{\"aaxis\":{\"gridcolor\":\"white\",\"linecolor\":\"white\",\"ticks\":\"\"},\"baxis\":{\"gridcolor\":\"white\",\"linecolor\":\"white\",\"ticks\":\"\"},\"bgcolor\":\"#E5ECF6\",\"caxis\":{\"gridcolor\":\"white\",\"linecolor\":\"white\",\"ticks\":\"\"}},\"title\":{\"x\":0.05},\"xaxis\":{\"automargin\":true,\"gridcolor\":\"white\",\"linecolor\":\"white\",\"ticks\":\"\",\"title\":{\"standoff\":15},\"zerolinecolor\":\"white\",\"zerolinewidth\":2},\"yaxis\":{\"automargin\":true,\"gridcolor\":\"white\",\"linecolor\":\"white\",\"ticks\":\"\",\"title\":{\"standoff\":15},\"zerolinecolor\":\"white\",\"zerolinewidth\":2}}},\"xaxis\":{\"anchor\":\"y\",\"domain\":[0.0,1.0],\"side\":\"top\"},\"yaxis\":{\"anchor\":\"x\",\"domain\":[0.0,1.0],\"autorange\":\"reversed\"},\"coloraxis\":{\"colorbar\":{\"title\":{\"text\":\"Correlation Coefficient\"}},\"colorscale\":[[0.0,\"rgb(255,255,255)\"],[0.2,\"rgb(255, 255, 153)\"],[0.4,\"rgb(153, 255, 204)\"],[0.6,\"rgb(179, 217, 255)\"],[0.8,\"rgb(240, 179, 255)\"],[1.0,\"rgb(255, 77, 148)\"]]},\"margin\":{\"t\":60}},                        {\"responsive\": true}                    ).then(function(){\n",
              "                            \n",
              "var gd = document.getElementById('348bc124-ca38-4081-a7c3-5c716285ba9c');\n",
              "var x = new MutationObserver(function (mutations, observer) {{\n",
              "        var display = window.getComputedStyle(gd).display;\n",
              "        if (!display || display === 'none') {{\n",
              "            console.log([gd, 'removed!']);\n",
              "            Plotly.purge(gd);\n",
              "            observer.disconnect();\n",
              "        }}\n",
              "}});\n",
              "\n",
              "// Listen for the removal of the full notebook cells\n",
              "var notebookContainer = gd.closest('#notebook-container');\n",
              "if (notebookContainer) {{\n",
              "    x.observe(notebookContainer, {childList: true});\n",
              "}}\n",
              "\n",
              "// Listen for the clearing of the current output cell\n",
              "var outputEl = gd.closest('.output');\n",
              "if (outputEl) {{\n",
              "    x.observe(outputEl, {childList: true});\n",
              "}}\n",
              "\n",
              "                        })                };                            </script>        </div>\n",
              "</body>\n",
              "</html>"
            ]
          },
          "metadata": {}
        }
      ],
      "source": [
        "# Looking at the correlation between the variables in the merged dataframe\n",
        "correlation = pd.DataFrame(complete_set.corr())\n",
        "\n",
        "# Defining a colourscale for the correlation plot\n",
        "colorscale = [[0.0, \"rgb(255,255,255)\"], [0.2, \"rgb(255, 255, 153)\"],\n",
        "              [0.4, \"rgb(153, 255, 204)\"], [0.6, \"rgb(179, 217, 255)\"],\n",
        "              [0.8, \"rgb(240, 179, 255)\"], [1.0, \"rgb(255, 77, 148)\"]]\n",
        "\n",
        "# Plotting the Correlation Matrix\n",
        "fig = px.imshow(correlation,\n",
        "                text_auto= \".3f\",\n",
        "                aspect= \"auto\",\n",
        "                labels= {\"color\": \"Correlation Coefficient\"},\n",
        "                contrast_rescaling= \"minmax\",\n",
        "                color_continuous_scale= colorscale\n",
        "                )\n",
        "fig.update_xaxes(side=\"top\")\n",
        "fig.show()"
      ]
    },
    {
      "cell_type": "markdown",
      "metadata": {
        "id": "N4X3PK_rBT8o"
      },
      "source": [
        "The correlation matrix presents a more comprehensive view on the nature of the relationships between the various variables  in the dataset, but it is not so clear due to the number of features. \n",
        "\n",
        "One thing that does stand out is the perfect positive correlation between \"revenue\" and \"arpu_segment\". The \"arpu_segment\" column will therefore be dropped before modelling."
      ]
    },
    {
      "cell_type": "markdown",
      "metadata": {
        "id": "g_kFa3KFBT8q"
      },
      "source": [
        "## 6.0 Modelling"
      ]
    },
    {
      "cell_type": "code",
      "execution_count": null,
      "metadata": {
        "id": "cWO1jpqdBT8o"
      },
      "outputs": [],
      "source": [
        "# Defining the target & predictor variables\n",
        "X = complete_set.drop(columns=[\"churn\"])\n",
        "y = complete_set[\"churn\"]\n",
        "\n",
        "# Splitting the dataframe into train and test\n",
        "X_train, X_eval, y_train, y_eval = train_test_split(X, y, test_size=0.3, random_state= 24, stratify= y)"
      ]
    },
    {
      "cell_type": "code",
      "source": [
        "# Putt the training dataset together for further splitting and modelling\n",
        "train_data = X_train.join(y_train, on=X_train.index)\n",
        "train_data.head()"
      ],
      "metadata": {
        "id": "oWUO8E6iTfUr",
        "colab": {
          "base_uri": "https://localhost:8080/",
          "height": 206
        },
        "outputId": "ef8e1152-06cb-4813-fcef-fc99ad2e40f6"
      },
      "execution_count": null,
      "outputs": [
        {
          "output_type": "execute_result",
          "data": {
            "text/plain": [
              "        tenure     montant  frequence_rech  arpu_segment  frequence  \\\n",
              "252414       7  2250.00000         7.00000     750.00000    8.00000   \n",
              "268753       7  5529.21090        11.52376    1835.35596   13.97444   \n",
              "117153       7  4550.00000        10.00000    1217.00000   11.00000   \n",
              "70341        7  5529.21090        11.52376    1835.35596   13.97444   \n",
              "417693       7 11450.00000        25.00000    4067.00000   37.00000   \n",
              "\n",
              "        data_volume  regularity  freq_top_pack  churn  \n",
              "252414   3368.80172          43        3.00000      0  \n",
              "268753   3368.80172           1        9.26245      1  \n",
              "117153   3368.80172          49        5.00000      0  \n",
              "70341    3368.80172           1        9.26245      1  \n",
              "417693   3368.80172          43       21.00000      0  "
            ],
            "text/html": [
              "\n",
              "  <div id=\"df-cc3d7dd9-c8d6-464b-9e27-e3909a50fb02\">\n",
              "    <div class=\"colab-df-container\">\n",
              "      <div>\n",
              "<style scoped>\n",
              "    .dataframe tbody tr th:only-of-type {\n",
              "        vertical-align: middle;\n",
              "    }\n",
              "\n",
              "    .dataframe tbody tr th {\n",
              "        vertical-align: top;\n",
              "    }\n",
              "\n",
              "    .dataframe thead th {\n",
              "        text-align: right;\n",
              "    }\n",
              "</style>\n",
              "<table border=\"1\" class=\"dataframe\">\n",
              "  <thead>\n",
              "    <tr style=\"text-align: right;\">\n",
              "      <th></th>\n",
              "      <th>tenure</th>\n",
              "      <th>montant</th>\n",
              "      <th>frequence_rech</th>\n",
              "      <th>arpu_segment</th>\n",
              "      <th>frequence</th>\n",
              "      <th>data_volume</th>\n",
              "      <th>regularity</th>\n",
              "      <th>freq_top_pack</th>\n",
              "      <th>churn</th>\n",
              "    </tr>\n",
              "  </thead>\n",
              "  <tbody>\n",
              "    <tr>\n",
              "      <th>252414</th>\n",
              "      <td>7</td>\n",
              "      <td>2250.00000</td>\n",
              "      <td>7.00000</td>\n",
              "      <td>750.00000</td>\n",
              "      <td>8.00000</td>\n",
              "      <td>3368.80172</td>\n",
              "      <td>43</td>\n",
              "      <td>3.00000</td>\n",
              "      <td>0</td>\n",
              "    </tr>\n",
              "    <tr>\n",
              "      <th>268753</th>\n",
              "      <td>7</td>\n",
              "      <td>5529.21090</td>\n",
              "      <td>11.52376</td>\n",
              "      <td>1835.35596</td>\n",
              "      <td>13.97444</td>\n",
              "      <td>3368.80172</td>\n",
              "      <td>1</td>\n",
              "      <td>9.26245</td>\n",
              "      <td>1</td>\n",
              "    </tr>\n",
              "    <tr>\n",
              "      <th>117153</th>\n",
              "      <td>7</td>\n",
              "      <td>4550.00000</td>\n",
              "      <td>10.00000</td>\n",
              "      <td>1217.00000</td>\n",
              "      <td>11.00000</td>\n",
              "      <td>3368.80172</td>\n",
              "      <td>49</td>\n",
              "      <td>5.00000</td>\n",
              "      <td>0</td>\n",
              "    </tr>\n",
              "    <tr>\n",
              "      <th>70341</th>\n",
              "      <td>7</td>\n",
              "      <td>5529.21090</td>\n",
              "      <td>11.52376</td>\n",
              "      <td>1835.35596</td>\n",
              "      <td>13.97444</td>\n",
              "      <td>3368.80172</td>\n",
              "      <td>1</td>\n",
              "      <td>9.26245</td>\n",
              "      <td>1</td>\n",
              "    </tr>\n",
              "    <tr>\n",
              "      <th>417693</th>\n",
              "      <td>7</td>\n",
              "      <td>11450.00000</td>\n",
              "      <td>25.00000</td>\n",
              "      <td>4067.00000</td>\n",
              "      <td>37.00000</td>\n",
              "      <td>3368.80172</td>\n",
              "      <td>43</td>\n",
              "      <td>21.00000</td>\n",
              "      <td>0</td>\n",
              "    </tr>\n",
              "  </tbody>\n",
              "</table>\n",
              "</div>\n",
              "      <button class=\"colab-df-convert\" onclick=\"convertToInteractive('df-cc3d7dd9-c8d6-464b-9e27-e3909a50fb02')\"\n",
              "              title=\"Convert this dataframe to an interactive table.\"\n",
              "              style=\"display:none;\">\n",
              "        \n",
              "  <svg xmlns=\"http://www.w3.org/2000/svg\" height=\"24px\"viewBox=\"0 0 24 24\"\n",
              "       width=\"24px\">\n",
              "    <path d=\"M0 0h24v24H0V0z\" fill=\"none\"/>\n",
              "    <path d=\"M18.56 5.44l.94 2.06.94-2.06 2.06-.94-2.06-.94-.94-2.06-.94 2.06-2.06.94zm-11 1L8.5 8.5l.94-2.06 2.06-.94-2.06-.94L8.5 2.5l-.94 2.06-2.06.94zm10 10l.94 2.06.94-2.06 2.06-.94-2.06-.94-.94-2.06-.94 2.06-2.06.94z\"/><path d=\"M17.41 7.96l-1.37-1.37c-.4-.4-.92-.59-1.43-.59-.52 0-1.04.2-1.43.59L10.3 9.45l-7.72 7.72c-.78.78-.78 2.05 0 2.83L4 21.41c.39.39.9.59 1.41.59.51 0 1.02-.2 1.41-.59l7.78-7.78 2.81-2.81c.8-.78.8-2.07 0-2.86zM5.41 20L4 18.59l7.72-7.72 1.47 1.35L5.41 20z\"/>\n",
              "  </svg>\n",
              "      </button>\n",
              "      \n",
              "  <style>\n",
              "    .colab-df-container {\n",
              "      display:flex;\n",
              "      flex-wrap:wrap;\n",
              "      gap: 12px;\n",
              "    }\n",
              "\n",
              "    .colab-df-convert {\n",
              "      background-color: #E8F0FE;\n",
              "      border: none;\n",
              "      border-radius: 50%;\n",
              "      cursor: pointer;\n",
              "      display: none;\n",
              "      fill: #1967D2;\n",
              "      height: 32px;\n",
              "      padding: 0 0 0 0;\n",
              "      width: 32px;\n",
              "    }\n",
              "\n",
              "    .colab-df-convert:hover {\n",
              "      background-color: #E2EBFA;\n",
              "      box-shadow: 0px 1px 2px rgba(60, 64, 67, 0.3), 0px 1px 3px 1px rgba(60, 64, 67, 0.15);\n",
              "      fill: #174EA6;\n",
              "    }\n",
              "\n",
              "    [theme=dark] .colab-df-convert {\n",
              "      background-color: #3B4455;\n",
              "      fill: #D2E3FC;\n",
              "    }\n",
              "\n",
              "    [theme=dark] .colab-df-convert:hover {\n",
              "      background-color: #434B5C;\n",
              "      box-shadow: 0px 1px 3px 1px rgba(0, 0, 0, 0.15);\n",
              "      filter: drop-shadow(0px 1px 2px rgba(0, 0, 0, 0.3));\n",
              "      fill: #FFFFFF;\n",
              "    }\n",
              "  </style>\n",
              "\n",
              "      <script>\n",
              "        const buttonEl =\n",
              "          document.querySelector('#df-cc3d7dd9-c8d6-464b-9e27-e3909a50fb02 button.colab-df-convert');\n",
              "        buttonEl.style.display =\n",
              "          google.colab.kernel.accessAllowed ? 'block' : 'none';\n",
              "\n",
              "        async function convertToInteractive(key) {\n",
              "          const element = document.querySelector('#df-cc3d7dd9-c8d6-464b-9e27-e3909a50fb02');\n",
              "          const dataTable =\n",
              "            await google.colab.kernel.invokeFunction('convertToInteractive',\n",
              "                                                     [key], {});\n",
              "          if (!dataTable) return;\n",
              "\n",
              "          const docLinkHtml = 'Like what you see? Visit the ' +\n",
              "            '<a target=\"_blank\" href=https://colab.research.google.com/notebooks/data_table.ipynb>data table notebook</a>'\n",
              "            + ' to learn more about interactive tables.';\n",
              "          element.innerHTML = '';\n",
              "          dataTable['output_type'] = 'display_data';\n",
              "          await google.colab.output.renderOutput(dataTable, element);\n",
              "          const docLink = document.createElement('div');\n",
              "          docLink.innerHTML = docLinkHtml;\n",
              "          element.appendChild(docLink);\n",
              "        }\n",
              "      </script>\n",
              "    </div>\n",
              "  </div>\n",
              "  "
            ]
          },
          "metadata": {},
          "execution_count": 32
        }
      ]
    },
    {
      "cell_type": "code",
      "source": [
        "# What is the shape of the training data?\n",
        "train_data.shape"
      ],
      "metadata": {
        "id": "YRNKxRa7TfM5",
        "colab": {
          "base_uri": "https://localhost:8080/"
        },
        "outputId": "ffdfb622-0aa6-4850-ec17-d7ae740204ea"
      },
      "execution_count": null,
      "outputs": [
        {
          "output_type": "execute_result",
          "data": {
            "text/plain": [
              "(753916, 9)"
            ]
          },
          "metadata": {},
          "execution_count": 33
        }
      ]
    },
    {
      "cell_type": "code",
      "source": [
        "# Put the eval dataset together for future model evaluation\n",
        "eval_data = X_eval.join(y_eval, on= X_eval.index)\n",
        "eval_data.head()"
      ],
      "metadata": {
        "id": "owl9Br-lTfIv",
        "colab": {
          "base_uri": "https://localhost:8080/",
          "height": 206
        },
        "outputId": "80b02236-57fb-4722-82d3-e7f66e3c5151"
      },
      "execution_count": null,
      "outputs": [
        {
          "output_type": "execute_result",
          "data": {
            "text/plain": [
              "        tenure    montant  frequence_rech  arpu_segment  frequence  \\\n",
              "479752       7 3300.00000        12.00000    1132.00000   13.00000   \n",
              "652536       7 5529.21090        11.52376    1835.35596   13.97444   \n",
              "21009        7  500.00000         1.00000     333.00000    5.00000   \n",
              "977909       7  500.00000         1.00000     167.00000    1.00000   \n",
              "288527       7 3000.00000         6.00000    1000.00000    6.00000   \n",
              "\n",
              "        data_volume  regularity  freq_top_pack  churn  \n",
              "479752      0.00000          51       10.00000      0  \n",
              "652536   3368.80172           1        9.26245      0  \n",
              "21009       0.00000          42        9.26245      0  \n",
              "977909   3368.80172          24        1.00000      0  \n",
              "288527   3368.80172          15        6.00000      0  "
            ],
            "text/html": [
              "\n",
              "  <div id=\"df-0b9f49cc-82bb-4ac8-8d5d-aa126551ff09\">\n",
              "    <div class=\"colab-df-container\">\n",
              "      <div>\n",
              "<style scoped>\n",
              "    .dataframe tbody tr th:only-of-type {\n",
              "        vertical-align: middle;\n",
              "    }\n",
              "\n",
              "    .dataframe tbody tr th {\n",
              "        vertical-align: top;\n",
              "    }\n",
              "\n",
              "    .dataframe thead th {\n",
              "        text-align: right;\n",
              "    }\n",
              "</style>\n",
              "<table border=\"1\" class=\"dataframe\">\n",
              "  <thead>\n",
              "    <tr style=\"text-align: right;\">\n",
              "      <th></th>\n",
              "      <th>tenure</th>\n",
              "      <th>montant</th>\n",
              "      <th>frequence_rech</th>\n",
              "      <th>arpu_segment</th>\n",
              "      <th>frequence</th>\n",
              "      <th>data_volume</th>\n",
              "      <th>regularity</th>\n",
              "      <th>freq_top_pack</th>\n",
              "      <th>churn</th>\n",
              "    </tr>\n",
              "  </thead>\n",
              "  <tbody>\n",
              "    <tr>\n",
              "      <th>479752</th>\n",
              "      <td>7</td>\n",
              "      <td>3300.00000</td>\n",
              "      <td>12.00000</td>\n",
              "      <td>1132.00000</td>\n",
              "      <td>13.00000</td>\n",
              "      <td>0.00000</td>\n",
              "      <td>51</td>\n",
              "      <td>10.00000</td>\n",
              "      <td>0</td>\n",
              "    </tr>\n",
              "    <tr>\n",
              "      <th>652536</th>\n",
              "      <td>7</td>\n",
              "      <td>5529.21090</td>\n",
              "      <td>11.52376</td>\n",
              "      <td>1835.35596</td>\n",
              "      <td>13.97444</td>\n",
              "      <td>3368.80172</td>\n",
              "      <td>1</td>\n",
              "      <td>9.26245</td>\n",
              "      <td>0</td>\n",
              "    </tr>\n",
              "    <tr>\n",
              "      <th>21009</th>\n",
              "      <td>7</td>\n",
              "      <td>500.00000</td>\n",
              "      <td>1.00000</td>\n",
              "      <td>333.00000</td>\n",
              "      <td>5.00000</td>\n",
              "      <td>0.00000</td>\n",
              "      <td>42</td>\n",
              "      <td>9.26245</td>\n",
              "      <td>0</td>\n",
              "    </tr>\n",
              "    <tr>\n",
              "      <th>977909</th>\n",
              "      <td>7</td>\n",
              "      <td>500.00000</td>\n",
              "      <td>1.00000</td>\n",
              "      <td>167.00000</td>\n",
              "      <td>1.00000</td>\n",
              "      <td>3368.80172</td>\n",
              "      <td>24</td>\n",
              "      <td>1.00000</td>\n",
              "      <td>0</td>\n",
              "    </tr>\n",
              "    <tr>\n",
              "      <th>288527</th>\n",
              "      <td>7</td>\n",
              "      <td>3000.00000</td>\n",
              "      <td>6.00000</td>\n",
              "      <td>1000.00000</td>\n",
              "      <td>6.00000</td>\n",
              "      <td>3368.80172</td>\n",
              "      <td>15</td>\n",
              "      <td>6.00000</td>\n",
              "      <td>0</td>\n",
              "    </tr>\n",
              "  </tbody>\n",
              "</table>\n",
              "</div>\n",
              "      <button class=\"colab-df-convert\" onclick=\"convertToInteractive('df-0b9f49cc-82bb-4ac8-8d5d-aa126551ff09')\"\n",
              "              title=\"Convert this dataframe to an interactive table.\"\n",
              "              style=\"display:none;\">\n",
              "        \n",
              "  <svg xmlns=\"http://www.w3.org/2000/svg\" height=\"24px\"viewBox=\"0 0 24 24\"\n",
              "       width=\"24px\">\n",
              "    <path d=\"M0 0h24v24H0V0z\" fill=\"none\"/>\n",
              "    <path d=\"M18.56 5.44l.94 2.06.94-2.06 2.06-.94-2.06-.94-.94-2.06-.94 2.06-2.06.94zm-11 1L8.5 8.5l.94-2.06 2.06-.94-2.06-.94L8.5 2.5l-.94 2.06-2.06.94zm10 10l.94 2.06.94-2.06 2.06-.94-2.06-.94-.94-2.06-.94 2.06-2.06.94z\"/><path d=\"M17.41 7.96l-1.37-1.37c-.4-.4-.92-.59-1.43-.59-.52 0-1.04.2-1.43.59L10.3 9.45l-7.72 7.72c-.78.78-.78 2.05 0 2.83L4 21.41c.39.39.9.59 1.41.59.51 0 1.02-.2 1.41-.59l7.78-7.78 2.81-2.81c.8-.78.8-2.07 0-2.86zM5.41 20L4 18.59l7.72-7.72 1.47 1.35L5.41 20z\"/>\n",
              "  </svg>\n",
              "      </button>\n",
              "      \n",
              "  <style>\n",
              "    .colab-df-container {\n",
              "      display:flex;\n",
              "      flex-wrap:wrap;\n",
              "      gap: 12px;\n",
              "    }\n",
              "\n",
              "    .colab-df-convert {\n",
              "      background-color: #E8F0FE;\n",
              "      border: none;\n",
              "      border-radius: 50%;\n",
              "      cursor: pointer;\n",
              "      display: none;\n",
              "      fill: #1967D2;\n",
              "      height: 32px;\n",
              "      padding: 0 0 0 0;\n",
              "      width: 32px;\n",
              "    }\n",
              "\n",
              "    .colab-df-convert:hover {\n",
              "      background-color: #E2EBFA;\n",
              "      box-shadow: 0px 1px 2px rgba(60, 64, 67, 0.3), 0px 1px 3px 1px rgba(60, 64, 67, 0.15);\n",
              "      fill: #174EA6;\n",
              "    }\n",
              "\n",
              "    [theme=dark] .colab-df-convert {\n",
              "      background-color: #3B4455;\n",
              "      fill: #D2E3FC;\n",
              "    }\n",
              "\n",
              "    [theme=dark] .colab-df-convert:hover {\n",
              "      background-color: #434B5C;\n",
              "      box-shadow: 0px 1px 3px 1px rgba(0, 0, 0, 0.15);\n",
              "      filter: drop-shadow(0px 1px 2px rgba(0, 0, 0, 0.3));\n",
              "      fill: #FFFFFF;\n",
              "    }\n",
              "  </style>\n",
              "\n",
              "      <script>\n",
              "        const buttonEl =\n",
              "          document.querySelector('#df-0b9f49cc-82bb-4ac8-8d5d-aa126551ff09 button.colab-df-convert');\n",
              "        buttonEl.style.display =\n",
              "          google.colab.kernel.accessAllowed ? 'block' : 'none';\n",
              "\n",
              "        async function convertToInteractive(key) {\n",
              "          const element = document.querySelector('#df-0b9f49cc-82bb-4ac8-8d5d-aa126551ff09');\n",
              "          const dataTable =\n",
              "            await google.colab.kernel.invokeFunction('convertToInteractive',\n",
              "                                                     [key], {});\n",
              "          if (!dataTable) return;\n",
              "\n",
              "          const docLinkHtml = 'Like what you see? Visit the ' +\n",
              "            '<a target=\"_blank\" href=https://colab.research.google.com/notebooks/data_table.ipynb>data table notebook</a>'\n",
              "            + ' to learn more about interactive tables.';\n",
              "          element.innerHTML = '';\n",
              "          dataTable['output_type'] = 'display_data';\n",
              "          await google.colab.output.renderOutput(dataTable, element);\n",
              "          const docLink = document.createElement('div');\n",
              "          docLink.innerHTML = docLinkHtml;\n",
              "          element.appendChild(docLink);\n",
              "        }\n",
              "      </script>\n",
              "    </div>\n",
              "  </div>\n",
              "  "
            ]
          },
          "metadata": {},
          "execution_count": 34
        }
      ]
    },
    {
      "cell_type": "code",
      "source": [
        "# What is the shape of the test data?\n",
        "eval_data.shape"
      ],
      "metadata": {
        "id": "zonaeFrFTfFA",
        "colab": {
          "base_uri": "https://localhost:8080/"
        },
        "outputId": "8de47650-dfea-497b-e9a5-24f8a63fd7f3"
      },
      "execution_count": null,
      "outputs": [
        {
          "output_type": "execute_result",
          "data": {
            "text/plain": [
              "(323108, 9)"
            ]
          },
          "metadata": {},
          "execution_count": 35
        }
      ]
    },
    {
      "cell_type": "markdown",
      "source": [
        "## Balance the Training Data"
      ],
      "metadata": {
        "id": "WW6PxQQkFi-8"
      }
    },
    {
      "cell_type": "code",
      "source": [
        "# Split the training dataframe for the SMOTE balancing\n",
        "X = train_data.drop(columns=[\"churn\"])\n",
        "y = train_data[\"churn\"]"
      ],
      "metadata": {
        "id": "3aF9JjMJTfBd"
      },
      "execution_count": null,
      "outputs": []
    },
    {
      "cell_type": "code",
      "source": [
        "# Resample the training dataframe using SMOTE\n",
        "smote = SMOTE(sampling_strategy=\"minority\", n_jobs=-1, random_state=24)\n",
        "X, y = smote.fit_resample(X, y)\n",
        "y.value_counts()"
      ],
      "metadata": {
        "id": "PIsF2Wt7Te-S",
        "colab": {
          "base_uri": "https://localhost:8080/"
        },
        "outputId": "d59aca5d-29af-4189-a8ae-958081e2a471"
      },
      "execution_count": null,
      "outputs": [
        {
          "output_type": "execute_result",
          "data": {
            "text/plain": [
              "0    612521\n",
              "1    612521\n",
              "Name: churn, dtype: int64"
            ]
          },
          "metadata": {},
          "execution_count": 37
        }
      ]
    },
    {
      "cell_type": "code",
      "source": [
        "# Apply train_test_split to the SMOTE-sampled training data\n",
        "X_train, X_test, y_train, y_test = train_test_split(X, y, test_size=0.3, random_state= 24, stratify=y)\n",
        "y_train.value_counts()"
      ],
      "metadata": {
        "id": "qO9xz1VVTe5K",
        "colab": {
          "base_uri": "https://localhost:8080/"
        },
        "outputId": "f39a98b1-4ffd-47d4-abc2-6eb3160605e9"
      },
      "execution_count": null,
      "outputs": [
        {
          "output_type": "execute_result",
          "data": {
            "text/plain": [
              "1    428765\n",
              "0    428764\n",
              "Name: churn, dtype: int64"
            ]
          },
          "metadata": {},
          "execution_count": 38
        }
      ]
    },
    {
      "cell_type": "code",
      "source": [
        "# Define the list of columns to scale\n",
        "numerics.remove(\"churn\")\n",
        "numerics.remove(\"revenue\")\n",
        "numerics"
      ],
      "metadata": {
        "id": "jti5ksMKUxIF",
        "colab": {
          "base_uri": "https://localhost:8080/"
        },
        "outputId": "f775b74c-a925-42bc-9349-7d45ce6521cb"
      },
      "execution_count": null,
      "outputs": [
        {
          "output_type": "execute_result",
          "data": {
            "text/plain": [
              "['montant',\n",
              " 'frequence_rech',\n",
              " 'arpu_segment',\n",
              " 'frequence',\n",
              " 'data_volume',\n",
              " 'regularity',\n",
              " 'freq_top_pack']"
            ]
          },
          "metadata": {},
          "execution_count": 39
        }
      ]
    },
    {
      "cell_type": "code",
      "source": [
        "# Scale the numeric columns\n",
        "scaler = MinMaxScaler()\n",
        "X_train[numerics] = scaler.fit_transform(X_train[numerics])\n",
        "X_test[numerics] = scaler.transform(X_test[numerics])"
      ],
      "metadata": {
        "id": "2SnJTArbTe1W"
      },
      "execution_count": null,
      "outputs": []
    },
    {
      "cell_type": "code",
      "execution_count": null,
      "metadata": {
        "id": "5faPURqaBT9A"
      },
      "outputs": [],
      "source": [
        "# Define the models\n",
        "log_reg_model = LogisticRegression(random_state=24)\n",
        "dt_model = DecisionTreeClassifier(random_state=24)\n",
        "rf_model = RandomForestClassifier(random_state=24)\n",
        "xgb_model = XGBClassifier(random_state=24)\n",
        "catb_model = CatBoostClassifier(metric_period=100, random_state=24)\n",
        "lgb_model = lgb.LGBMClassifier(random_state=24)\n",
        "\n",
        "# Create a dictionary of the models\n",
        "smote_models = {\n",
        "    \"Logistic Regressor\": log_reg_model,\n",
        "    \"Decision Tree\": dt_model,\n",
        "    \"Random Forest\": rf_model,\n",
        "    \"XGBoost\": xgb_model,\n",
        "    \"CatBoost\": catb_model,\n",
        "    \"LightGBM\": lgb_model\n",
        "}"
      ]
    },
    {
      "cell_type": "code",
      "source": [
        "# Defining a helper function to fit models to data and score them\n",
        "def classification_fit_and_score(models, X_train= X_train, X_test= X_test, \n",
        "                                 y_train= y_train, y_test= y_test):\n",
        "    \n",
        "    # List to collect the results\n",
        "    results = []\n",
        "    \n",
        "    # Looping through the models to fit and score each\n",
        "    for name, model in models.items():\n",
        "\n",
        "        # fitting to the training data\n",
        "        model.fit(X_train, y_train)\n",
        "\n",
        "        # making predictions\n",
        "        y_pred = model.predict(X_test)\n",
        "        \n",
        "        # Append model performance results\n",
        "        results.append([\n",
        "        name,\n",
        "        precision_score(y_test, y_pred),\n",
        "        recall_score(y_test, y_pred),\n",
        "        f1_score(y_test, y_pred),\n",
        "        accuracy_score(y_test, y_pred),\n",
        "        roc_auc_score(y_test, y_pred)\n",
        "        ])\n",
        "\n",
        "        # Print Classification Report\n",
        "        model_classification_report = classification_report(y_test, y_pred)\n",
        "        print(f\"{name} Model Classification Report\", \"\\n\", model_classification_report, \"\\n\")\n",
        "        \n",
        "        # Defining the Confusion Matrix\n",
        "        model_confusion_matrix = pd.DataFrame(confusion_matrix(y_test, y_pred)).reset_index(drop=True)\n",
        "        print(f\"{name} Confusion Matrix:\", \"\\n\", model_confusion_matrix, \"\\n\")\n",
        "        \n",
        "        # Visualizing the Confusion Matrix\n",
        "        # Display Confusion Matrix directly from predictions\n",
        "        ConfusionMatrixDisplay.from_predictions(y_test, y_pred)\n",
        "        plt.show()\n",
        "        print(\"\\n\")\n",
        "\n",
        "        # Calculate and show the AUC and ROC\n",
        "        fpr, tpr, thresholds = roc_curve(y_test, y_pred)\n",
        "        plt.plot(fpr, tpr)\n",
        "        plt.xlabel(\"False Positive Rate\")\n",
        "        plt.ylabel(\"True Positive Rate\")\n",
        "        plt.show()\n",
        "        print(\"\\n\")\n",
        "        \n",
        "        print(f\"{name} AUC score: {roc_auc_score(y_test, y_pred)}\")\n",
        "        print(\"\\n\")\n",
        "\n",
        "        print(\"----- ----- \"*6, \"\\n\") \n",
        "        print(\"----- ----- ----- ----- ----- ----- ----- ----- ----- -----  -----  -----\", \"\\n\")\n",
        "    \n",
        "    # Put the results together\n",
        "    eval_df = pd.DataFrame(results, columns=[\"model\", \"precision\", \"recall\", \"f1_score\", \"accuracy\", \"auc\"])\n",
        "    eval_df.set_index(\"model\", inplace=True)\n",
        "    eval_df.sort_values(by = [\"auc\",\"f1_score\", \"accuracy\", \"recall\"], ascending = False, inplace = True)\n",
        "\n",
        "    return eval_df"
      ],
      "metadata": {
        "id": "6m58L4OsoHAi"
      },
      "execution_count": null,
      "outputs": []
    },
    {
      "cell_type": "code",
      "execution_count": null,
      "metadata": {
        "id": "i-p42k9CBT9A",
        "colab": {
          "base_uri": "https://localhost:8080/",
          "height": 1000
        },
        "outputId": "f20518f7-34ad-4d4b-a968-e522328ea85a"
      },
      "outputs": [
        {
          "output_type": "stream",
          "name": "stdout",
          "text": [
            "Logistic Regressor Model Classification Report \n",
            "               precision    recall  f1-score   support\n",
            "\n",
            "           0       0.87      0.75      0.81    183757\n",
            "           1       0.78      0.89      0.83    183756\n",
            "\n",
            "    accuracy                           0.82    367513\n",
            "   macro avg       0.83      0.82      0.82    367513\n",
            "weighted avg       0.83      0.82      0.82    367513\n",
            " \n",
            "\n",
            "Logistic Regressor Confusion Matrix: \n",
            "         0       1\n",
            "0  138068   45689\n",
            "1   19951  163805 \n",
            "\n"
          ]
        },
        {
          "output_type": "display_data",
          "data": {
            "text/plain": [
              "<Figure size 432x288 with 2 Axes>"
            ],
            "image/png": "[encoded data removed]"
          },
          "metadata": {
            "needs_background": "light"
          }
        },
        {
          "output_type": "stream",
          "name": "stdout",
          "text": [
            "\n",
            "\n"
          ]
        },
        {
          "output_type": "display_data",
          "data": {
            "text/plain": [
              "<Figure size 432x288 with 1 Axes>"
            ],
            "image/png": "[encoded data removed]"
          },
          "metadata": {
            "needs_background": "light"
          }
        },
        {
          "output_type": "stream",
          "name": "stdout",
          "text": [
            "\n",
            "\n",
            "Logistic Regressor AUC score: 0.8213942636924702\n",
            "\n",
            "\n",
            "----- ----- ----- ----- ----- ----- ----- ----- ----- ----- ----- -----  \n",
            "\n",
            "----- ----- ----- ----- ----- ----- ----- ----- ----- -----  -----  ----- \n",
            "\n",
            "Decision Tree Model Classification Report \n",
            "               precision    recall  f1-score   support\n",
            "\n",
            "           0       0.90      0.78      0.84    183757\n",
            "           1       0.81      0.92      0.86    183756\n",
            "\n",
            "    accuracy                           0.85    367513\n",
            "   macro avg       0.85      0.85      0.85    367513\n",
            "weighted avg       0.85      0.85      0.85    367513\n",
            " \n",
            "\n",
            "Decision Tree Confusion Matrix: \n",
            "         0       1\n",
            "0  143401   40356\n",
            "1   15533  168223 \n",
            "\n"
          ]
        },
        {
          "output_type": "display_data",
          "data": {
            "text/plain": [
              "<Figure size 432x288 with 2 Axes>"
            ],
            "image/png": "[encoded data removed]"
          },
          "metadata": {
            "needs_background": "light"
          }
        },
        {
          "output_type": "stream",
          "name": "stdout",
          "text": [
            "\n",
            "\n"
          ]
        },
        {
          "output_type": "display_data",
          "data": {
            "text/plain": [
              "<Figure size 432x288 with 1 Axes>"
            ],
            "image/png": "[encoded data removed]"
          },
          "metadata": {
            "needs_background": "light"
          }
        },
        {
          "output_type": "stream",
          "name": "stdout",
          "text": [
            "\n",
            "\n",
            "Decision Tree AUC score: 0.8479266516906208\n",
            "\n",
            "\n",
            "----- ----- ----- ----- ----- ----- ----- ----- ----- ----- ----- -----  \n",
            "\n",
            "----- ----- ----- ----- ----- ----- ----- ----- ----- -----  -----  ----- \n",
            "\n",
            "Random Forest Model Classification Report \n",
            "               precision    recall  f1-score   support\n",
            "\n",
            "           0       0.91      0.81      0.86    183757\n",
            "           1       0.83      0.92      0.87    183756\n",
            "\n",
            "    accuracy                           0.86    367513\n",
            "   macro avg       0.87      0.86      0.86    367513\n",
            "weighted avg       0.87      0.86      0.86    367513\n",
            " \n",
            "\n",
            "Random Forest Confusion Matrix: \n",
            "         0       1\n",
            "0  148651   35106\n",
            "1   14786  168970 \n",
            "\n"
          ]
        },
        {
          "output_type": "display_data",
          "data": {
            "text/plain": [
              "<Figure size 432x288 with 2 Axes>"
            ],
            "image/png": "[encoded data removed]"
          },
          "metadata": {
            "needs_background": "light"
          }
        },
        {
          "output_type": "stream",
          "name": "stdout",
          "text": [
            "\n",
            "\n"
          ]
        },
        {
          "output_type": "display_data",
          "data": {
            "text/plain": [
              "<Figure size 432x288 with 1 Axes>"
            ],
            "image/png": "[encoded data removed]"
          },
          "metadata": {
            "needs_background": "light"
          }
        },
        {
          "output_type": "stream",
          "name": "stdout",
          "text": [
            "\n",
            "\n",
            "Random Forest AUC score: 0.8642444084704262\n",
            "\n",
            "\n",
            "----- ----- ----- ----- ----- ----- ----- ----- ----- ----- ----- -----  \n",
            "\n",
            "----- ----- ----- ----- ----- ----- ----- ----- ----- -----  -----  ----- \n",
            "\n",
            "XGBoost Model Classification Report \n",
            "               precision    recall  f1-score   support\n",
            "\n",
            "           0       0.91      0.81      0.86    183757\n",
            "           1       0.83      0.92      0.87    183756\n",
            "\n",
            "    accuracy                           0.87    367513\n",
            "   macro avg       0.87      0.87      0.86    367513\n",
            "weighted avg       0.87      0.87      0.86    367513\n",
            " \n",
            "\n",
            "XGBoost Confusion Matrix: \n",
            "         0       1\n",
            "0  149634   34123\n",
            "1   15396  168360 \n",
            "\n"
          ]
        },
        {
          "output_type": "display_data",
          "data": {
            "text/plain": [
              "<Figure size 432x288 with 2 Axes>"
            ],
            "image/png": "[encoded data removed]"
          },
          "metadata": {
            "needs_background": "light"
          }
        },
        {
          "output_type": "stream",
          "name": "stdout",
          "text": [
            "\n",
            "\n"
          ]
        },
        {
          "output_type": "display_data",
          "data": {
            "text/plain": [
              "<Figure size 432x288 with 1 Axes>"
            ],
            "image/png": "[encoded data removed]"
          },
          "metadata": {
            "needs_background": "light"
          }
        },
        {
          "output_type": "stream",
          "name": "stdout",
          "text": [
            "\n",
            "\n",
            "XGBoost AUC score: 0.8652593267602886\n",
            "\n",
            "\n",
            "----- ----- ----- ----- ----- ----- ----- ----- ----- ----- ----- -----  \n",
            "\n",
            "----- ----- ----- ----- ----- ----- ----- ----- ----- -----  -----  ----- \n",
            "\n",
            "Learning rate set to 0.18426\n",
            "0:\tlearn: 0.5785996\ttotal: 195ms\tremaining: 3m 15s\n",
            "100:\tlearn: 0.3255276\ttotal: 14.6s\tremaining: 2m 9s\n",
            "200:\tlearn: 0.3182017\ttotal: 28.9s\tremaining: 1m 54s\n",
            "300:\tlearn: 0.3157945\ttotal: 43.2s\tremaining: 1m 40s\n",
            "400:\tlearn: 0.3142497\ttotal: 58.5s\tremaining: 1m 27s\n",
            "500:\tlearn: 0.3131419\ttotal: 1m 12s\tremaining: 1m 12s\n",
            "600:\tlearn: 0.3121180\ttotal: 1m 26s\tremaining: 57.7s\n",
            "700:\tlearn: 0.3112361\ttotal: 1m 41s\tremaining: 43.1s\n",
            "800:\tlearn: 0.3105023\ttotal: 1m 55s\tremaining: 28.6s\n",
            "900:\tlearn: 0.3097294\ttotal: 2m 10s\tremaining: 14.3s\n",
            "999:\tlearn: 0.3090671\ttotal: 2m 24s\tremaining: 0us\n",
            "CatBoost Model Classification Report \n",
            "               precision    recall  f1-score   support\n",
            "\n",
            "           0       0.91      0.81      0.86    183757\n",
            "           1       0.83      0.92      0.87    183756\n",
            "\n",
            "    accuracy                           0.87    367513\n",
            "   macro avg       0.87      0.87      0.87    367513\n",
            "weighted avg       0.87      0.87      0.87    367513\n",
            " \n",
            "\n",
            "CatBoost Confusion Matrix: \n",
            "         0       1\n",
            "0  149026   34731\n",
            "1   14458  169298 \n",
            "\n"
          ]
        },
        {
          "output_type": "display_data",
          "data": {
            "text/plain": [
              "<Figure size 432x288 with 2 Axes>"
            ],
            "image/png": "[encoded data removed]"
          },
          "metadata": {
            "needs_background": "light"
          }
        },
        {
          "output_type": "stream",
          "name": "stdout",
          "text": [
            "\n",
            "\n"
          ]
        },
        {
          "output_type": "display_data",
          "data": {
            "text/plain": [
              "<Figure size 432x288 with 1 Axes>"
            ],
            "image/png": "[encoded data removed]"
          },
          "metadata": {
            "needs_background": "light"
          }
        },
        {
          "output_type": "stream",
          "name": "stdout",
          "text": [
            "\n",
            "\n",
            "CatBoost AUC score: 0.8661572656268224\n",
            "\n",
            "\n",
            "----- ----- ----- ----- ----- ----- ----- ----- ----- ----- ----- -----  \n",
            "\n",
            "----- ----- ----- ----- ----- ----- ----- ----- ----- -----  -----  ----- \n",
            "\n",
            "LightGBM Model Classification Report \n",
            "               precision    recall  f1-score   support\n",
            "\n",
            "           0       0.91      0.81      0.85    183757\n",
            "           1       0.82      0.92      0.87    183756\n",
            "\n",
            "    accuracy                           0.86    367513\n",
            "   macro avg       0.87      0.86      0.86    367513\n",
            "weighted avg       0.87      0.86      0.86    367513\n",
            " \n",
            "\n",
            "LightGBM Confusion Matrix: \n",
            "         0       1\n",
            "0  147964   35793\n",
            "1   15351  168405 \n",
            "\n"
          ]
        },
        {
          "output_type": "display_data",
          "data": {
            "text/plain": [
              "<Figure size 432x288 with 2 Axes>"
            ],
            "image/png": "[encoded data removed]"
          },
          "metadata": {
            "needs_background": "light"
          }
        },
        {
          "output_type": "stream",
          "name": "stdout",
          "text": [
            "\n",
            "\n"
          ]
        },
        {
          "output_type": "display_data",
          "data": {
            "text/plain": [
              "<Figure size 432x288 with 1 Axes>"
            ],
            "image/png": "[encoded data removed]"
          },
          "metadata": {
            "needs_background": "light"
          }
        },
        {
          "output_type": "stream",
          "name": "stdout",
          "text": [
            "\n",
            "\n",
            "LightGBM AUC score: 0.8608377271610624\n",
            "\n",
            "\n",
            "----- ----- ----- ----- ----- ----- ----- ----- ----- ----- ----- -----  \n",
            "\n",
            "----- ----- ----- ----- ----- ----- ----- ----- ----- -----  -----  ----- \n",
            "\n"
          ]
        },
        {
          "output_type": "execute_result",
          "data": {
            "text/plain": [
              "                    precision  recall  f1_score  accuracy     auc\n",
              "model                                                            \n",
              "CatBoost              0.82977 0.92132   0.87315   0.86616 0.86616\n",
              "XGBoost               0.83148 0.91621   0.87179   0.86526 0.86526\n",
              "Random Forest         0.82798 0.91953   0.87136   0.86424 0.86424\n",
              "LightGBM              0.82471 0.91646   0.86817   0.86084 0.86084\n",
              "Decision Tree         0.80652 0.91547   0.85755   0.84793 0.84793\n",
              "Logistic Regressor    0.78191 0.89143   0.83308   0.82139 0.82139"
            ],
            "text/html": [
              "\n",
              "  <div id=\"df-d25595ad-d8c5-40a8-b991-c695ed284e36\">\n",
              "    <div class=\"colab-df-container\">\n",
              "      <div>\n",
              "<style scoped>\n",
              "    .dataframe tbody tr th:only-of-type {\n",
              "        vertical-align: middle;\n",
              "    }\n",
              "\n",
              "    .dataframe tbody tr th {\n",
              "        vertical-align: top;\n",
              "    }\n",
              "\n",
              "    .dataframe thead th {\n",
              "        text-align: right;\n",
              "    }\n",
              "</style>\n",
              "<table border=\"1\" class=\"dataframe\">\n",
              "  <thead>\n",
              "    <tr style=\"text-align: right;\">\n",
              "      <th></th>\n",
              "      <th>precision</th>\n",
              "      <th>recall</th>\n",
              "      <th>f1_score</th>\n",
              "      <th>accuracy</th>\n",
              "      <th>auc</th>\n",
              "    </tr>\n",
              "    <tr>\n",
              "      <th>model</th>\n",
              "      <th></th>\n",
              "      <th></th>\n",
              "      <th></th>\n",
              "      <th></th>\n",
              "      <th></th>\n",
              "    </tr>\n",
              "  </thead>\n",
              "  <tbody>\n",
              "    <tr>\n",
              "      <th>CatBoost</th>\n",
              "      <td>0.82977</td>\n",
              "      <td>0.92132</td>\n",
              "      <td>0.87315</td>\n",
              "      <td>0.86616</td>\n",
              "      <td>0.86616</td>\n",
              "    </tr>\n",
              "    <tr>\n",
              "      <th>XGBoost</th>\n",
              "      <td>0.83148</td>\n",
              "      <td>0.91621</td>\n",
              "      <td>0.87179</td>\n",
              "      <td>0.86526</td>\n",
              "      <td>0.86526</td>\n",
              "    </tr>\n",
              "    <tr>\n",
              "      <th>Random Forest</th>\n",
              "      <td>0.82798</td>\n",
              "      <td>0.91953</td>\n",
              "      <td>0.87136</td>\n",
              "      <td>0.86424</td>\n",
              "      <td>0.86424</td>\n",
              "    </tr>\n",
              "    <tr>\n",
              "      <th>LightGBM</th>\n",
              "      <td>0.82471</td>\n",
              "      <td>0.91646</td>\n",
              "      <td>0.86817</td>\n",
              "      <td>0.86084</td>\n",
              "      <td>0.86084</td>\n",
              "    </tr>\n",
              "    <tr>\n",
              "      <th>Decision Tree</th>\n",
              "      <td>0.80652</td>\n",
              "      <td>0.91547</td>\n",
              "      <td>0.85755</td>\n",
              "      <td>0.84793</td>\n",
              "      <td>0.84793</td>\n",
              "    </tr>\n",
              "    <tr>\n",
              "      <th>Logistic Regressor</th>\n",
              "      <td>0.78191</td>\n",
              "      <td>0.89143</td>\n",
              "      <td>0.83308</td>\n",
              "      <td>0.82139</td>\n",
              "      <td>0.82139</td>\n",
              "    </tr>\n",
              "  </tbody>\n",
              "</table>\n",
              "</div>\n",
              "      <button class=\"colab-df-convert\" onclick=\"convertToInteractive('df-d25595ad-d8c5-40a8-b991-c695ed284e36')\"\n",
              "              title=\"Convert this dataframe to an interactive table.\"\n",
              "              style=\"display:none;\">\n",
              "        \n",
              "  <svg xmlns=\"http://www.w3.org/2000/svg\" height=\"24px\"viewBox=\"0 0 24 24\"\n",
              "       width=\"24px\">\n",
              "    <path d=\"M0 0h24v24H0V0z\" fill=\"none\"/>\n",
              "    <path d=\"M18.56 5.44l.94 2.06.94-2.06 2.06-.94-2.06-.94-.94-2.06-.94 2.06-2.06.94zm-11 1L8.5 8.5l.94-2.06 2.06-.94-2.06-.94L8.5 2.5l-.94 2.06-2.06.94zm10 10l.94 2.06.94-2.06 2.06-.94-2.06-.94-.94-2.06-.94 2.06-2.06.94z\"/><path d=\"M17.41 7.96l-1.37-1.37c-.4-.4-.92-.59-1.43-.59-.52 0-1.04.2-1.43.59L10.3 9.45l-7.72 7.72c-.78.78-.78 2.05 0 2.83L4 21.41c.39.39.9.59 1.41.59.51 0 1.02-.2 1.41-.59l7.78-7.78 2.81-2.81c.8-.78.8-2.07 0-2.86zM5.41 20L4 18.59l7.72-7.72 1.47 1.35L5.41 20z\"/>\n",
              "  </svg>\n",
              "      </button>\n",
              "      \n",
              "  <style>\n",
              "    .colab-df-container {\n",
              "      display:flex;\n",
              "      flex-wrap:wrap;\n",
              "      gap: 12px;\n",
              "    }\n",
              "\n",
              "    .colab-df-convert {\n",
              "      background-color: #E8F0FE;\n",
              "      border: none;\n",
              "      border-radius: 50%;\n",
              "      cursor: pointer;\n",
              "      display: none;\n",
              "      fill: #1967D2;\n",
              "      height: 32px;\n",
              "      padding: 0 0 0 0;\n",
              "      width: 32px;\n",
              "    }\n",
              "\n",
              "    .colab-df-convert:hover {\n",
              "      background-color: #E2EBFA;\n",
              "      box-shadow: 0px 1px 2px rgba(60, 64, 67, 0.3), 0px 1px 3px 1px rgba(60, 64, 67, 0.15);\n",
              "      fill: #174EA6;\n",
              "    }\n",
              "\n",
              "    [theme=dark] .colab-df-convert {\n",
              "      background-color: #3B4455;\n",
              "      fill: #D2E3FC;\n",
              "    }\n",
              "\n",
              "    [theme=dark] .colab-df-convert:hover {\n",
              "      background-color: #434B5C;\n",
              "      box-shadow: 0px 1px 3px 1px rgba(0, 0, 0, 0.15);\n",
              "      filter: drop-shadow(0px 1px 2px rgba(0, 0, 0, 0.3));\n",
              "      fill: #FFFFFF;\n",
              "    }\n",
              "  </style>\n",
              "\n",
              "      <script>\n",
              "        const buttonEl =\n",
              "          document.querySelector('#df-d25595ad-d8c5-40a8-b991-c695ed284e36 button.colab-df-convert');\n",
              "        buttonEl.style.display =\n",
              "          google.colab.kernel.accessAllowed ? 'block' : 'none';\n",
              "\n",
              "        async function convertToInteractive(key) {\n",
              "          const element = document.querySelector('#df-d25595ad-d8c5-40a8-b991-c695ed284e36');\n",
              "          const dataTable =\n",
              "            await google.colab.kernel.invokeFunction('convertToInteractive',\n",
              "                                                     [key], {});\n",
              "          if (!dataTable) return;\n",
              "\n",
              "          const docLinkHtml = 'Like what you see? Visit the ' +\n",
              "            '<a target=\"_blank\" href=https://colab.research.google.com/notebooks/data_table.ipynb>data table notebook</a>'\n",
              "            + ' to learn more about interactive tables.';\n",
              "          element.innerHTML = '';\n",
              "          dataTable['output_type'] = 'display_data';\n",
              "          await google.colab.output.renderOutput(dataTable, element);\n",
              "          const docLink = document.createElement('div');\n",
              "          docLink.innerHTML = docLinkHtml;\n",
              "          element.appendChild(docLink);\n",
              "        }\n",
              "      </script>\n",
              "    </div>\n",
              "  </div>\n",
              "  "
            ]
          },
          "metadata": {},
          "execution_count": 43
        }
      ],
      "source": [
        "# Fit and evaluate the models\n",
        "model_performances = classification_fit_and_score(smote_models)\n",
        "model_performances"
      ]
    },
    {
      "cell_type": "markdown",
      "metadata": {
        "id": "2obkZB-WBT9J"
      },
      "source": [
        "## Evaluation on the Test Data"
      ]
    },
    {
      "cell_type": "code",
      "source": [
        "# Splitting the test data\n",
        "test_X = eval_data.drop(columns= [\"churn\"])\n",
        "test_y = eval_data[\"churn\"]"
      ],
      "metadata": {
        "id": "RLA_wS3xVGTT"
      },
      "execution_count": null,
      "outputs": []
    },
    {
      "cell_type": "code",
      "source": [
        "# Scale the numeric columns\n",
        "test_X[numerics] = scaler.transform(test_X[numerics])"
      ],
      "metadata": {
        "id": "ZEDQcVy7sQtf"
      },
      "execution_count": null,
      "outputs": []
    },
    {
      "cell_type": "code",
      "execution_count": null,
      "metadata": {
        "id": "FsAWhUDfBT9L",
        "colab": {
          "base_uri": "https://localhost:8080/"
        },
        "outputId": "70968781-21f8-416e-f3ea-63120bef2ef1"
      },
      "outputs": [
        {
          "output_type": "stream",
          "name": "stdout",
          "text": [
            "Learning rate set to 0.18426\n",
            "0:\tlearn: 0.5785996\ttotal: 138ms\tremaining: 2m 18s\n",
            "100:\tlearn: 0.3255276\ttotal: 18s\tremaining: 2m 40s\n",
            "200:\tlearn: 0.3182017\ttotal: 33.2s\tremaining: 2m 12s\n",
            "300:\tlearn: 0.3157945\ttotal: 47.5s\tremaining: 1m 50s\n",
            "400:\tlearn: 0.3142497\ttotal: 1m 1s\tremaining: 1m 32s\n",
            "500:\tlearn: 0.3131419\ttotal: 1m 16s\tremaining: 1m 16s\n",
            "600:\tlearn: 0.3121180\ttotal: 1m 31s\tremaining: 1m 1s\n",
            "700:\tlearn: 0.3112361\ttotal: 1m 45s\tremaining: 45.1s\n",
            "800:\tlearn: 0.3105023\ttotal: 1m 59s\tremaining: 29.7s\n",
            "900:\tlearn: 0.3097294\ttotal: 2m 13s\tremaining: 14.7s\n",
            "999:\tlearn: 0.3090671\ttotal: 2m 27s\tremaining: 0us\n"
          ]
        }
      ],
      "source": [
        "# Refit the top models to the training data\n",
        "## CatBoost Model\n",
        "catb_model = CatBoostClassifier(metric_period=100, random_state=24)\n",
        "catb_model.fit(X_train, y_train)\n",
        "\n",
        "## LightGBM\n",
        "lgb_model = lgb.LGBMClassifier(random_state=24)\n",
        "lgb_model.fit(X_train, y_train)\n",
        "\n",
        "## XGBoost\n",
        "xgb_model = XGBClassifier(random_state=24)\n",
        "xgb_model.fit(X_train, y_train)\n",
        "\n",
        "# Create a dictionary of the top models\n",
        "select_models = {\n",
        "    \"CatBoost\": catb_model,\n",
        "    \"LightGBM\": lgb_model,\n",
        "    \"XGBoost\": xgb_model\n",
        "}"
      ]
    },
    {
      "cell_type": "code",
      "execution_count": null,
      "metadata": {
        "id": "2hNLMHPvBT9L"
      },
      "outputs": [],
      "source": [
        "# Defining a helper function to evaluate the models at a go\n",
        "def model_evaluation(fit_models, X_test, y_test):\n",
        "    lst = []\n",
        "    for name, model in fit_models.items():\n",
        "        pred = model.predict(X_test)\n",
        "           \n",
        "        print(\"Confusion Matrix for the\", name, \"model\")\n",
        "        \n",
        "        # Confusion Matrix\n",
        "        conf_mat = confusion_matrix(y_test, pred, labels =[0,1])\n",
        "        conf_mat = pd.DataFrame(conf_mat,columns=[\"Actual Positive\", \"Actual Negative\"], \n",
        "                                index=[\"Predict Positive\", \"Predict Negative\"])\n",
        "        \n",
        "\n",
        "        # Visualize the Confusion Matrix\n",
        "        f, ax = plt.subplots()\n",
        "        sns.heatmap(conf_mat,\n",
        "                    annot= True,\n",
        "                    linewidth= 1.0,\n",
        "                    fmt= \".0f\",\n",
        "                    cmap= \"RdPu\",\n",
        "                    ax= ax\n",
        "                   )\n",
        "        plt.title(\"The Confusion Matrix of the Predictions\")\n",
        "        plt.show()\n",
        "        print(\"\\n\")\n",
        "\n",
        "\n",
        "        # Calculate and show the AUC and ROC\n",
        "        fpr, tpr, thresholds = roc_curve(y_test, pred)\n",
        "        plt.plot(fpr, tpr)\n",
        "        plt.xlabel(\"False Positive Rate\")\n",
        "        plt.ylabel(\"True Positive Rate\")\n",
        "        plt.show()\n",
        "        print(\"\\n\")\n",
        "        print(f\"{name} AUC score: {roc_auc_score(y_test, pred)}\")\n",
        "        print(\"\\n\")\n",
        "\n",
        "\n",
        "        lst.append([\n",
        "            name,\n",
        "            precision_score(y_test, pred),\n",
        "            recall_score(y_test, pred),\n",
        "            f1_score(y_test, pred),\n",
        "            accuracy_score(y_test, pred),\n",
        "            roc_auc_score(y_test, pred)\n",
        "        ])\n",
        "\n",
        "    \n",
        "        # Feature importances\n",
        "        importance = model.feature_importances_\n",
        "        importance = pd.DataFrame(importance, columns=[\"score\"]).reset_index()\n",
        "        importance[\"Feature\"] = list(X.columns)\n",
        "        importance.drop(columns=[\"index\"], inplace=True)\n",
        "\n",
        "        importance.sort_values(by=\"score\", ascending=False, ignore_index=True, inplace=True)\n",
        "\n",
        "        # Plotting the feature importances\n",
        "        fig = px.bar(importance, x=\"Feature\", y=\"score\")\n",
        "        fig.show()\n",
        "        \n",
        "        print(\"----- ----- ----- ----- ----- ----- ----- ----- ----- -----  -----  -----\", \"\\n\") \n",
        "        print(\"----- ----- ----- ----- ----- ----- ----- ----- ----- -----  -----  -----\", \"\\n\")\n",
        "\n",
        "    eval_df = pd.DataFrame(lst, columns=[\"model\", \"precision\", \"recall\", \"f1_score\", \"accuracy\", \"auc\"])\n",
        "    eval_df.set_index(\"model\", inplace=True)\n",
        "    eval_df.sort_values(by = [\"auc\", \"f1_score\", \"accuracy\", \"recall\"], ascending=False, inplace= True)\n",
        "\n",
        "    return eval_df"
      ]
    },
    {
      "cell_type": "code",
      "execution_count": null,
      "metadata": {
        "id": "zb-zZQNvBT9L",
        "colab": {
          "base_uri": "https://localhost:8080/",
          "height": 1000
        },
        "outputId": "4eecba24-fcfb-406a-ee2e-1fc7993ca5e4"
      },
      "outputs": [
        {
          "output_type": "stream",
          "name": "stdout",
          "text": [
            "Confusion Matrix for the CatBoost model\n"
          ]
        },
        {
          "output_type": "display_data",
          "data": {
            "text/plain": [
              "<Figure size 432x288 with 2 Axes>"
            ],
            "image/png": "[encoded data removed]"
          },
          "metadata": {
            "needs_background": "light"
          }
        },
        {
          "output_type": "stream",
          "name": "stdout",
          "text": [
            "\n",
            "\n"
          ]
        },
        {
          "output_type": "display_data",
          "data": {
            "text/plain": [
              "<Figure size 432x288 with 1 Axes>"
            ],
            "image/png": "[encoded data removed]"
          },
          "metadata": {
            "needs_background": "light"
          }
        },
        {
          "output_type": "stream",
          "name": "stdout",
          "text": [
            "\n",
            "\n",
            "CatBoost AUC score: 0.8202606293442863\n",
            "\n",
            "\n"
          ]
        },
        {
          "output_type": "display_data",
          "data": {
            "text/html": [
              "<html>\n",
              "<head><meta charset=\"utf-8\" /></head>\n",
              "<body>\n",
              "    <div>            <script src=\"https://cdnjs.cloudflare.com/ajax/libs/mathjax/2.7.5/MathJax.js?config=TeX-AMS-MML_SVG\"></script><script type=\"text/javascript\">if (window.MathJax) {MathJax.Hub.Config({SVG: {font: \"STIX-Web\"}});}</script>                <script type=\"text/javascript\">window.PlotlyConfig = {MathJaxConfig: 'local'};</script>\n",
              "        <script src=\"https://cdn.plot.ly/plotly-2.8.3.min.js\"></script>                <div id=\"bf27bd5e-baad-4558-866c-f92f8c6f6a67\" class=\"plotly-graph-div\" style=\"height:525px; width:100%;\"></div>            <script type=\"text/javascript\">                                    window.PLOTLYENV=window.PLOTLYENV || {};                                    if (document.getElementById(\"bf27bd5e-baad-4558-866c-f92f8c6f6a67\")) {                    Plotly.newPlot(                        \"bf27bd5e-baad-4558-866c-f92f8c6f6a67\",                        [{\"alignmentgroup\":\"True\",\"hovertemplate\":\"Feature=%{x}<br>score=%{y}<extra></extra>\",\"legendgroup\":\"\",\"marker\":{\"color\":\"#636efa\",\"pattern\":{\"shape\":\"\"}},\"name\":\"\",\"offsetgroup\":\"\",\"orientation\":\"v\",\"showlegend\":false,\"textposition\":\"auto\",\"x\":[\"frequence\",\"freq_top_pack\",\"frequence_rech\",\"regularity\",\"data_volume\",\"arpu_segment\",\"montant\",\"tenure\"],\"xaxis\":\"x\",\"y\":[34.15839737915771,27.241439469444597,18.89778069632642,10.455057139400191,4.792676489476307,2.3342344958459202,1.6666472313790932,0.45376709896974815],\"yaxis\":\"y\",\"type\":\"bar\"}],                        {\"template\":{\"data\":{\"bar\":[{\"error_x\":{\"color\":\"#2a3f5f\"},\"error_y\":{\"color\":\"#2a3f5f\"},\"marker\":{\"line\":{\"color\":\"#E5ECF6\",\"width\":0.5},\"pattern\":{\"fillmode\":\"overlay\",\"size\":10,\"solidity\":0.2}},\"type\":\"bar\"}],\"barpolar\":[{\"marker\":{\"line\":{\"color\":\"#E5ECF6\",\"width\":0.5},\"pattern\":{\"fillmode\":\"overlay\",\"size\":10,\"solidity\":0.2}},\"type\":\"barpolar\"}],\"carpet\":[{\"aaxis\":{\"endlinecolor\":\"#2a3f5f\",\"gridcolor\":\"white\",\"linecolor\":\"white\",\"minorgridcolor\":\"white\",\"startlinecolor\":\"#2a3f5f\"},\"baxis\":{\"endlinecolor\":\"#2a3f5f\",\"gridcolor\":\"white\",\"linecolor\":\"white\",\"minorgridcolor\":\"white\",\"startlinecolor\":\"#2a3f5f\"},\"type\":\"carpet\"}],\"choropleth\":[{\"colorbar\":{\"outlinewidth\":0,\"ticks\":\"\"},\"type\":\"choropleth\"}],\"contour\":[{\"colorbar\":{\"outlinewidth\":0,\"ticks\":\"\"},\"colorscale\":[[0.0,\"#0d0887\"],[0.1111111111111111,\"#46039f\"],[0.2222222222222222,\"#7201a8\"],[0.3333333333333333,\"#9c179e\"],[0.4444444444444444,\"#bd3786\"],[0.5555555555555556,\"#d8576b\"],[0.6666666666666666,\"#ed7953\"],[0.7777777777777778,\"#fb9f3a\"],[0.8888888888888888,\"#fdca26\"],[1.0,\"#f0f921\"]],\"type\":\"contour\"}],\"contourcarpet\":[{\"colorbar\":{\"outlinewidth\":0,\"ticks\":\"\"},\"type\":\"contourcarpet\"}],\"heatmap\":[{\"colorbar\":{\"outlinewidth\":0,\"ticks\":\"\"},\"colorscale\":[[0.0,\"#0d0887\"],[0.1111111111111111,\"#46039f\"],[0.2222222222222222,\"#7201a8\"],[0.3333333333333333,\"#9c179e\"],[0.4444444444444444,\"#bd3786\"],[0.5555555555555556,\"#d8576b\"],[0.6666666666666666,\"#ed7953\"],[0.7777777777777778,\"#fb9f3a\"],[0.8888888888888888,\"#fdca26\"],[1.0,\"#f0f921\"]],\"type\":\"heatmap\"}],\"heatmapgl\":[{\"colorbar\":{\"outlinewidth\":0,\"ticks\":\"\"},\"colorscale\":[[0.0,\"#0d0887\"],[0.1111111111111111,\"#46039f\"],[0.2222222222222222,\"#7201a8\"],[0.3333333333333333,\"#9c179e\"],[0.4444444444444444,\"#bd3786\"],[0.5555555555555556,\"#d8576b\"],[0.6666666666666666,\"#ed7953\"],[0.7777777777777778,\"#fb9f3a\"],[0.8888888888888888,\"#fdca26\"],[1.0,\"#f0f921\"]],\"type\":\"heatmapgl\"}],\"histogram\":[{\"marker\":{\"pattern\":{\"fillmode\":\"overlay\",\"size\":10,\"solidity\":0.2}},\"type\":\"histogram\"}],\"histogram2d\":[{\"colorbar\":{\"outlinewidth\":0,\"ticks\":\"\"},\"colorscale\":[[0.0,\"#0d0887\"],[0.1111111111111111,\"#46039f\"],[0.2222222222222222,\"#7201a8\"],[0.3333333333333333,\"#9c179e\"],[0.4444444444444444,\"#bd3786\"],[0.5555555555555556,\"#d8576b\"],[0.6666666666666666,\"#ed7953\"],[0.7777777777777778,\"#fb9f3a\"],[0.8888888888888888,\"#fdca26\"],[1.0,\"#f0f921\"]],\"type\":\"histogram2d\"}],\"histogram2dcontour\":[{\"colorbar\":{\"outlinewidth\":0,\"ticks\":\"\"},\"colorscale\":[[0.0,\"#0d0887\"],[0.1111111111111111,\"#46039f\"],[0.2222222222222222,\"#7201a8\"],[0.3333333333333333,\"#9c179e\"],[0.4444444444444444,\"#bd3786\"],[0.5555555555555556,\"#d8576b\"],[0.6666666666666666,\"#ed7953\"],[0.7777777777777778,\"#fb9f3a\"],[0.8888888888888888,\"#fdca26\"],[1.0,\"#f0f921\"]],\"type\":\"histogram2dcontour\"}],\"mesh3d\":[{\"colorbar\":{\"outlinewidth\":0,\"ticks\":\"\"},\"type\":\"mesh3d\"}],\"parcoords\":[{\"line\":{\"colorbar\":{\"outlinewidth\":0,\"ticks\":\"\"}},\"type\":\"parcoords\"}],\"pie\":[{\"automargin\":true,\"type\":\"pie\"}],\"scatter\":[{\"marker\":{\"colorbar\":{\"outlinewidth\":0,\"ticks\":\"\"}},\"type\":\"scatter\"}],\"scatter3d\":[{\"line\":{\"colorbar\":{\"outlinewidth\":0,\"ticks\":\"\"}},\"marker\":{\"colorbar\":{\"outlinewidth\":0,\"ticks\":\"\"}},\"type\":\"scatter3d\"}],\"scattercarpet\":[{\"marker\":{\"colorbar\":{\"outlinewidth\":0,\"ticks\":\"\"}},\"type\":\"scattercarpet\"}],\"scattergeo\":[{\"marker\":{\"colorbar\":{\"outlinewidth\":0,\"ticks\":\"\"}},\"type\":\"scattergeo\"}],\"scattergl\":[{\"marker\":{\"colorbar\":{\"outlinewidth\":0,\"ticks\":\"\"}},\"type\":\"scattergl\"}],\"scattermapbox\":[{\"marker\":{\"colorbar\":{\"outlinewidth\":0,\"ticks\":\"\"}},\"type\":\"scattermapbox\"}],\"scatterpolar\":[{\"marker\":{\"colorbar\":{\"outlinewidth\":0,\"ticks\":\"\"}},\"type\":\"scatterpolar\"}],\"scatterpolargl\":[{\"marker\":{\"colorbar\":{\"outlinewidth\":0,\"ticks\":\"\"}},\"type\":\"scatterpolargl\"}],\"scatterternary\":[{\"marker\":{\"colorbar\":{\"outlinewidth\":0,\"ticks\":\"\"}},\"type\":\"scatterternary\"}],\"surface\":[{\"colorbar\":{\"outlinewidth\":0,\"ticks\":\"\"},\"colorscale\":[[0.0,\"#0d0887\"],[0.1111111111111111,\"#46039f\"],[0.2222222222222222,\"#7201a8\"],[0.3333333333333333,\"#9c179e\"],[0.4444444444444444,\"#bd3786\"],[0.5555555555555556,\"#d8576b\"],[0.6666666666666666,\"#ed7953\"],[0.7777777777777778,\"#fb9f3a\"],[0.8888888888888888,\"#fdca26\"],[1.0,\"#f0f921\"]],\"type\":\"surface\"}],\"table\":[{\"cells\":{\"fill\":{\"color\":\"#EBF0F8\"},\"line\":{\"color\":\"white\"}},\"header\":{\"fill\":{\"color\":\"#C8D4E3\"},\"line\":{\"color\":\"white\"}},\"type\":\"table\"}]},\"layout\":{\"annotationdefaults\":{\"arrowcolor\":\"#2a3f5f\",\"arrowhead\":0,\"arrowwidth\":1},\"autotypenumbers\":\"strict\",\"coloraxis\":{\"colorbar\":{\"outlinewidth\":0,\"ticks\":\"\"}},\"colorscale\":{\"diverging\":[[0,\"#8e0152\"],[0.1,\"#c51b7d\"],[0.2,\"#de77ae\"],[0.3,\"#f1b6da\"],[0.4,\"#fde0ef\"],[0.5,\"#f7f7f7\"],[0.6,\"#e6f5d0\"],[0.7,\"#b8e186\"],[0.8,\"#7fbc41\"],[0.9,\"#4d9221\"],[1,\"#276419\"]],\"sequential\":[[0.0,\"#0d0887\"],[0.1111111111111111,\"#46039f\"],[0.2222222222222222,\"#7201a8\"],[0.3333333333333333,\"#9c179e\"],[0.4444444444444444,\"#bd3786\"],[0.5555555555555556,\"#d8576b\"],[0.6666666666666666,\"#ed7953\"],[0.7777777777777778,\"#fb9f3a\"],[0.8888888888888888,\"#fdca26\"],[1.0,\"#f0f921\"]],\"sequentialminus\":[[0.0,\"#0d0887\"],[0.1111111111111111,\"#46039f\"],[0.2222222222222222,\"#7201a8\"],[0.3333333333333333,\"#9c179e\"],[0.4444444444444444,\"#bd3786\"],[0.5555555555555556,\"#d8576b\"],[0.6666666666666666,\"#ed7953\"],[0.7777777777777778,\"#fb9f3a\"],[0.8888888888888888,\"#fdca26\"],[1.0,\"#f0f921\"]]},\"colorway\":[\"#636efa\",\"#EF553B\",\"#00cc96\",\"#ab63fa\",\"#FFA15A\",\"#19d3f3\",\"#FF6692\",\"#B6E880\",\"#FF97FF\",\"#FECB52\"],\"font\":{\"color\":\"#2a3f5f\"},\"geo\":{\"bgcolor\":\"white\",\"lakecolor\":\"white\",\"landcolor\":\"#E5ECF6\",\"showlakes\":true,\"showland\":true,\"subunitcolor\":\"white\"},\"hoverlabel\":{\"align\":\"left\"},\"hovermode\":\"closest\",\"mapbox\":{\"style\":\"light\"},\"paper_bgcolor\":\"white\",\"plot_bgcolor\":\"#E5ECF6\",\"polar\":{\"angularaxis\":{\"gridcolor\":\"white\",\"linecolor\":\"white\",\"ticks\":\"\"},\"bgcolor\":\"#E5ECF6\",\"radialaxis\":{\"gridcolor\":\"white\",\"linecolor\":\"white\",\"ticks\":\"\"}},\"scene\":{\"xaxis\":{\"backgroundcolor\":\"#E5ECF6\",\"gridcolor\":\"white\",\"gridwidth\":2,\"linecolor\":\"white\",\"showbackground\":true,\"ticks\":\"\",\"zerolinecolor\":\"white\"},\"yaxis\":{\"backgroundcolor\":\"#E5ECF6\",\"gridcolor\":\"white\",\"gridwidth\":2,\"linecolor\":\"white\",\"showbackground\":true,\"ticks\":\"\",\"zerolinecolor\":\"white\"},\"zaxis\":{\"backgroundcolor\":\"#E5ECF6\",\"gridcolor\":\"white\",\"gridwidth\":2,\"linecolor\":\"white\",\"showbackground\":true,\"ticks\":\"\",\"zerolinecolor\":\"white\"}},\"shapedefaults\":{\"line\":{\"color\":\"#2a3f5f\"}},\"ternary\":{\"aaxis\":{\"gridcolor\":\"white\",\"linecolor\":\"white\",\"ticks\":\"\"},\"baxis\":{\"gridcolor\":\"white\",\"linecolor\":\"white\",\"ticks\":\"\"},\"bgcolor\":\"#E5ECF6\",\"caxis\":{\"gridcolor\":\"white\",\"linecolor\":\"white\",\"ticks\":\"\"}},\"title\":{\"x\":0.05},\"xaxis\":{\"automargin\":true,\"gridcolor\":\"white\",\"linecolor\":\"white\",\"ticks\":\"\",\"title\":{\"standoff\":15},\"zerolinecolor\":\"white\",\"zerolinewidth\":2},\"yaxis\":{\"automargin\":true,\"gridcolor\":\"white\",\"linecolor\":\"white\",\"ticks\":\"\",\"title\":{\"standoff\":15},\"zerolinecolor\":\"white\",\"zerolinewidth\":2}}},\"xaxis\":{\"anchor\":\"y\",\"domain\":[0.0,1.0],\"title\":{\"text\":\"Feature\"}},\"yaxis\":{\"anchor\":\"x\",\"domain\":[0.0,1.0],\"title\":{\"text\":\"score\"}},\"legend\":{\"tracegroupgap\":0},\"margin\":{\"t\":60},\"barmode\":\"relative\"},                        {\"responsive\": true}                    ).then(function(){\n",
              "                            \n",
              "var gd = document.getElementById('bf27bd5e-baad-4558-866c-f92f8c6f6a67');\n",
              "var x = new MutationObserver(function (mutations, observer) {{\n",
              "        var display = window.getComputedStyle(gd).display;\n",
              "        if (!display || display === 'none') {{\n",
              "            console.log([gd, 'removed!']);\n",
              "            Plotly.purge(gd);\n",
              "            observer.disconnect();\n",
              "        }}\n",
              "}});\n",
              "\n",
              "// Listen for the removal of the full notebook cells\n",
              "var notebookContainer = gd.closest('#notebook-container');\n",
              "if (notebookContainer) {{\n",
              "    x.observe(notebookContainer, {childList: true});\n",
              "}}\n",
              "\n",
              "// Listen for the clearing of the current output cell\n",
              "var outputEl = gd.closest('.output');\n",
              "if (outputEl) {{\n",
              "    x.observe(outputEl, {childList: true});\n",
              "}}\n",
              "\n",
              "                        })                };                            </script>        </div>\n",
              "</body>\n",
              "</html>"
            ]
          },
          "metadata": {}
        },
        {
          "output_type": "stream",
          "name": "stdout",
          "text": [
            "----- ----- ----- ----- ----- ----- ----- ----- ----- -----  -----  ----- \n",
            "\n",
            "----- ----- ----- ----- ----- ----- ----- ----- ----- -----  -----  ----- \n",
            "\n",
            "Confusion Matrix for the LightGBM model\n"
          ]
        },
        {
          "output_type": "display_data",
          "data": {
            "text/plain": [
              "<Figure size 432x288 with 2 Axes>"
            ],
            "image/png": "[encoded data removed]"
          },
          "metadata": {
            "needs_background": "light"
          }
        },
        {
          "output_type": "stream",
          "name": "stdout",
          "text": [
            "\n",
            "\n"
          ]
        },
        {
          "output_type": "display_data",
          "data": {
            "text/plain": [
              "<Figure size 432x288 with 1 Axes>"
            ],
            "image/png": "[encoded data removed]"
          },
          "metadata": {
            "needs_background": "light"
          }
        },
        {
          "output_type": "stream",
          "name": "stdout",
          "text": [
            "\n",
            "\n",
            "LightGBM AUC score: 0.8234948559098896\n",
            "\n",
            "\n"
          ]
        },
        {
          "output_type": "display_data",
          "data": {
            "text/html": [
              "<html>\n",
              "<head><meta charset=\"utf-8\" /></head>\n",
              "<body>\n",
              "    <div>            <script src=\"https://cdnjs.cloudflare.com/ajax/libs/mathjax/2.7.5/MathJax.js?config=TeX-AMS-MML_SVG\"></script><script type=\"text/javascript\">if (window.MathJax) {MathJax.Hub.Config({SVG: {font: \"STIX-Web\"}});}</script>                <script type=\"text/javascript\">window.PlotlyConfig = {MathJaxConfig: 'local'};</script>\n",
              "        <script src=\"https://cdn.plot.ly/plotly-2.8.3.min.js\"></script>                <div id=\"11883ca6-561f-4508-967f-ea9b851a27a9\" class=\"plotly-graph-div\" style=\"height:525px; width:100%;\"></div>            <script type=\"text/javascript\">                                    window.PLOTLYENV=window.PLOTLYENV || {};                                    if (document.getElementById(\"11883ca6-561f-4508-967f-ea9b851a27a9\")) {                    Plotly.newPlot(                        \"11883ca6-561f-4508-967f-ea9b851a27a9\",                        [{\"alignmentgroup\":\"True\",\"hovertemplate\":\"Feature=%{x}<br>score=%{y}<extra></extra>\",\"legendgroup\":\"\",\"marker\":{\"color\":\"#636efa\",\"pattern\":{\"shape\":\"\"}},\"name\":\"\",\"offsetgroup\":\"\",\"orientation\":\"v\",\"showlegend\":false,\"textposition\":\"auto\",\"x\":[\"freq_top_pack\",\"frequence\",\"regularity\",\"data_volume\",\"frequence_rech\",\"arpu_segment\",\"montant\",\"tenure\"],\"xaxis\":\"x\",\"y\":[656,582,556,368,355,202,190,91],\"yaxis\":\"y\",\"type\":\"bar\"}],                        {\"template\":{\"data\":{\"bar\":[{\"error_x\":{\"color\":\"#2a3f5f\"},\"error_y\":{\"color\":\"#2a3f5f\"},\"marker\":{\"line\":{\"color\":\"#E5ECF6\",\"width\":0.5},\"pattern\":{\"fillmode\":\"overlay\",\"size\":10,\"solidity\":0.2}},\"type\":\"bar\"}],\"barpolar\":[{\"marker\":{\"line\":{\"color\":\"#E5ECF6\",\"width\":0.5},\"pattern\":{\"fillmode\":\"overlay\",\"size\":10,\"solidity\":0.2}},\"type\":\"barpolar\"}],\"carpet\":[{\"aaxis\":{\"endlinecolor\":\"#2a3f5f\",\"gridcolor\":\"white\",\"linecolor\":\"white\",\"minorgridcolor\":\"white\",\"startlinecolor\":\"#2a3f5f\"},\"baxis\":{\"endlinecolor\":\"#2a3f5f\",\"gridcolor\":\"white\",\"linecolor\":\"white\",\"minorgridcolor\":\"white\",\"startlinecolor\":\"#2a3f5f\"},\"type\":\"carpet\"}],\"choropleth\":[{\"colorbar\":{\"outlinewidth\":0,\"ticks\":\"\"},\"type\":\"choropleth\"}],\"contour\":[{\"colorbar\":{\"outlinewidth\":0,\"ticks\":\"\"},\"colorscale\":[[0.0,\"#0d0887\"],[0.1111111111111111,\"#46039f\"],[0.2222222222222222,\"#7201a8\"],[0.3333333333333333,\"#9c179e\"],[0.4444444444444444,\"#bd3786\"],[0.5555555555555556,\"#d8576b\"],[0.6666666666666666,\"#ed7953\"],[0.7777777777777778,\"#fb9f3a\"],[0.8888888888888888,\"#fdca26\"],[1.0,\"#f0f921\"]],\"type\":\"contour\"}],\"contourcarpet\":[{\"colorbar\":{\"outlinewidth\":0,\"ticks\":\"\"},\"type\":\"contourcarpet\"}],\"heatmap\":[{\"colorbar\":{\"outlinewidth\":0,\"ticks\":\"\"},\"colorscale\":[[0.0,\"#0d0887\"],[0.1111111111111111,\"#46039f\"],[0.2222222222222222,\"#7201a8\"],[0.3333333333333333,\"#9c179e\"],[0.4444444444444444,\"#bd3786\"],[0.5555555555555556,\"#d8576b\"],[0.6666666666666666,\"#ed7953\"],[0.7777777777777778,\"#fb9f3a\"],[0.8888888888888888,\"#fdca26\"],[1.0,\"#f0f921\"]],\"type\":\"heatmap\"}],\"heatmapgl\":[{\"colorbar\":{\"outlinewidth\":0,\"ticks\":\"\"},\"colorscale\":[[0.0,\"#0d0887\"],[0.1111111111111111,\"#46039f\"],[0.2222222222222222,\"#7201a8\"],[0.3333333333333333,\"#9c179e\"],[0.4444444444444444,\"#bd3786\"],[0.5555555555555556,\"#d8576b\"],[0.6666666666666666,\"#ed7953\"],[0.7777777777777778,\"#fb9f3a\"],[0.8888888888888888,\"#fdca26\"],[1.0,\"#f0f921\"]],\"type\":\"heatmapgl\"}],\"histogram\":[{\"marker\":{\"pattern\":{\"fillmode\":\"overlay\",\"size\":10,\"solidity\":0.2}},\"type\":\"histogram\"}],\"histogram2d\":[{\"colorbar\":{\"outlinewidth\":0,\"ticks\":\"\"},\"colorscale\":[[0.0,\"#0d0887\"],[0.1111111111111111,\"#46039f\"],[0.2222222222222222,\"#7201a8\"],[0.3333333333333333,\"#9c179e\"],[0.4444444444444444,\"#bd3786\"],[0.5555555555555556,\"#d8576b\"],[0.6666666666666666,\"#ed7953\"],[0.7777777777777778,\"#fb9f3a\"],[0.8888888888888888,\"#fdca26\"],[1.0,\"#f0f921\"]],\"type\":\"histogram2d\"}],\"histogram2dcontour\":[{\"colorbar\":{\"outlinewidth\":0,\"ticks\":\"\"},\"colorscale\":[[0.0,\"#0d0887\"],[0.1111111111111111,\"#46039f\"],[0.2222222222222222,\"#7201a8\"],[0.3333333333333333,\"#9c179e\"],[0.4444444444444444,\"#bd3786\"],[0.5555555555555556,\"#d8576b\"],[0.6666666666666666,\"#ed7953\"],[0.7777777777777778,\"#fb9f3a\"],[0.8888888888888888,\"#fdca26\"],[1.0,\"#f0f921\"]],\"type\":\"histogram2dcontour\"}],\"mesh3d\":[{\"colorbar\":{\"outlinewidth\":0,\"ticks\":\"\"},\"type\":\"mesh3d\"}],\"parcoords\":[{\"line\":{\"colorbar\":{\"outlinewidth\":0,\"ticks\":\"\"}},\"type\":\"parcoords\"}],\"pie\":[{\"automargin\":true,\"type\":\"pie\"}],\"scatter\":[{\"marker\":{\"colorbar\":{\"outlinewidth\":0,\"ticks\":\"\"}},\"type\":\"scatter\"}],\"scatter3d\":[{\"line\":{\"colorbar\":{\"outlinewidth\":0,\"ticks\":\"\"}},\"marker\":{\"colorbar\":{\"outlinewidth\":0,\"ticks\":\"\"}},\"type\":\"scatter3d\"}],\"scattercarpet\":[{\"marker\":{\"colorbar\":{\"outlinewidth\":0,\"ticks\":\"\"}},\"type\":\"scattercarpet\"}],\"scattergeo\":[{\"marker\":{\"colorbar\":{\"outlinewidth\":0,\"ticks\":\"\"}},\"type\":\"scattergeo\"}],\"scattergl\":[{\"marker\":{\"colorbar\":{\"outlinewidth\":0,\"ticks\":\"\"}},\"type\":\"scattergl\"}],\"scattermapbox\":[{\"marker\":{\"colorbar\":{\"outlinewidth\":0,\"ticks\":\"\"}},\"type\":\"scattermapbox\"}],\"scatterpolar\":[{\"marker\":{\"colorbar\":{\"outlinewidth\":0,\"ticks\":\"\"}},\"type\":\"scatterpolar\"}],\"scatterpolargl\":[{\"marker\":{\"colorbar\":{\"outlinewidth\":0,\"ticks\":\"\"}},\"type\":\"scatterpolargl\"}],\"scatterternary\":[{\"marker\":{\"colorbar\":{\"outlinewidth\":0,\"ticks\":\"\"}},\"type\":\"scatterternary\"}],\"surface\":[{\"colorbar\":{\"outlinewidth\":0,\"ticks\":\"\"},\"colorscale\":[[0.0,\"#0d0887\"],[0.1111111111111111,\"#46039f\"],[0.2222222222222222,\"#7201a8\"],[0.3333333333333333,\"#9c179e\"],[0.4444444444444444,\"#bd3786\"],[0.5555555555555556,\"#d8576b\"],[0.6666666666666666,\"#ed7953\"],[0.7777777777777778,\"#fb9f3a\"],[0.8888888888888888,\"#fdca26\"],[1.0,\"#f0f921\"]],\"type\":\"surface\"}],\"table\":[{\"cells\":{\"fill\":{\"color\":\"#EBF0F8\"},\"line\":{\"color\":\"white\"}},\"header\":{\"fill\":{\"color\":\"#C8D4E3\"},\"line\":{\"color\":\"white\"}},\"type\":\"table\"}]},\"layout\":{\"annotationdefaults\":{\"arrowcolor\":\"#2a3f5f\",\"arrowhead\":0,\"arrowwidth\":1},\"autotypenumbers\":\"strict\",\"coloraxis\":{\"colorbar\":{\"outlinewidth\":0,\"ticks\":\"\"}},\"colorscale\":{\"diverging\":[[0,\"#8e0152\"],[0.1,\"#c51b7d\"],[0.2,\"#de77ae\"],[0.3,\"#f1b6da\"],[0.4,\"#fde0ef\"],[0.5,\"#f7f7f7\"],[0.6,\"#e6f5d0\"],[0.7,\"#b8e186\"],[0.8,\"#7fbc41\"],[0.9,\"#4d9221\"],[1,\"#276419\"]],\"sequential\":[[0.0,\"#0d0887\"],[0.1111111111111111,\"#46039f\"],[0.2222222222222222,\"#7201a8\"],[0.3333333333333333,\"#9c179e\"],[0.4444444444444444,\"#bd3786\"],[0.5555555555555556,\"#d8576b\"],[0.6666666666666666,\"#ed7953\"],[0.7777777777777778,\"#fb9f3a\"],[0.8888888888888888,\"#fdca26\"],[1.0,\"#f0f921\"]],\"sequentialminus\":[[0.0,\"#0d0887\"],[0.1111111111111111,\"#46039f\"],[0.2222222222222222,\"#7201a8\"],[0.3333333333333333,\"#9c179e\"],[0.4444444444444444,\"#bd3786\"],[0.5555555555555556,\"#d8576b\"],[0.6666666666666666,\"#ed7953\"],[0.7777777777777778,\"#fb9f3a\"],[0.8888888888888888,\"#fdca26\"],[1.0,\"#f0f921\"]]},\"colorway\":[\"#636efa\",\"#EF553B\",\"#00cc96\",\"#ab63fa\",\"#FFA15A\",\"#19d3f3\",\"#FF6692\",\"#B6E880\",\"#FF97FF\",\"#FECB52\"],\"font\":{\"color\":\"#2a3f5f\"},\"geo\":{\"bgcolor\":\"white\",\"lakecolor\":\"white\",\"landcolor\":\"#E5ECF6\",\"showlakes\":true,\"showland\":true,\"subunitcolor\":\"white\"},\"hoverlabel\":{\"align\":\"left\"},\"hovermode\":\"closest\",\"mapbox\":{\"style\":\"light\"},\"paper_bgcolor\":\"white\",\"plot_bgcolor\":\"#E5ECF6\",\"polar\":{\"angularaxis\":{\"gridcolor\":\"white\",\"linecolor\":\"white\",\"ticks\":\"\"},\"bgcolor\":\"#E5ECF6\",\"radialaxis\":{\"gridcolor\":\"white\",\"linecolor\":\"white\",\"ticks\":\"\"}},\"scene\":{\"xaxis\":{\"backgroundcolor\":\"#E5ECF6\",\"gridcolor\":\"white\",\"gridwidth\":2,\"linecolor\":\"white\",\"showbackground\":true,\"ticks\":\"\",\"zerolinecolor\":\"white\"},\"yaxis\":{\"backgroundcolor\":\"#E5ECF6\",\"gridcolor\":\"white\",\"gridwidth\":2,\"linecolor\":\"white\",\"showbackground\":true,\"ticks\":\"\",\"zerolinecolor\":\"white\"},\"zaxis\":{\"backgroundcolor\":\"#E5ECF6\",\"gridcolor\":\"white\",\"gridwidth\":2,\"linecolor\":\"white\",\"showbackground\":true,\"ticks\":\"\",\"zerolinecolor\":\"white\"}},\"shapedefaults\":{\"line\":{\"color\":\"#2a3f5f\"}},\"ternary\":{\"aaxis\":{\"gridcolor\":\"white\",\"linecolor\":\"white\",\"ticks\":\"\"},\"baxis\":{\"gridcolor\":\"white\",\"linecolor\":\"white\",\"ticks\":\"\"},\"bgcolor\":\"#E5ECF6\",\"caxis\":{\"gridcolor\":\"white\",\"linecolor\":\"white\",\"ticks\":\"\"}},\"title\":{\"x\":0.05},\"xaxis\":{\"automargin\":true,\"gridcolor\":\"white\",\"linecolor\":\"white\",\"ticks\":\"\",\"title\":{\"standoff\":15},\"zerolinecolor\":\"white\",\"zerolinewidth\":2},\"yaxis\":{\"automargin\":true,\"gridcolor\":\"white\",\"linecolor\":\"white\",\"ticks\":\"\",\"title\":{\"standoff\":15},\"zerolinecolor\":\"white\",\"zerolinewidth\":2}}},\"xaxis\":{\"anchor\":\"y\",\"domain\":[0.0,1.0],\"title\":{\"text\":\"Feature\"}},\"yaxis\":{\"anchor\":\"x\",\"domain\":[0.0,1.0],\"title\":{\"text\":\"score\"}},\"legend\":{\"tracegroupgap\":0},\"margin\":{\"t\":60},\"barmode\":\"relative\"},                        {\"responsive\": true}                    ).then(function(){\n",
              "                            \n",
              "var gd = document.getElementById('11883ca6-561f-4508-967f-ea9b851a27a9');\n",
              "var x = new MutationObserver(function (mutations, observer) {{\n",
              "        var display = window.getComputedStyle(gd).display;\n",
              "        if (!display || display === 'none') {{\n",
              "            console.log([gd, 'removed!']);\n",
              "            Plotly.purge(gd);\n",
              "            observer.disconnect();\n",
              "        }}\n",
              "}});\n",
              "\n",
              "// Listen for the removal of the full notebook cells\n",
              "var notebookContainer = gd.closest('#notebook-container');\n",
              "if (notebookContainer) {{\n",
              "    x.observe(notebookContainer, {childList: true});\n",
              "}}\n",
              "\n",
              "// Listen for the clearing of the current output cell\n",
              "var outputEl = gd.closest('.output');\n",
              "if (outputEl) {{\n",
              "    x.observe(outputEl, {childList: true});\n",
              "}}\n",
              "\n",
              "                        })                };                            </script>        </div>\n",
              "</body>\n",
              "</html>"
            ]
          },
          "metadata": {}
        },
        {
          "output_type": "stream",
          "name": "stdout",
          "text": [
            "----- ----- ----- ----- ----- ----- ----- ----- ----- -----  -----  ----- \n",
            "\n",
            "----- ----- ----- ----- ----- ----- ----- ----- ----- -----  -----  ----- \n",
            "\n",
            "Confusion Matrix for the XGBoost model\n"
          ]
        },
        {
          "output_type": "display_data",
          "data": {
            "text/plain": [
              "<Figure size 432x288 with 2 Axes>"
            ],
            "image/png": "[encoded data removed]"
          },
          "metadata": {
            "needs_background": "light"
          }
        },
        {
          "output_type": "stream",
          "name": "stdout",
          "text": [
            "\n",
            "\n"
          ]
        },
        {
          "output_type": "display_data",
          "data": {
            "text/plain": [
              "<Figure size 432x288 with 1 Axes>"
            ],
            "image/png": "[encoded data removed]"
          },
          "metadata": {
            "needs_background": "light"
          }
        },
        {
          "output_type": "stream",
          "name": "stdout",
          "text": [
            "\n",
            "\n",
            "XGBoost AUC score: 0.8214930937286984\n",
            "\n",
            "\n"
          ]
        },
        {
          "output_type": "display_data",
          "data": {
            "text/html": [
              "<html>\n",
              "<head><meta charset=\"utf-8\" /></head>\n",
              "<body>\n",
              "    <div>            <script src=\"https://cdnjs.cloudflare.com/ajax/libs/mathjax/2.7.5/MathJax.js?config=TeX-AMS-MML_SVG\"></script><script type=\"text/javascript\">if (window.MathJax) {MathJax.Hub.Config({SVG: {font: \"STIX-Web\"}});}</script>                <script type=\"text/javascript\">window.PlotlyConfig = {MathJaxConfig: 'local'};</script>\n",
              "        <script src=\"https://cdn.plot.ly/plotly-2.8.3.min.js\"></script>                <div id=\"a91468ab-642c-426f-9cb1-a6e13ab29c68\" class=\"plotly-graph-div\" style=\"height:525px; width:100%;\"></div>            <script type=\"text/javascript\">                                    window.PLOTLYENV=window.PLOTLYENV || {};                                    if (document.getElementById(\"a91468ab-642c-426f-9cb1-a6e13ab29c68\")) {                    Plotly.newPlot(                        \"a91468ab-642c-426f-9cb1-a6e13ab29c68\",                        [{\"alignmentgroup\":\"True\",\"hovertemplate\":\"Feature=%{x}<br>score=%{y}<extra></extra>\",\"legendgroup\":\"\",\"marker\":{\"color\":\"#636efa\",\"pattern\":{\"shape\":\"\"}},\"name\":\"\",\"offsetgroup\":\"\",\"orientation\":\"v\",\"showlegend\":false,\"textposition\":\"auto\",\"x\":[\"regularity\",\"freq_top_pack\",\"frequence\",\"montant\",\"frequence_rech\",\"data_volume\",\"tenure\",\"arpu_segment\"],\"xaxis\":\"x\",\"y\":[0.6811282634735107,0.0836585983633995,0.07620697468519211,0.056702129542827606,0.05086088180541992,0.02337116003036499,0.015013763681054115,0.0130581920966506],\"yaxis\":\"y\",\"type\":\"bar\"}],                        {\"template\":{\"data\":{\"bar\":[{\"error_x\":{\"color\":\"#2a3f5f\"},\"error_y\":{\"color\":\"#2a3f5f\"},\"marker\":{\"line\":{\"color\":\"#E5ECF6\",\"width\":0.5},\"pattern\":{\"fillmode\":\"overlay\",\"size\":10,\"solidity\":0.2}},\"type\":\"bar\"}],\"barpolar\":[{\"marker\":{\"line\":{\"color\":\"#E5ECF6\",\"width\":0.5},\"pattern\":{\"fillmode\":\"overlay\",\"size\":10,\"solidity\":0.2}},\"type\":\"barpolar\"}],\"carpet\":[{\"aaxis\":{\"endlinecolor\":\"#2a3f5f\",\"gridcolor\":\"white\",\"linecolor\":\"white\",\"minorgridcolor\":\"white\",\"startlinecolor\":\"#2a3f5f\"},\"baxis\":{\"endlinecolor\":\"#2a3f5f\",\"gridcolor\":\"white\",\"linecolor\":\"white\",\"minorgridcolor\":\"white\",\"startlinecolor\":\"#2a3f5f\"},\"type\":\"carpet\"}],\"choropleth\":[{\"colorbar\":{\"outlinewidth\":0,\"ticks\":\"\"},\"type\":\"choropleth\"}],\"contour\":[{\"colorbar\":{\"outlinewidth\":0,\"ticks\":\"\"},\"colorscale\":[[0.0,\"#0d0887\"],[0.1111111111111111,\"#46039f\"],[0.2222222222222222,\"#7201a8\"],[0.3333333333333333,\"#9c179e\"],[0.4444444444444444,\"#bd3786\"],[0.5555555555555556,\"#d8576b\"],[0.6666666666666666,\"#ed7953\"],[0.7777777777777778,\"#fb9f3a\"],[0.8888888888888888,\"#fdca26\"],[1.0,\"#f0f921\"]],\"type\":\"contour\"}],\"contourcarpet\":[{\"colorbar\":{\"outlinewidth\":0,\"ticks\":\"\"},\"type\":\"contourcarpet\"}],\"heatmap\":[{\"colorbar\":{\"outlinewidth\":0,\"ticks\":\"\"},\"colorscale\":[[0.0,\"#0d0887\"],[0.1111111111111111,\"#46039f\"],[0.2222222222222222,\"#7201a8\"],[0.3333333333333333,\"#9c179e\"],[0.4444444444444444,\"#bd3786\"],[0.5555555555555556,\"#d8576b\"],[0.6666666666666666,\"#ed7953\"],[0.7777777777777778,\"#fb9f3a\"],[0.8888888888888888,\"#fdca26\"],[1.0,\"#f0f921\"]],\"type\":\"heatmap\"}],\"heatmapgl\":[{\"colorbar\":{\"outlinewidth\":0,\"ticks\":\"\"},\"colorscale\":[[0.0,\"#0d0887\"],[0.1111111111111111,\"#46039f\"],[0.2222222222222222,\"#7201a8\"],[0.3333333333333333,\"#9c179e\"],[0.4444444444444444,\"#bd3786\"],[0.5555555555555556,\"#d8576b\"],[0.6666666666666666,\"#ed7953\"],[0.7777777777777778,\"#fb9f3a\"],[0.8888888888888888,\"#fdca26\"],[1.0,\"#f0f921\"]],\"type\":\"heatmapgl\"}],\"histogram\":[{\"marker\":{\"pattern\":{\"fillmode\":\"overlay\",\"size\":10,\"solidity\":0.2}},\"type\":\"histogram\"}],\"histogram2d\":[{\"colorbar\":{\"outlinewidth\":0,\"ticks\":\"\"},\"colorscale\":[[0.0,\"#0d0887\"],[0.1111111111111111,\"#46039f\"],[0.2222222222222222,\"#7201a8\"],[0.3333333333333333,\"#9c179e\"],[0.4444444444444444,\"#bd3786\"],[0.5555555555555556,\"#d8576b\"],[0.6666666666666666,\"#ed7953\"],[0.7777777777777778,\"#fb9f3a\"],[0.8888888888888888,\"#fdca26\"],[1.0,\"#f0f921\"]],\"type\":\"histogram2d\"}],\"histogram2dcontour\":[{\"colorbar\":{\"outlinewidth\":0,\"ticks\":\"\"},\"colorscale\":[[0.0,\"#0d0887\"],[0.1111111111111111,\"#46039f\"],[0.2222222222222222,\"#7201a8\"],[0.3333333333333333,\"#9c179e\"],[0.4444444444444444,\"#bd3786\"],[0.5555555555555556,\"#d8576b\"],[0.6666666666666666,\"#ed7953\"],[0.7777777777777778,\"#fb9f3a\"],[0.8888888888888888,\"#fdca26\"],[1.0,\"#f0f921\"]],\"type\":\"histogram2dcontour\"}],\"mesh3d\":[{\"colorbar\":{\"outlinewidth\":0,\"ticks\":\"\"},\"type\":\"mesh3d\"}],\"parcoords\":[{\"line\":{\"colorbar\":{\"outlinewidth\":0,\"ticks\":\"\"}},\"type\":\"parcoords\"}],\"pie\":[{\"automargin\":true,\"type\":\"pie\"}],\"scatter\":[{\"marker\":{\"colorbar\":{\"outlinewidth\":0,\"ticks\":\"\"}},\"type\":\"scatter\"}],\"scatter3d\":[{\"line\":{\"colorbar\":{\"outlinewidth\":0,\"ticks\":\"\"}},\"marker\":{\"colorbar\":{\"outlinewidth\":0,\"ticks\":\"\"}},\"type\":\"scatter3d\"}],\"scattercarpet\":[{\"marker\":{\"colorbar\":{\"outlinewidth\":0,\"ticks\":\"\"}},\"type\":\"scattercarpet\"}],\"scattergeo\":[{\"marker\":{\"colorbar\":{\"outlinewidth\":0,\"ticks\":\"\"}},\"type\":\"scattergeo\"}],\"scattergl\":[{\"marker\":{\"colorbar\":{\"outlinewidth\":0,\"ticks\":\"\"}},\"type\":\"scattergl\"}],\"scattermapbox\":[{\"marker\":{\"colorbar\":{\"outlinewidth\":0,\"ticks\":\"\"}},\"type\":\"scattermapbox\"}],\"scatterpolar\":[{\"marker\":{\"colorbar\":{\"outlinewidth\":0,\"ticks\":\"\"}},\"type\":\"scatterpolar\"}],\"scatterpolargl\":[{\"marker\":{\"colorbar\":{\"outlinewidth\":0,\"ticks\":\"\"}},\"type\":\"scatterpolargl\"}],\"scatterternary\":[{\"marker\":{\"colorbar\":{\"outlinewidth\":0,\"ticks\":\"\"}},\"type\":\"scatterternary\"}],\"surface\":[{\"colorbar\":{\"outlinewidth\":0,\"ticks\":\"\"},\"colorscale\":[[0.0,\"#0d0887\"],[0.1111111111111111,\"#46039f\"],[0.2222222222222222,\"#7201a8\"],[0.3333333333333333,\"#9c179e\"],[0.4444444444444444,\"#bd3786\"],[0.5555555555555556,\"#d8576b\"],[0.6666666666666666,\"#ed7953\"],[0.7777777777777778,\"#fb9f3a\"],[0.8888888888888888,\"#fdca26\"],[1.0,\"#f0f921\"]],\"type\":\"surface\"}],\"table\":[{\"cells\":{\"fill\":{\"color\":\"#EBF0F8\"},\"line\":{\"color\":\"white\"}},\"header\":{\"fill\":{\"color\":\"#C8D4E3\"},\"line\":{\"color\":\"white\"}},\"type\":\"table\"}]},\"layout\":{\"annotationdefaults\":{\"arrowcolor\":\"#2a3f5f\",\"arrowhead\":0,\"arrowwidth\":1},\"autotypenumbers\":\"strict\",\"coloraxis\":{\"colorbar\":{\"outlinewidth\":0,\"ticks\":\"\"}},\"colorscale\":{\"diverging\":[[0,\"#8e0152\"],[0.1,\"#c51b7d\"],[0.2,\"#de77ae\"],[0.3,\"#f1b6da\"],[0.4,\"#fde0ef\"],[0.5,\"#f7f7f7\"],[0.6,\"#e6f5d0\"],[0.7,\"#b8e186\"],[0.8,\"#7fbc41\"],[0.9,\"#4d9221\"],[1,\"#276419\"]],\"sequential\":[[0.0,\"#0d0887\"],[0.1111111111111111,\"#46039f\"],[0.2222222222222222,\"#7201a8\"],[0.3333333333333333,\"#9c179e\"],[0.4444444444444444,\"#bd3786\"],[0.5555555555555556,\"#d8576b\"],[0.6666666666666666,\"#ed7953\"],[0.7777777777777778,\"#fb9f3a\"],[0.8888888888888888,\"#fdca26\"],[1.0,\"#f0f921\"]],\"sequentialminus\":[[0.0,\"#0d0887\"],[0.1111111111111111,\"#46039f\"],[0.2222222222222222,\"#7201a8\"],[0.3333333333333333,\"#9c179e\"],[0.4444444444444444,\"#bd3786\"],[0.5555555555555556,\"#d8576b\"],[0.6666666666666666,\"#ed7953\"],[0.7777777777777778,\"#fb9f3a\"],[0.8888888888888888,\"#fdca26\"],[1.0,\"#f0f921\"]]},\"colorway\":[\"#636efa\",\"#EF553B\",\"#00cc96\",\"#ab63fa\",\"#FFA15A\",\"#19d3f3\",\"#FF6692\",\"#B6E880\",\"#FF97FF\",\"#FECB52\"],\"font\":{\"color\":\"#2a3f5f\"},\"geo\":{\"bgcolor\":\"white\",\"lakecolor\":\"white\",\"landcolor\":\"#E5ECF6\",\"showlakes\":true,\"showland\":true,\"subunitcolor\":\"white\"},\"hoverlabel\":{\"align\":\"left\"},\"hovermode\":\"closest\",\"mapbox\":{\"style\":\"light\"},\"paper_bgcolor\":\"white\",\"plot_bgcolor\":\"#E5ECF6\",\"polar\":{\"angularaxis\":{\"gridcolor\":\"white\",\"linecolor\":\"white\",\"ticks\":\"\"},\"bgcolor\":\"#E5ECF6\",\"radialaxis\":{\"gridcolor\":\"white\",\"linecolor\":\"white\",\"ticks\":\"\"}},\"scene\":{\"xaxis\":{\"backgroundcolor\":\"#E5ECF6\",\"gridcolor\":\"white\",\"gridwidth\":2,\"linecolor\":\"white\",\"showbackground\":true,\"ticks\":\"\",\"zerolinecolor\":\"white\"},\"yaxis\":{\"backgroundcolor\":\"#E5ECF6\",\"gridcolor\":\"white\",\"gridwidth\":2,\"linecolor\":\"white\",\"showbackground\":true,\"ticks\":\"\",\"zerolinecolor\":\"white\"},\"zaxis\":{\"backgroundcolor\":\"#E5ECF6\",\"gridcolor\":\"white\",\"gridwidth\":2,\"linecolor\":\"white\",\"showbackground\":true,\"ticks\":\"\",\"zerolinecolor\":\"white\"}},\"shapedefaults\":{\"line\":{\"color\":\"#2a3f5f\"}},\"ternary\":{\"aaxis\":{\"gridcolor\":\"white\",\"linecolor\":\"white\",\"ticks\":\"\"},\"baxis\":{\"gridcolor\":\"white\",\"linecolor\":\"white\",\"ticks\":\"\"},\"bgcolor\":\"#E5ECF6\",\"caxis\":{\"gridcolor\":\"white\",\"linecolor\":\"white\",\"ticks\":\"\"}},\"title\":{\"x\":0.05},\"xaxis\":{\"automargin\":true,\"gridcolor\":\"white\",\"linecolor\":\"white\",\"ticks\":\"\",\"title\":{\"standoff\":15},\"zerolinecolor\":\"white\",\"zerolinewidth\":2},\"yaxis\":{\"automargin\":true,\"gridcolor\":\"white\",\"linecolor\":\"white\",\"ticks\":\"\",\"title\":{\"standoff\":15},\"zerolinecolor\":\"white\",\"zerolinewidth\":2}}},\"xaxis\":{\"anchor\":\"y\",\"domain\":[0.0,1.0],\"title\":{\"text\":\"Feature\"}},\"yaxis\":{\"anchor\":\"x\",\"domain\":[0.0,1.0],\"title\":{\"text\":\"score\"}},\"legend\":{\"tracegroupgap\":0},\"margin\":{\"t\":60},\"barmode\":\"relative\"},                        {\"responsive\": true}                    ).then(function(){\n",
              "                            \n",
              "var gd = document.getElementById('a91468ab-642c-426f-9cb1-a6e13ab29c68');\n",
              "var x = new MutationObserver(function (mutations, observer) {{\n",
              "        var display = window.getComputedStyle(gd).display;\n",
              "        if (!display || display === 'none') {{\n",
              "            console.log([gd, 'removed!']);\n",
              "            Plotly.purge(gd);\n",
              "            observer.disconnect();\n",
              "        }}\n",
              "}});\n",
              "\n",
              "// Listen for the removal of the full notebook cells\n",
              "var notebookContainer = gd.closest('#notebook-container');\n",
              "if (notebookContainer) {{\n",
              "    x.observe(notebookContainer, {childList: true});\n",
              "}}\n",
              "\n",
              "// Listen for the clearing of the current output cell\n",
              "var outputEl = gd.closest('.output');\n",
              "if (outputEl) {{\n",
              "    x.observe(outputEl, {childList: true});\n",
              "}}\n",
              "\n",
              "                        })                };                            </script>        </div>\n",
              "</body>\n",
              "</html>"
            ]
          },
          "metadata": {}
        },
        {
          "output_type": "stream",
          "name": "stdout",
          "text": [
            "----- ----- ----- ----- ----- ----- ----- ----- ----- -----  -----  ----- \n",
            "\n",
            "----- ----- ----- ----- ----- ----- ----- ----- ----- -----  -----  ----- \n",
            "\n"
          ]
        },
        {
          "output_type": "execute_result",
          "data": {
            "text/plain": [
              "          precision  recall  f1_score  accuracy     auc\n",
              "model                                                  \n",
              "LightGBM    0.50021 0.84095   0.62730   0.81259 0.82349\n",
              "XGBoost     0.50790 0.82823   0.62966   0.81728 0.82149\n",
              "CatBoost    0.50373 0.82907   0.62669   0.81476 0.82026"
            ],
            "text/html": [
              "\n",
              "  <div id=\"df-b3994871-7595-4147-a860-b5ff243acd30\">\n",
              "    <div class=\"colab-df-container\">\n",
              "      <div>\n",
              "<style scoped>\n",
              "    .dataframe tbody tr th:only-of-type {\n",
              "        vertical-align: middle;\n",
              "    }\n",
              "\n",
              "    .dataframe tbody tr th {\n",
              "        vertical-align: top;\n",
              "    }\n",
              "\n",
              "    .dataframe thead th {\n",
              "        text-align: right;\n",
              "    }\n",
              "</style>\n",
              "<table border=\"1\" class=\"dataframe\">\n",
              "  <thead>\n",
              "    <tr style=\"text-align: right;\">\n",
              "      <th></th>\n",
              "      <th>precision</th>\n",
              "      <th>recall</th>\n",
              "      <th>f1_score</th>\n",
              "      <th>accuracy</th>\n",
              "      <th>auc</th>\n",
              "    </tr>\n",
              "    <tr>\n",
              "      <th>model</th>\n",
              "      <th></th>\n",
              "      <th></th>\n",
              "      <th></th>\n",
              "      <th></th>\n",
              "      <th></th>\n",
              "    </tr>\n",
              "  </thead>\n",
              "  <tbody>\n",
              "    <tr>\n",
              "      <th>LightGBM</th>\n",
              "      <td>0.50021</td>\n",
              "      <td>0.84095</td>\n",
              "      <td>0.62730</td>\n",
              "      <td>0.81259</td>\n",
              "      <td>0.82349</td>\n",
              "    </tr>\n",
              "    <tr>\n",
              "      <th>XGBoost</th>\n",
              "      <td>0.50790</td>\n",
              "      <td>0.82823</td>\n",
              "      <td>0.62966</td>\n",
              "      <td>0.81728</td>\n",
              "      <td>0.82149</td>\n",
              "    </tr>\n",
              "    <tr>\n",
              "      <th>CatBoost</th>\n",
              "      <td>0.50373</td>\n",
              "      <td>0.82907</td>\n",
              "      <td>0.62669</td>\n",
              "      <td>0.81476</td>\n",
              "      <td>0.82026</td>\n",
              "    </tr>\n",
              "  </tbody>\n",
              "</table>\n",
              "</div>\n",
              "      <button class=\"colab-df-convert\" onclick=\"convertToInteractive('df-b3994871-7595-4147-a860-b5ff243acd30')\"\n",
              "              title=\"Convert this dataframe to an interactive table.\"\n",
              "              style=\"display:none;\">\n",
              "        \n",
              "  <svg xmlns=\"http://www.w3.org/2000/svg\" height=\"24px\"viewBox=\"0 0 24 24\"\n",
              "       width=\"24px\">\n",
              "    <path d=\"M0 0h24v24H0V0z\" fill=\"none\"/>\n",
              "    <path d=\"M18.56 5.44l.94 2.06.94-2.06 2.06-.94-2.06-.94-.94-2.06-.94 2.06-2.06.94zm-11 1L8.5 8.5l.94-2.06 2.06-.94-2.06-.94L8.5 2.5l-.94 2.06-2.06.94zm10 10l.94 2.06.94-2.06 2.06-.94-2.06-.94-.94-2.06-.94 2.06-2.06.94z\"/><path d=\"M17.41 7.96l-1.37-1.37c-.4-.4-.92-.59-1.43-.59-.52 0-1.04.2-1.43.59L10.3 9.45l-7.72 7.72c-.78.78-.78 2.05 0 2.83L4 21.41c.39.39.9.59 1.41.59.51 0 1.02-.2 1.41-.59l7.78-7.78 2.81-2.81c.8-.78.8-2.07 0-2.86zM5.41 20L4 18.59l7.72-7.72 1.47 1.35L5.41 20z\"/>\n",
              "  </svg>\n",
              "      </button>\n",
              "      \n",
              "  <style>\n",
              "    .colab-df-container {\n",
              "      display:flex;\n",
              "      flex-wrap:wrap;\n",
              "      gap: 12px;\n",
              "    }\n",
              "\n",
              "    .colab-df-convert {\n",
              "      background-color: #E8F0FE;\n",
              "      border: none;\n",
              "      border-radius: 50%;\n",
              "      cursor: pointer;\n",
              "      display: none;\n",
              "      fill: #1967D2;\n",
              "      height: 32px;\n",
              "      padding: 0 0 0 0;\n",
              "      width: 32px;\n",
              "    }\n",
              "\n",
              "    .colab-df-convert:hover {\n",
              "      background-color: #E2EBFA;\n",
              "      box-shadow: 0px 1px 2px rgba(60, 64, 67, 0.3), 0px 1px 3px 1px rgba(60, 64, 67, 0.15);\n",
              "      fill: #174EA6;\n",
              "    }\n",
              "\n",
              "    [theme=dark] .colab-df-convert {\n",
              "      background-color: #3B4455;\n",
              "      fill: #D2E3FC;\n",
              "    }\n",
              "\n",
              "    [theme=dark] .colab-df-convert:hover {\n",
              "      background-color: #434B5C;\n",
              "      box-shadow: 0px 1px 3px 1px rgba(0, 0, 0, 0.15);\n",
              "      filter: drop-shadow(0px 1px 2px rgba(0, 0, 0, 0.3));\n",
              "      fill: #FFFFFF;\n",
              "    }\n",
              "  </style>\n",
              "\n",
              "      <script>\n",
              "        const buttonEl =\n",
              "          document.querySelector('#df-b3994871-7595-4147-a860-b5ff243acd30 button.colab-df-convert');\n",
              "        buttonEl.style.display =\n",
              "          google.colab.kernel.accessAllowed ? 'block' : 'none';\n",
              "\n",
              "        async function convertToInteractive(key) {\n",
              "          const element = document.querySelector('#df-b3994871-7595-4147-a860-b5ff243acd30');\n",
              "          const dataTable =\n",
              "            await google.colab.kernel.invokeFunction('convertToInteractive',\n",
              "                                                     [key], {});\n",
              "          if (!dataTable) return;\n",
              "\n",
              "          const docLinkHtml = 'Like what you see? Visit the ' +\n",
              "            '<a target=\"_blank\" href=https://colab.research.google.com/notebooks/data_table.ipynb>data table notebook</a>'\n",
              "            + ' to learn more about interactive tables.';\n",
              "          element.innerHTML = '';\n",
              "          dataTable['output_type'] = 'display_data';\n",
              "          await google.colab.output.renderOutput(dataTable, element);\n",
              "          const docLink = document.createElement('div');\n",
              "          docLink.innerHTML = docLinkHtml;\n",
              "          element.appendChild(docLink);\n",
              "        }\n",
              "      </script>\n",
              "    </div>\n",
              "  </div>\n",
              "  "
            ]
          },
          "metadata": {},
          "execution_count": 48
        }
      ],
      "source": [
        "# Evaluate the top models\n",
        "final_model_eval = model_evaluation(fit_models = select_models, X_test = test_X, y_test = test_y)\n",
        "final_model_eval"
      ]
    },
    {
      "cell_type": "markdown",
      "source": [
        "## Predict on the Unseen Data"
      ],
      "metadata": {
        "id": "A7PzuPQCkGgl"
      }
    },
    {
      "cell_type": "code",
      "source": [
        "# Data url and token\n",
        "# test_url = \"https://api.zindi.africa/v1/competitions/customer-churn-prediction-challenge-for-azubian/files/Test.csv\"\n",
        "\n",
        "# # Download the testuation data\n",
        "# zindi_data_downloader(url = test_url, token = token, file_name = \"Test.csv\")\n",
        "\n",
        "# Loading the data\n",
        "test_df = pd.read_csv(\"Test.csv\")\n",
        "test_df.head()"
      ],
      "metadata": {
        "id": "r7Pa7KBbidKO",
        "colab": {
          "base_uri": "https://localhost:8080/",
          "height": 337
        },
        "outputId": "95c13104-d0e4-4508-806b-0acd095b275e"
      },
      "execution_count": null,
      "outputs": [
        {
          "output_type": "execute_result",
          "data": {
            "text/plain": [
              "                                    user_id       REGION         TENURE  \\\n",
              "0  51fe4c3347db1f8571d18ac03f716c41acee30a4        MATAM  I 18-21 month   \n",
              "1  5ad5d67c175bce107cc97b98c4e37dcc38aa7f3e          NaN   K > 24 month   \n",
              "2  5a4db591c953a8d8f373877fad37aaf4268899a1          NaN   K > 24 month   \n",
              "3  8bf9b4d8880aeba1c9a0da48be78f12e629be37c          NaN   K > 24 month   \n",
              "4  c7cdf2af01e9fa95bf498b68c122aa4b9a8d10df  SAINT-LOUIS   K > 24 month   \n",
              "\n",
              "     MONTANT  FREQUENCE_RECH    REVENUE  ARPU_SEGMENT  FREQUENCE  DATA_VOLUME  \\\n",
              "0 2500.00000         5.00000 2500.00000     833.00000    5.00000      0.00000   \n",
              "1        NaN             NaN        NaN           NaN        NaN          NaN   \n",
              "2        NaN             NaN        NaN           NaN        NaN      0.00000   \n",
              "3        NaN             NaN        NaN           NaN        NaN          NaN   \n",
              "4 5100.00000         7.00000 5637.00000    1879.00000   15.00000   7783.00000   \n",
              "\n",
              "    ON_NET   ORANGE    TIGO   ZONE1  ZONE2 MRG  REGULARITY  \\\n",
              "0 64.00000 70.00000     NaN     NaN    NaN  NO          35   \n",
              "1      NaN      NaN     NaN     NaN    NaN  NO           2   \n",
              "2      NaN      NaN     NaN     NaN    NaN  NO          22   \n",
              "3      NaN      NaN     NaN     NaN    NaN  NO           6   \n",
              "4 30.00000 24.00000 0.00000 0.00000    NaN  NO          60   \n",
              "\n",
              "                TOP_PACK  FREQ_TOP_PACK  \n",
              "0  All-net 500F=2000F;5d        5.00000  \n",
              "1                    NaN            NaN  \n",
              "2                    NaN            NaN  \n",
              "3                    NaN            NaN  \n",
              "4     Data:1000F=2GB,30d        4.00000  "
            ],
            "text/html": [
              "\n",
              "  <div id=\"df-7258ed9f-9e44-470a-904f-2b08556560f8\">\n",
              "    <div class=\"colab-df-container\">\n",
              "      <div>\n",
              "<style scoped>\n",
              "    .dataframe tbody tr th:only-of-type {\n",
              "        vertical-align: middle;\n",
              "    }\n",
              "\n",
              "    .dataframe tbody tr th {\n",
              "        vertical-align: top;\n",
              "    }\n",
              "\n",
              "    .dataframe thead th {\n",
              "        text-align: right;\n",
              "    }\n",
              "</style>\n",
              "<table border=\"1\" class=\"dataframe\">\n",
              "  <thead>\n",
              "    <tr style=\"text-align: right;\">\n",
              "      <th></th>\n",
              "      <th>user_id</th>\n",
              "      <th>REGION</th>\n",
              "      <th>TENURE</th>\n",
              "      <th>MONTANT</th>\n",
              "      <th>FREQUENCE_RECH</th>\n",
              "      <th>REVENUE</th>\n",
              "      <th>ARPU_SEGMENT</th>\n",
              "      <th>FREQUENCE</th>\n",
              "      <th>DATA_VOLUME</th>\n",
              "      <th>ON_NET</th>\n",
              "      <th>ORANGE</th>\n",
              "      <th>TIGO</th>\n",
              "      <th>ZONE1</th>\n",
              "      <th>ZONE2</th>\n",
              "      <th>MRG</th>\n",
              "      <th>REGULARITY</th>\n",
              "      <th>TOP_PACK</th>\n",
              "      <th>FREQ_TOP_PACK</th>\n",
              "    </tr>\n",
              "  </thead>\n",
              "  <tbody>\n",
              "    <tr>\n",
              "      <th>0</th>\n",
              "      <td>51fe4c3347db1f8571d18ac03f716c41acee30a4</td>\n",
              "      <td>MATAM</td>\n",
              "      <td>I 18-21 month</td>\n",
              "      <td>2500.00000</td>\n",
              "      <td>5.00000</td>\n",
              "      <td>2500.00000</td>\n",
              "      <td>833.00000</td>\n",
              "      <td>5.00000</td>\n",
              "      <td>0.00000</td>\n",
              "      <td>64.00000</td>\n",
              "      <td>70.00000</td>\n",
              "      <td>NaN</td>\n",
              "      <td>NaN</td>\n",
              "      <td>NaN</td>\n",
              "      <td>NO</td>\n",
              "      <td>35</td>\n",
              "      <td>All-net 500F=2000F;5d</td>\n",
              "      <td>5.00000</td>\n",
              "    </tr>\n",
              "    <tr>\n",
              "      <th>1</th>\n",
              "      <td>5ad5d67c175bce107cc97b98c4e37dcc38aa7f3e</td>\n",
              "      <td>NaN</td>\n",
              "      <td>K &gt; 24 month</td>\n",
              "      <td>NaN</td>\n",
              "      <td>NaN</td>\n",
              "      <td>NaN</td>\n",
              "      <td>NaN</td>\n",
              "      <td>NaN</td>\n",
              "      <td>NaN</td>\n",
              "      <td>NaN</td>\n",
              "      <td>NaN</td>\n",
              "      <td>NaN</td>\n",
              "      <td>NaN</td>\n",
              "      <td>NaN</td>\n",
              "      <td>NO</td>\n",
              "      <td>2</td>\n",
              "      <td>NaN</td>\n",
              "      <td>NaN</td>\n",
              "    </tr>\n",
              "    <tr>\n",
              "      <th>2</th>\n",
              "      <td>5a4db591c953a8d8f373877fad37aaf4268899a1</td>\n",
              "      <td>NaN</td>\n",
              "      <td>K &gt; 24 month</td>\n",
              "      <td>NaN</td>\n",
              "      <td>NaN</td>\n",
              "      <td>NaN</td>\n",
              "      <td>NaN</td>\n",
              "      <td>NaN</td>\n",
              "      <td>0.00000</td>\n",
              "      <td>NaN</td>\n",
              "      <td>NaN</td>\n",
              "      <td>NaN</td>\n",
              "      <td>NaN</td>\n",
              "      <td>NaN</td>\n",
              "      <td>NO</td>\n",
              "      <td>22</td>\n",
              "      <td>NaN</td>\n",
              "      <td>NaN</td>\n",
              "    </tr>\n",
              "    <tr>\n",
              "      <th>3</th>\n",
              "      <td>8bf9b4d8880aeba1c9a0da48be78f12e629be37c</td>\n",
              "      <td>NaN</td>\n",
              "      <td>K &gt; 24 month</td>\n",
              "      <td>NaN</td>\n",
              "      <td>NaN</td>\n",
              "      <td>NaN</td>\n",
              "      <td>NaN</td>\n",
              "      <td>NaN</td>\n",
              "      <td>NaN</td>\n",
              "      <td>NaN</td>\n",
              "      <td>NaN</td>\n",
              "      <td>NaN</td>\n",
              "      <td>NaN</td>\n",
              "      <td>NaN</td>\n",
              "      <td>NO</td>\n",
              "      <td>6</td>\n",
              "      <td>NaN</td>\n",
              "      <td>NaN</td>\n",
              "    </tr>\n",
              "    <tr>\n",
              "      <th>4</th>\n",
              "      <td>c7cdf2af01e9fa95bf498b68c122aa4b9a8d10df</td>\n",
              "      <td>SAINT-LOUIS</td>\n",
              "      <td>K &gt; 24 month</td>\n",
              "      <td>5100.00000</td>\n",
              "      <td>7.00000</td>\n",
              "      <td>5637.00000</td>\n",
              "      <td>1879.00000</td>\n",
              "      <td>15.00000</td>\n",
              "      <td>7783.00000</td>\n",
              "      <td>30.00000</td>\n",
              "      <td>24.00000</td>\n",
              "      <td>0.00000</td>\n",
              "      <td>0.00000</td>\n",
              "      <td>NaN</td>\n",
              "      <td>NO</td>\n",
              "      <td>60</td>\n",
              "      <td>Data:1000F=2GB,30d</td>\n",
              "      <td>4.00000</td>\n",
              "    </tr>\n",
              "  </tbody>\n",
              "</table>\n",
              "</div>\n",
              "      <button class=\"colab-df-convert\" onclick=\"convertToInteractive('df-7258ed9f-9e44-470a-904f-2b08556560f8')\"\n",
              "              title=\"Convert this dataframe to an interactive table.\"\n",
              "              style=\"display:none;\">\n",
              "        \n",
              "  <svg xmlns=\"http://www.w3.org/2000/svg\" height=\"24px\"viewBox=\"0 0 24 24\"\n",
              "       width=\"24px\">\n",
              "    <path d=\"M0 0h24v24H0V0z\" fill=\"none\"/>\n",
              "    <path d=\"M18.56 5.44l.94 2.06.94-2.06 2.06-.94-2.06-.94-.94-2.06-.94 2.06-2.06.94zm-11 1L8.5 8.5l.94-2.06 2.06-.94-2.06-.94L8.5 2.5l-.94 2.06-2.06.94zm10 10l.94 2.06.94-2.06 2.06-.94-2.06-.94-.94-2.06-.94 2.06-2.06.94z\"/><path d=\"M17.41 7.96l-1.37-1.37c-.4-.4-.92-.59-1.43-.59-.52 0-1.04.2-1.43.59L10.3 9.45l-7.72 7.72c-.78.78-.78 2.05 0 2.83L4 21.41c.39.39.9.59 1.41.59.51 0 1.02-.2 1.41-.59l7.78-7.78 2.81-2.81c.8-.78.8-2.07 0-2.86zM5.41 20L4 18.59l7.72-7.72 1.47 1.35L5.41 20z\"/>\n",
              "  </svg>\n",
              "      </button>\n",
              "      \n",
              "  <style>\n",
              "    .colab-df-container {\n",
              "      display:flex;\n",
              "      flex-wrap:wrap;\n",
              "      gap: 12px;\n",
              "    }\n",
              "\n",
              "    .colab-df-convert {\n",
              "      background-color: #E8F0FE;\n",
              "      border: none;\n",
              "      border-radius: 50%;\n",
              "      cursor: pointer;\n",
              "      display: none;\n",
              "      fill: #1967D2;\n",
              "      height: 32px;\n",
              "      padding: 0 0 0 0;\n",
              "      width: 32px;\n",
              "    }\n",
              "\n",
              "    .colab-df-convert:hover {\n",
              "      background-color: #E2EBFA;\n",
              "      box-shadow: 0px 1px 2px rgba(60, 64, 67, 0.3), 0px 1px 3px 1px rgba(60, 64, 67, 0.15);\n",
              "      fill: #174EA6;\n",
              "    }\n",
              "\n",
              "    [theme=dark] .colab-df-convert {\n",
              "      background-color: #3B4455;\n",
              "      fill: #D2E3FC;\n",
              "    }\n",
              "\n",
              "    [theme=dark] .colab-df-convert:hover {\n",
              "      background-color: #434B5C;\n",
              "      box-shadow: 0px 1px 3px 1px rgba(0, 0, 0, 0.15);\n",
              "      filter: drop-shadow(0px 1px 2px rgba(0, 0, 0, 0.3));\n",
              "      fill: #FFFFFF;\n",
              "    }\n",
              "  </style>\n",
              "\n",
              "      <script>\n",
              "        const buttonEl =\n",
              "          document.querySelector('#df-7258ed9f-9e44-470a-904f-2b08556560f8 button.colab-df-convert');\n",
              "        buttonEl.style.display =\n",
              "          google.colab.kernel.accessAllowed ? 'block' : 'none';\n",
              "\n",
              "        async function convertToInteractive(key) {\n",
              "          const element = document.querySelector('#df-7258ed9f-9e44-470a-904f-2b08556560f8');\n",
              "          const dataTable =\n",
              "            await google.colab.kernel.invokeFunction('convertToInteractive',\n",
              "                                                     [key], {});\n",
              "          if (!dataTable) return;\n",
              "\n",
              "          const docLinkHtml = 'Like what you see? Visit the ' +\n",
              "            '<a target=\"_blank\" href=https://colab.research.google.com/notebooks/data_table.ipynb>data table notebook</a>'\n",
              "            + ' to learn more about interactive tables.';\n",
              "          element.innerHTML = '';\n",
              "          dataTable['output_type'] = 'display_data';\n",
              "          await google.colab.output.renderOutput(dataTable, element);\n",
              "          const docLink = document.createElement('div');\n",
              "          docLink.innerHTML = docLinkHtml;\n",
              "          element.appendChild(docLink);\n",
              "        }\n",
              "      </script>\n",
              "    </div>\n",
              "  </div>\n",
              "  "
            ]
          },
          "metadata": {},
          "execution_count": 49
        }
      ]
    },
    {
      "cell_type": "code",
      "source": [
        "# Check the shape of the test data\n",
        "test_df.shape"
      ],
      "metadata": {
        "colab": {
          "base_uri": "https://localhost:8080/"
        },
        "id": "DZfXByg1EFxV",
        "outputId": "974c39c2-0193-4f19-adbf-c8e56777c816"
      },
      "execution_count": null,
      "outputs": [
        {
          "output_type": "execute_result",
          "data": {
            "text/plain": [
              "(190063, 18)"
            ]
          },
          "metadata": {},
          "execution_count": 50
        }
      ]
    },
    {
      "cell_type": "code",
      "source": [
        "# Cast all column names to lowercase\n",
        "test_df.columns = test_df.columns.str.lower()"
      ],
      "metadata": {
        "id": "rm4gFl1ZidCr"
      },
      "execution_count": null,
      "outputs": []
    },
    {
      "cell_type": "code",
      "source": [
        "# Fill the numeric columns with the mean values\n",
        "test_df[\"montant\"].fillna((test_df[\"montant\"].mean()), inplace=True)\n",
        "test_df[\"frequence_rech\"].fillna((test_df[\"frequence_rech\"].mean()), inplace=True)\n",
        "#test_df[\"revenue\"].fillna((test_df[\"revenue\"].mean()), inplace=True)\n",
        "test_df[\"arpu_segment\"].fillna((test_df[\"arpu_segment\"].mean()), inplace=True)\n",
        "test_df[\"frequence\"].fillna((test_df[\"frequence\"].mean()), inplace=True)\n",
        "test_df[\"data_volume\"].fillna((test_df[\"data_volume\"].mean()), inplace=True)\n",
        "# test_df[\"on_net\"].fillna((test_df[\"on_net\"].mean()), inplace=True)\n",
        "# test_df[\"orange\"].fillna((test_df[\"orange\"].mean()), inplace=True)\n",
        "# test_df[\"tigo\"].fillna((test_df[\"tigo\"].mean()), inplace=True)\n",
        "# test_df[\"zone1\"].fillna((test_df[\"zone1\"].mean()), inplace=True)\n",
        "# test_df[\"zone2\"].fillna((test_df[\"zone2\"].mean()), inplace=True)\n",
        "test_df[\"freq_top_pack\"].fillna((test_df[\"freq_top_pack\"].mean()), inplace=True)\n",
        "\n",
        "test_df.head()"
      ],
      "metadata": {
        "id": "RTxEXcoO2CxM",
        "colab": {
          "base_uri": "https://localhost:8080/",
          "height": 337
        },
        "outputId": "d5a268ee-ca80-4228-ce9a-e1cdca7a3a53"
      },
      "execution_count": null,
      "outputs": [
        {
          "output_type": "execute_result",
          "data": {
            "text/plain": [
              "                                    user_id       region         tenure  \\\n",
              "0  51fe4c3347db1f8571d18ac03f716c41acee30a4        MATAM  I 18-21 month   \n",
              "1  5ad5d67c175bce107cc97b98c4e37dcc38aa7f3e        DAKAR   K > 24 month   \n",
              "2  5a4db591c953a8d8f373877fad37aaf4268899a1        DAKAR   K > 24 month   \n",
              "3  8bf9b4d8880aeba1c9a0da48be78f12e629be37c        DAKAR   K > 24 month   \n",
              "4  c7cdf2af01e9fa95bf498b68c122aa4b9a8d10df  SAINT-LOUIS   K > 24 month   \n",
              "\n",
              "     montant  frequence_rech    revenue  arpu_segment  frequence  data_volume  \\\n",
              "0 2500.00000         5.00000 2500.00000     833.00000    5.00000      0.00000   \n",
              "1 5506.54776        11.48394 5486.23342    1828.75028   13.93967   3358.42115   \n",
              "2 5506.54776        11.48394 5486.23342    1828.75028   13.93967      0.00000   \n",
              "3 5506.54776        11.48394 5486.23342    1828.75028   13.93967   3358.42115   \n",
              "4 5100.00000         7.00000 5637.00000    1879.00000   15.00000   7783.00000   \n",
              "\n",
              "    on_net   orange    tigo   zone1  zone2 mrg  regularity  \\\n",
              "0 64.00000 70.00000     NaN     NaN    NaN  NO          35   \n",
              "1      NaN      NaN     NaN     NaN    NaN  NO           2   \n",
              "2      NaN      NaN     NaN     NaN    NaN  NO          22   \n",
              "3      NaN      NaN     NaN     NaN    NaN  NO           6   \n",
              "4 30.00000 24.00000 0.00000 0.00000    NaN  NO          60   \n",
              "\n",
              "                top_pack  freq_top_pack  \n",
              "0  All-net 500F=2000F;5d        5.00000  \n",
              "1                    NaN        9.23433  \n",
              "2                    NaN        9.23433  \n",
              "3                    NaN        9.23433  \n",
              "4     Data:1000F=2GB,30d        4.00000  "
            ],
            "text/html": [
              "\n",
              "  <div id=\"df-1523aa60-fa02-43f6-81ce-95c154071b98\">\n",
              "    <div class=\"colab-df-container\">\n",
              "      <div>\n",
              "<style scoped>\n",
              "    .dataframe tbody tr th:only-of-type {\n",
              "        vertical-align: middle;\n",
              "    }\n",
              "\n",
              "    .dataframe tbody tr th {\n",
              "        vertical-align: top;\n",
              "    }\n",
              "\n",
              "    .dataframe thead th {\n",
              "        text-align: right;\n",
              "    }\n",
              "</style>\n",
              "<table border=\"1\" class=\"dataframe\">\n",
              "  <thead>\n",
              "    <tr style=\"text-align: right;\">\n",
              "      <th></th>\n",
              "      <th>user_id</th>\n",
              "      <th>region</th>\n",
              "      <th>tenure</th>\n",
              "      <th>montant</th>\n",
              "      <th>frequence_rech</th>\n",
              "      <th>revenue</th>\n",
              "      <th>arpu_segment</th>\n",
              "      <th>frequence</th>\n",
              "      <th>data_volume</th>\n",
              "      <th>on_net</th>\n",
              "      <th>orange</th>\n",
              "      <th>tigo</th>\n",
              "      <th>zone1</th>\n",
              "      <th>zone2</th>\n",
              "      <th>mrg</th>\n",
              "      <th>regularity</th>\n",
              "      <th>top_pack</th>\n",
              "      <th>freq_top_pack</th>\n",
              "    </tr>\n",
              "  </thead>\n",
              "  <tbody>\n",
              "    <tr>\n",
              "      <th>0</th>\n",
              "      <td>51fe4c3347db1f8571d18ac03f716c41acee30a4</td>\n",
              "      <td>MATAM</td>\n",
              "      <td>I 18-21 month</td>\n",
              "      <td>2500.00000</td>\n",
              "      <td>5.00000</td>\n",
              "      <td>2500.00000</td>\n",
              "      <td>833.00000</td>\n",
              "      <td>5.00000</td>\n",
              "      <td>0.00000</td>\n",
              "      <td>64.00000</td>\n",
              "      <td>70.00000</td>\n",
              "      <td>NaN</td>\n",
              "      <td>NaN</td>\n",
              "      <td>NaN</td>\n",
              "      <td>NO</td>\n",
              "      <td>35</td>\n",
              "      <td>All-net 500F=2000F;5d</td>\n",
              "      <td>5.00000</td>\n",
              "    </tr>\n",
              "    <tr>\n",
              "      <th>1</th>\n",
              "      <td>5ad5d67c175bce107cc97b98c4e37dcc38aa7f3e</td>\n",
              "      <td>DAKAR</td>\n",
              "      <td>K &gt; 24 month</td>\n",
              "      <td>5506.54776</td>\n",
              "      <td>11.48394</td>\n",
              "      <td>5486.23342</td>\n",
              "      <td>1828.75028</td>\n",
              "      <td>13.93967</td>\n",
              "      <td>3358.42115</td>\n",
              "      <td>NaN</td>\n",
              "      <td>NaN</td>\n",
              "      <td>NaN</td>\n",
              "      <td>NaN</td>\n",
              "      <td>NaN</td>\n",
              "      <td>NO</td>\n",
              "      <td>2</td>\n",
              "      <td>NaN</td>\n",
              "      <td>9.23433</td>\n",
              "    </tr>\n",
              "    <tr>\n",
              "      <th>2</th>\n",
              "      <td>5a4db591c953a8d8f373877fad37aaf4268899a1</td>\n",
              "      <td>DAKAR</td>\n",
              "      <td>K &gt; 24 month</td>\n",
              "      <td>5506.54776</td>\n",
              "      <td>11.48394</td>\n",
              "      <td>5486.23342</td>\n",
              "      <td>1828.75028</td>\n",
              "      <td>13.93967</td>\n",
              "      <td>0.00000</td>\n",
              "      <td>NaN</td>\n",
              "      <td>NaN</td>\n",
              "      <td>NaN</td>\n",
              "      <td>NaN</td>\n",
              "      <td>NaN</td>\n",
              "      <td>NO</td>\n",
              "      <td>22</td>\n",
              "      <td>NaN</td>\n",
              "      <td>9.23433</td>\n",
              "    </tr>\n",
              "    <tr>\n",
              "      <th>3</th>\n",
              "      <td>8bf9b4d8880aeba1c9a0da48be78f12e629be37c</td>\n",
              "      <td>DAKAR</td>\n",
              "      <td>K &gt; 24 month</td>\n",
              "      <td>5506.54776</td>\n",
              "      <td>11.48394</td>\n",
              "      <td>5486.23342</td>\n",
              "      <td>1828.75028</td>\n",
              "      <td>13.93967</td>\n",
              "      <td>3358.42115</td>\n",
              "      <td>NaN</td>\n",
              "      <td>NaN</td>\n",
              "      <td>NaN</td>\n",
              "      <td>NaN</td>\n",
              "      <td>NaN</td>\n",
              "      <td>NO</td>\n",
              "      <td>6</td>\n",
              "      <td>NaN</td>\n",
              "      <td>9.23433</td>\n",
              "    </tr>\n",
              "    <tr>\n",
              "      <th>4</th>\n",
              "      <td>c7cdf2af01e9fa95bf498b68c122aa4b9a8d10df</td>\n",
              "      <td>SAINT-LOUIS</td>\n",
              "      <td>K &gt; 24 month</td>\n",
              "      <td>5100.00000</td>\n",
              "      <td>7.00000</td>\n",
              "      <td>5637.00000</td>\n",
              "      <td>1879.00000</td>\n",
              "      <td>15.00000</td>\n",
              "      <td>7783.00000</td>\n",
              "      <td>30.00000</td>\n",
              "      <td>24.00000</td>\n",
              "      <td>0.00000</td>\n",
              "      <td>0.00000</td>\n",
              "      <td>NaN</td>\n",
              "      <td>NO</td>\n",
              "      <td>60</td>\n",
              "      <td>Data:1000F=2GB,30d</td>\n",
              "      <td>4.00000</td>\n",
              "    </tr>\n",
              "  </tbody>\n",
              "</table>\n",
              "</div>\n",
              "      <button class=\"colab-df-convert\" onclick=\"convertToInteractive('df-1523aa60-fa02-43f6-81ce-95c154071b98')\"\n",
              "              title=\"Convert this dataframe to an interactive table.\"\n",
              "              style=\"display:none;\">\n",
              "        \n",
              "  <svg xmlns=\"http://www.w3.org/2000/svg\" height=\"24px\"viewBox=\"0 0 24 24\"\n",
              "       width=\"24px\">\n",
              "    <path d=\"M0 0h24v24H0V0z\" fill=\"none\"/>\n",
              "    <path d=\"M18.56 5.44l.94 2.06.94-2.06 2.06-.94-2.06-.94-.94-2.06-.94 2.06-2.06.94zm-11 1L8.5 8.5l.94-2.06 2.06-.94-2.06-.94L8.5 2.5l-.94 2.06-2.06.94zm10 10l.94 2.06.94-2.06 2.06-.94-2.06-.94-.94-2.06-.94 2.06-2.06.94z\"/><path d=\"M17.41 7.96l-1.37-1.37c-.4-.4-.92-.59-1.43-.59-.52 0-1.04.2-1.43.59L10.3 9.45l-7.72 7.72c-.78.78-.78 2.05 0 2.83L4 21.41c.39.39.9.59 1.41.59.51 0 1.02-.2 1.41-.59l7.78-7.78 2.81-2.81c.8-.78.8-2.07 0-2.86zM5.41 20L4 18.59l7.72-7.72 1.47 1.35L5.41 20z\"/>\n",
              "  </svg>\n",
              "      </button>\n",
              "      \n",
              "  <style>\n",
              "    .colab-df-container {\n",
              "      display:flex;\n",
              "      flex-wrap:wrap;\n",
              "      gap: 12px;\n",
              "    }\n",
              "\n",
              "    .colab-df-convert {\n",
              "      background-color: #E8F0FE;\n",
              "      border: none;\n",
              "      border-radius: 50%;\n",
              "      cursor: pointer;\n",
              "      display: none;\n",
              "      fill: #1967D2;\n",
              "      height: 32px;\n",
              "      padding: 0 0 0 0;\n",
              "      width: 32px;\n",
              "    }\n",
              "\n",
              "    .colab-df-convert:hover {\n",
              "      background-color: #E2EBFA;\n",
              "      box-shadow: 0px 1px 2px rgba(60, 64, 67, 0.3), 0px 1px 3px 1px rgba(60, 64, 67, 0.15);\n",
              "      fill: #174EA6;\n",
              "    }\n",
              "\n",
              "    [theme=dark] .colab-df-convert {\n",
              "      background-color: #3B4455;\n",
              "      fill: #D2E3FC;\n",
              "    }\n",
              "\n",
              "    [theme=dark] .colab-df-convert:hover {\n",
              "      background-color: #434B5C;\n",
              "      box-shadow: 0px 1px 3px 1px rgba(0, 0, 0, 0.15);\n",
              "      filter: drop-shadow(0px 1px 2px rgba(0, 0, 0, 0.3));\n",
              "      fill: #FFFFFF;\n",
              "    }\n",
              "  </style>\n",
              "\n",
              "      <script>\n",
              "        const buttonEl =\n",
              "          document.querySelector('#df-1523aa60-fa02-43f6-81ce-95c154071b98 button.colab-df-convert');\n",
              "        buttonEl.style.display =\n",
              "          google.colab.kernel.accessAllowed ? 'block' : 'none';\n",
              "\n",
              "        async function convertToInteractive(key) {\n",
              "          const element = document.querySelector('#df-1523aa60-fa02-43f6-81ce-95c154071b98');\n",
              "          const dataTable =\n",
              "            await google.colab.kernel.invokeFunction('convertToInteractive',\n",
              "                                                     [key], {});\n",
              "          if (!dataTable) return;\n",
              "\n",
              "          const docLinkHtml = 'Like what you see? Visit the ' +\n",
              "            '<a target=\"_blank\" href=https://colab.research.google.com/notebooks/data_table.ipynb>data table notebook</a>'\n",
              "            + ' to learn more about interactive tables.';\n",
              "          element.innerHTML = '';\n",
              "          dataTable['output_type'] = 'display_data';\n",
              "          await google.colab.output.renderOutput(dataTable, element);\n",
              "          const docLink = document.createElement('div');\n",
              "          docLink.innerHTML = docLinkHtml;\n",
              "          element.appendChild(docLink);\n",
              "        }\n",
              "      </script>\n",
              "    </div>\n",
              "  </div>\n",
              "  "
            ]
          },
          "metadata": {},
          "execution_count": 52
        }
      ]
    },
    {
      "cell_type": "code",
      "source": [
        "# Encode the TENURE column\n",
        "test_df[\"tenure\"] = l_encoder.transform(test_df[\"tenure\"])\n",
        "\n",
        "complete_test = test_df.copy()"
      ],
      "metadata": {
        "id": "A5MNV-t2Qhvl"
      },
      "execution_count": null,
      "outputs": []
    },
    {
      "cell_type": "code",
      "source": [
        "# Drop the useless columns\n",
        "complete_test.drop(columns = [\"user_id\", \"mrg\", \"top_pack\", \"region\", \"zone1\", \"zone2\", \"tigo\", \"orange\", \"on_net\", \"revenue\"], inplace= True)"
      ],
      "metadata": {
        "id": "85rAtJUNicXE"
      },
      "execution_count": null,
      "outputs": []
    },
    {
      "cell_type": "code",
      "source": [
        "# Create a column for the target variable\n",
        "complete_test[\"churn\"] = 0"
      ],
      "metadata": {
        "id": "gHAJGVsbnma4"
      },
      "execution_count": null,
      "outputs": []
    },
    {
      "cell_type": "code",
      "source": [
        "# Define the target and predictor variables\n",
        "test_X = complete_test.drop(columns = [\"churn\"])\n",
        "test_y = complete_test[\"churn\"]"
      ],
      "metadata": {
        "id": "l2OJxbWYicPP"
      },
      "execution_count": null,
      "outputs": []
    },
    {
      "cell_type": "code",
      "source": [
        "# Scale the numeric columns\n",
        "test_X[numerics] = scaler.transform(test_X[numerics])"
      ],
      "metadata": {
        "id": "HDwAx_x_icHc"
      },
      "execution_count": null,
      "outputs": []
    },
    {
      "cell_type": "code",
      "source": [
        "# Predict on the unseen data\n",
        "y_pred = lgb_model.predict(test_X)\n",
        "y_pred"
      ],
      "metadata": {
        "colab": {
          "base_uri": "https://localhost:8080/"
        },
        "id": "YyPo4gzQJUW5",
        "outputId": "4a0ad238-c445-459d-cb6d-c25e2017052a"
      },
      "execution_count": null,
      "outputs": [
        {
          "output_type": "execute_result",
          "data": {
            "text/plain": [
              "array([0, 1, 0, ..., 1, 0, 1])"
            ]
          },
          "metadata": {},
          "execution_count": 60
        }
      ]
    },
    {
      "cell_type": "code",
      "source": [
        "# Load the sample submission file\n",
        "# submission_url = \"https://api.zindi.africa/v1/competitions/customer-churn-prediction-challenge-for-azubian/files/SampleSubmission.csv\"\n",
        "\n",
        "# # Download the evaluation data\n",
        "# zindi_data_downloader(url = submission_url, token = token, file_name = \"SampleSubmission.csv\")\n",
        "\n",
        "# Loading the data\n",
        "sample_submission = pd.read_csv(\"SampleSubmission.csv\")\n",
        "sample_submission.head()"
      ],
      "metadata": {
        "id": "K-jpzpqI4K6_",
        "colab": {
          "base_uri": "https://localhost:8080/",
          "height": 206
        },
        "outputId": "1cef7223-c6f5-455c-fb9c-d6a968d92728"
      },
      "execution_count": null,
      "outputs": [
        {
          "output_type": "execute_result",
          "data": {
            "text/plain": [
              "                                    user_id  CHURN\n",
              "0  51fe4c3347db1f8571d18ac03f716c41acee30a4      0\n",
              "1  5ad5d67c175bce107cc97b98c4e37dcc38aa7f3e      0\n",
              "2  5a4db591c953a8d8f373877fad37aaf4268899a1      0\n",
              "3  8bf9b4d8880aeba1c9a0da48be78f12e629be37c      0\n",
              "4  c7cdf2af01e9fa95bf498b68c122aa4b9a8d10df      0"
            ],
            "text/html": [
              "\n",
              "  <div id=\"df-c9647591-84c3-48e3-9944-fec58797b3f0\">\n",
              "    <div class=\"colab-df-container\">\n",
              "      <div>\n",
              "<style scoped>\n",
              "    .dataframe tbody tr th:only-of-type {\n",
              "        vertical-align: middle;\n",
              "    }\n",
              "\n",
              "    .dataframe tbody tr th {\n",
              "        vertical-align: top;\n",
              "    }\n",
              "\n",
              "    .dataframe thead th {\n",
              "        text-align: right;\n",
              "    }\n",
              "</style>\n",
              "<table border=\"1\" class=\"dataframe\">\n",
              "  <thead>\n",
              "    <tr style=\"text-align: right;\">\n",
              "      <th></th>\n",
              "      <th>user_id</th>\n",
              "      <th>CHURN</th>\n",
              "    </tr>\n",
              "  </thead>\n",
              "  <tbody>\n",
              "    <tr>\n",
              "      <th>0</th>\n",
              "      <td>51fe4c3347db1f8571d18ac03f716c41acee30a4</td>\n",
              "      <td>0</td>\n",
              "    </tr>\n",
              "    <tr>\n",
              "      <th>1</th>\n",
              "      <td>5ad5d67c175bce107cc97b98c4e37dcc38aa7f3e</td>\n",
              "      <td>0</td>\n",
              "    </tr>\n",
              "    <tr>\n",
              "      <th>2</th>\n",
              "      <td>5a4db591c953a8d8f373877fad37aaf4268899a1</td>\n",
              "      <td>0</td>\n",
              "    </tr>\n",
              "    <tr>\n",
              "      <th>3</th>\n",
              "      <td>8bf9b4d8880aeba1c9a0da48be78f12e629be37c</td>\n",
              "      <td>0</td>\n",
              "    </tr>\n",
              "    <tr>\n",
              "      <th>4</th>\n",
              "      <td>c7cdf2af01e9fa95bf498b68c122aa4b9a8d10df</td>\n",
              "      <td>0</td>\n",
              "    </tr>\n",
              "  </tbody>\n",
              "</table>\n",
              "</div>\n",
              "      <button class=\"colab-df-convert\" onclick=\"convertToInteractive('df-c9647591-84c3-48e3-9944-fec58797b3f0')\"\n",
              "              title=\"Convert this dataframe to an interactive table.\"\n",
              "              style=\"display:none;\">\n",
              "        \n",
              "  <svg xmlns=\"http://www.w3.org/2000/svg\" height=\"24px\"viewBox=\"0 0 24 24\"\n",
              "       width=\"24px\">\n",
              "    <path d=\"M0 0h24v24H0V0z\" fill=\"none\"/>\n",
              "    <path d=\"M18.56 5.44l.94 2.06.94-2.06 2.06-.94-2.06-.94-.94-2.06-.94 2.06-2.06.94zm-11 1L8.5 8.5l.94-2.06 2.06-.94-2.06-.94L8.5 2.5l-.94 2.06-2.06.94zm10 10l.94 2.06.94-2.06 2.06-.94-2.06-.94-.94-2.06-.94 2.06-2.06.94z\"/><path d=\"M17.41 7.96l-1.37-1.37c-.4-.4-.92-.59-1.43-.59-.52 0-1.04.2-1.43.59L10.3 9.45l-7.72 7.72c-.78.78-.78 2.05 0 2.83L4 21.41c.39.39.9.59 1.41.59.51 0 1.02-.2 1.41-.59l7.78-7.78 2.81-2.81c.8-.78.8-2.07 0-2.86zM5.41 20L4 18.59l7.72-7.72 1.47 1.35L5.41 20z\"/>\n",
              "  </svg>\n",
              "      </button>\n",
              "      \n",
              "  <style>\n",
              "    .colab-df-container {\n",
              "      display:flex;\n",
              "      flex-wrap:wrap;\n",
              "      gap: 12px;\n",
              "    }\n",
              "\n",
              "    .colab-df-convert {\n",
              "      background-color: #E8F0FE;\n",
              "      border: none;\n",
              "      border-radius: 50%;\n",
              "      cursor: pointer;\n",
              "      display: none;\n",
              "      fill: #1967D2;\n",
              "      height: 32px;\n",
              "      padding: 0 0 0 0;\n",
              "      width: 32px;\n",
              "    }\n",
              "\n",
              "    .colab-df-convert:hover {\n",
              "      background-color: #E2EBFA;\n",
              "      box-shadow: 0px 1px 2px rgba(60, 64, 67, 0.3), 0px 1px 3px 1px rgba(60, 64, 67, 0.15);\n",
              "      fill: #174EA6;\n",
              "    }\n",
              "\n",
              "    [theme=dark] .colab-df-convert {\n",
              "      background-color: #3B4455;\n",
              "      fill: #D2E3FC;\n",
              "    }\n",
              "\n",
              "    [theme=dark] .colab-df-convert:hover {\n",
              "      background-color: #434B5C;\n",
              "      box-shadow: 0px 1px 3px 1px rgba(0, 0, 0, 0.15);\n",
              "      filter: drop-shadow(0px 1px 2px rgba(0, 0, 0, 0.3));\n",
              "      fill: #FFFFFF;\n",
              "    }\n",
              "  </style>\n",
              "\n",
              "      <script>\n",
              "        const buttonEl =\n",
              "          document.querySelector('#df-c9647591-84c3-48e3-9944-fec58797b3f0 button.colab-df-convert');\n",
              "        buttonEl.style.display =\n",
              "          google.colab.kernel.accessAllowed ? 'block' : 'none';\n",
              "\n",
              "        async function convertToInteractive(key) {\n",
              "          const element = document.querySelector('#df-c9647591-84c3-48e3-9944-fec58797b3f0');\n",
              "          const dataTable =\n",
              "            await google.colab.kernel.invokeFunction('convertToInteractive',\n",
              "                                                     [key], {});\n",
              "          if (!dataTable) return;\n",
              "\n",
              "          const docLinkHtml = 'Like what you see? Visit the ' +\n",
              "            '<a target=\"_blank\" href=https://colab.research.google.com/notebooks/data_table.ipynb>data table notebook</a>'\n",
              "            + ' to learn more about interactive tables.';\n",
              "          element.innerHTML = '';\n",
              "          dataTable['output_type'] = 'display_data';\n",
              "          await google.colab.output.renderOutput(dataTable, element);\n",
              "          const docLink = document.createElement('div');\n",
              "          docLink.innerHTML = docLinkHtml;\n",
              "          element.appendChild(docLink);\n",
              "        }\n",
              "      </script>\n",
              "    </div>\n",
              "  </div>\n",
              "  "
            ]
          },
          "metadata": {},
          "execution_count": 61
        }
      ]
    },
    {
      "cell_type": "code",
      "source": [
        "# Check the shape of the submission data\n",
        "sample_submission.shape"
      ],
      "metadata": {
        "colab": {
          "base_uri": "https://localhost:8080/"
        },
        "id": "ol_QFq7MJ8M_",
        "outputId": "e285ac61-1c75-495b-90b2-12cd7169df83"
      },
      "execution_count": null,
      "outputs": [
        {
          "output_type": "execute_result",
          "data": {
            "text/plain": [
              "(190063, 2)"
            ]
          },
          "metadata": {},
          "execution_count": 62
        }
      ]
    },
    {
      "cell_type": "code",
      "source": [
        "# Create the sample_submission\n",
        "sample_submission[\"CHURN\"] = y_pred\n",
        "sample_submission.head()"
      ],
      "metadata": {
        "id": "2kA-jKhnwQu8",
        "colab": {
          "base_uri": "https://localhost:8080/",
          "height": 206
        },
        "outputId": "23b118bd-28fb-4137-b1cd-7bf59e6e1a23"
      },
      "execution_count": null,
      "outputs": [
        {
          "output_type": "execute_result",
          "data": {
            "text/plain": [
              "                                    user_id  CHURN\n",
              "0  51fe4c3347db1f8571d18ac03f716c41acee30a4      0\n",
              "1  5ad5d67c175bce107cc97b98c4e37dcc38aa7f3e      1\n",
              "2  5a4db591c953a8d8f373877fad37aaf4268899a1      0\n",
              "3  8bf9b4d8880aeba1c9a0da48be78f12e629be37c      1\n",
              "4  c7cdf2af01e9fa95bf498b68c122aa4b9a8d10df      0"
            ],
            "text/html": [
              "\n",
              "  <div id=\"df-5f6b3845-4453-4e1b-8136-e93e7884e269\">\n",
              "    <div class=\"colab-df-container\">\n",
              "      <div>\n",
              "<style scoped>\n",
              "    .dataframe tbody tr th:only-of-type {\n",
              "        vertical-align: middle;\n",
              "    }\n",
              "\n",
              "    .dataframe tbody tr th {\n",
              "        vertical-align: top;\n",
              "    }\n",
              "\n",
              "    .dataframe thead th {\n",
              "        text-align: right;\n",
              "    }\n",
              "</style>\n",
              "<table border=\"1\" class=\"dataframe\">\n",
              "  <thead>\n",
              "    <tr style=\"text-align: right;\">\n",
              "      <th></th>\n",
              "      <th>user_id</th>\n",
              "      <th>CHURN</th>\n",
              "    </tr>\n",
              "  </thead>\n",
              "  <tbody>\n",
              "    <tr>\n",
              "      <th>0</th>\n",
              "      <td>51fe4c3347db1f8571d18ac03f716c41acee30a4</td>\n",
              "      <td>0</td>\n",
              "    </tr>\n",
              "    <tr>\n",
              "      <th>1</th>\n",
              "      <td>5ad5d67c175bce107cc97b98c4e37dcc38aa7f3e</td>\n",
              "      <td>1</td>\n",
              "    </tr>\n",
              "    <tr>\n",
              "      <th>2</th>\n",
              "      <td>5a4db591c953a8d8f373877fad37aaf4268899a1</td>\n",
              "      <td>0</td>\n",
              "    </tr>\n",
              "    <tr>\n",
              "      <th>3</th>\n",
              "      <td>8bf9b4d8880aeba1c9a0da48be78f12e629be37c</td>\n",
              "      <td>1</td>\n",
              "    </tr>\n",
              "    <tr>\n",
              "      <th>4</th>\n",
              "      <td>c7cdf2af01e9fa95bf498b68c122aa4b9a8d10df</td>\n",
              "      <td>0</td>\n",
              "    </tr>\n",
              "  </tbody>\n",
              "</table>\n",
              "</div>\n",
              "      <button class=\"colab-df-convert\" onclick=\"convertToInteractive('df-5f6b3845-4453-4e1b-8136-e93e7884e269')\"\n",
              "              title=\"Convert this dataframe to an interactive table.\"\n",
              "              style=\"display:none;\">\n",
              "        \n",
              "  <svg xmlns=\"http://www.w3.org/2000/svg\" height=\"24px\"viewBox=\"0 0 24 24\"\n",
              "       width=\"24px\">\n",
              "    <path d=\"M0 0h24v24H0V0z\" fill=\"none\"/>\n",
              "    <path d=\"M18.56 5.44l.94 2.06.94-2.06 2.06-.94-2.06-.94-.94-2.06-.94 2.06-2.06.94zm-11 1L8.5 8.5l.94-2.06 2.06-.94-2.06-.94L8.5 2.5l-.94 2.06-2.06.94zm10 10l.94 2.06.94-2.06 2.06-.94-2.06-.94-.94-2.06-.94 2.06-2.06.94z\"/><path d=\"M17.41 7.96l-1.37-1.37c-.4-.4-.92-.59-1.43-.59-.52 0-1.04.2-1.43.59L10.3 9.45l-7.72 7.72c-.78.78-.78 2.05 0 2.83L4 21.41c.39.39.9.59 1.41.59.51 0 1.02-.2 1.41-.59l7.78-7.78 2.81-2.81c.8-.78.8-2.07 0-2.86zM5.41 20L4 18.59l7.72-7.72 1.47 1.35L5.41 20z\"/>\n",
              "  </svg>\n",
              "      </button>\n",
              "      \n",
              "  <style>\n",
              "    .colab-df-container {\n",
              "      display:flex;\n",
              "      flex-wrap:wrap;\n",
              "      gap: 12px;\n",
              "    }\n",
              "\n",
              "    .colab-df-convert {\n",
              "      background-color: #E8F0FE;\n",
              "      border: none;\n",
              "      border-radius: 50%;\n",
              "      cursor: pointer;\n",
              "      display: none;\n",
              "      fill: #1967D2;\n",
              "      height: 32px;\n",
              "      padding: 0 0 0 0;\n",
              "      width: 32px;\n",
              "    }\n",
              "\n",
              "    .colab-df-convert:hover {\n",
              "      background-color: #E2EBFA;\n",
              "      box-shadow: 0px 1px 2px rgba(60, 64, 67, 0.3), 0px 1px 3px 1px rgba(60, 64, 67, 0.15);\n",
              "      fill: #174EA6;\n",
              "    }\n",
              "\n",
              "    [theme=dark] .colab-df-convert {\n",
              "      background-color: #3B4455;\n",
              "      fill: #D2E3FC;\n",
              "    }\n",
              "\n",
              "    [theme=dark] .colab-df-convert:hover {\n",
              "      background-color: #434B5C;\n",
              "      box-shadow: 0px 1px 3px 1px rgba(0, 0, 0, 0.15);\n",
              "      filter: drop-shadow(0px 1px 2px rgba(0, 0, 0, 0.3));\n",
              "      fill: #FFFFFF;\n",
              "    }\n",
              "  </style>\n",
              "\n",
              "      <script>\n",
              "        const buttonEl =\n",
              "          document.querySelector('#df-5f6b3845-4453-4e1b-8136-e93e7884e269 button.colab-df-convert');\n",
              "        buttonEl.style.display =\n",
              "          google.colab.kernel.accessAllowed ? 'block' : 'none';\n",
              "\n",
              "        async function convertToInteractive(key) {\n",
              "          const element = document.querySelector('#df-5f6b3845-4453-4e1b-8136-e93e7884e269');\n",
              "          const dataTable =\n",
              "            await google.colab.kernel.invokeFunction('convertToInteractive',\n",
              "                                                     [key], {});\n",
              "          if (!dataTable) return;\n",
              "\n",
              "          const docLinkHtml = 'Like what you see? Visit the ' +\n",
              "            '<a target=\"_blank\" href=https://colab.research.google.com/notebooks/data_table.ipynb>data table notebook</a>'\n",
              "            + ' to learn more about interactive tables.';\n",
              "          element.innerHTML = '';\n",
              "          dataTable['output_type'] = 'display_data';\n",
              "          await google.colab.output.renderOutput(dataTable, element);\n",
              "          const docLink = document.createElement('div');\n",
              "          docLink.innerHTML = docLinkHtml;\n",
              "          element.appendChild(docLink);\n",
              "        }\n",
              "      </script>\n",
              "    </div>\n",
              "  </div>\n",
              "  "
            ]
          },
          "metadata": {},
          "execution_count": 63
        }
      ]
    },
    {
      "cell_type": "code",
      "source": [
        "# Export the sample submission\n",
        "sample_submission.to_csv(\"Submission_8.csv\", index= False)"
      ],
      "metadata": {
        "id": "BEj_noDywRUZ"
      },
      "execution_count": null,
      "outputs": []
    },
    {
      "cell_type": "markdown",
      "metadata": {
        "id": "qR8xzkroBT9L"
      },
      "source": [
        "## 10 Exporting"
      ]
    },
    {
      "cell_type": "code",
      "execution_count": null,
      "metadata": {
        "id": "cOJ0GmdrBT9L"
      },
      "outputs": [],
      "source": [
        "# Export the requirements\n",
        "requirements = \"\\n\".join(f\"{m.__name__}=={m.__version__}\" for m in globals().values() if getattr(m, \"__version__\", None))\n",
        "\n",
        "with open(\"requirements.txt\", \"w\") as f:\n",
        "    f.write(requirements)"
      ]
    },
    {
      "cell_type": "code",
      "execution_count": null,
      "metadata": {
        "id": "x_wjihFoBT9M"
      },
      "outputs": [],
      "source": [
        "# Create a dictionary of objects to export\n",
        "exports = {\"encoder\": l_encoder,\n",
        "           \"scaler\": scaler,\n",
        "           \"model\": lgb_model}\n",
        "\n",
        "# Export the dictionary with Pickle\n",
        "with open(\"App_toolkit\", \"wb\") as file:\n",
        "    pickle.dump(exports, file)"
      ]
    }
  ],
  "metadata": {
    "colab": {
      "provenance": []
    },
    "kernelspec": {
      "display_name": "Python 3 (ipykernel)",
      "language": "python",
      "name": "python3"
    },
    "language_info": {
      "codemirror_mode": {
        "name": "ipython",
        "version": 3
      },
      "file_extension": ".py",
      "mimetype": "text/x-python",
      "name": "python",
      "nbconvert_exporter": "python",
      "pygments_lexer": "ipython3",
      "version": "3.9.16"
    },
    "toc": {
      "base_numbering": 1,
      "nav_menu": {
        "height": "78px",
        "width": "187px"
      },
      "number_sections": false,
      "sideBar": true,
      "skip_h1_title": false,
      "title_cell": "Table of Contents",
      "title_sidebar": "Contents",
      "toc_cell": false,
      "toc_position": {
        "height": "541.6px",
        "left": "278px",
        "top": "110.325px",
        "width": "239.819px"
      },
      "toc_section_display": true,
      "toc_window_display": true
    },
    "vscode": {
      "interpreter": {
        "hash": "1a4ce4bc5f820c6c47c7565419227e532b3448deb4a621e77e51010fbe64b648"
      }
    },
    "widgets": {
      "application/vnd.jupyter.widget-state+json": {
        "0060cc0a2d5447189cb2d06c530a60ba": {
          "model_module": "@jupyter-widgets/controls",
          "model_name": "HBoxModel",
          "model_module_version": "1.5.0",
          "state": {
            "_dom_classes": [],
            "_model_module": "@jupyter-widgets/controls",
            "_model_module_version": "1.5.0",
            "_model_name": "HBoxModel",
            "_view_count": null,
            "_view_module": "@jupyter-widgets/controls",
            "_view_module_version": "1.5.0",
            "_view_name": "HBoxView",
            "box_style": "",
            "children": [
              "IPY_MODEL_247ec6738cbc408cb59d28036941e516",
              "IPY_MODEL_1f3f4cde789d49f492e8ca508075f53f",
              "IPY_MODEL_1bb958c211ec479db5556eb21e420ccd"
            ],
            "layout": "IPY_MODEL_dd68dcfabc0443739addb02ad1b5ecc0"
          }
        },
        "247ec6738cbc408cb59d28036941e516": {
          "model_module": "@jupyter-widgets/controls",
          "model_name": "HTMLModel",
          "model_module_version": "1.5.0",
          "state": {
            "_dom_classes": [],
            "_model_module": "@jupyter-widgets/controls",
            "_model_module_version": "1.5.0",
            "_model_name": "HTMLModel",
            "_view_count": null,
            "_view_module": "@jupyter-widgets/controls",
            "_view_module_version": "1.5.0",
            "_view_name": "HTMLView",
            "description": "",
            "description_tooltip": null,
            "layout": "IPY_MODEL_116b88bbb2d8498691d1ee1fd146a6a1",
            "placeholder": "​",
            "style": "IPY_MODEL_0cfd0ce21f42405894e546d840974c41",
            "value": "Train.csv: 100%"
          }
        },
        "1f3f4cde789d49f492e8ca508075f53f": {
          "model_module": "@jupyter-widgets/controls",
          "model_name": "FloatProgressModel",
          "model_module_version": "1.5.0",
          "state": {
            "_dom_classes": [],
            "_model_module": "@jupyter-widgets/controls",
            "_model_module_version": "1.5.0",
            "_model_name": "FloatProgressModel",
            "_view_count": null,
            "_view_module": "@jupyter-widgets/controls",
            "_view_module_version": "1.5.0",
            "_view_name": "ProgressView",
            "bar_style": "success",
            "description": "",
            "description_tooltip": null,
            "layout": "IPY_MODEL_824eb93572a74caf85f3d70e575ece2e",
            "max": 129548498,
            "min": 0,
            "orientation": "horizontal",
            "style": "IPY_MODEL_5de4d3699aa44f69a7a83df4f7924d1e",
            "value": 129548498
          }
        },
        "1bb958c211ec479db5556eb21e420ccd": {
          "model_module": "@jupyter-widgets/controls",
          "model_name": "HTMLModel",
          "model_module_version": "1.5.0",
          "state": {
            "_dom_classes": [],
            "_model_module": "@jupyter-widgets/controls",
            "_model_module_version": "1.5.0",
            "_model_name": "HTMLModel",
            "_view_count": null,
            "_view_module": "@jupyter-widgets/controls",
            "_view_module_version": "1.5.0",
            "_view_name": "HTMLView",
            "description": "",
            "description_tooltip": null,
            "layout": "IPY_MODEL_95d1546b2f314ee1b8399298548e8e90",
            "placeholder": "​",
            "style": "IPY_MODEL_f78de84a9dcb4c4c99303afa3bc456d8",
            "value": " 494M/494M [00:06&lt;00:00, 25.6MB/s]"
          }
        },
        "dd68dcfabc0443739addb02ad1b5ecc0": {
          "model_module": "@jupyter-widgets/base",
          "model_name": "LayoutModel",
          "model_module_version": "1.2.0",
          "state": {
            "_model_module": "@jupyter-widgets/base",
            "_model_module_version": "1.2.0",
            "_model_name": "LayoutModel",
            "_view_count": null,
            "_view_module": "@jupyter-widgets/base",
            "_view_module_version": "1.2.0",
            "_view_name": "LayoutView",
            "align_content": null,
            "align_items": null,
            "align_self": null,
            "border": null,
            "bottom": null,
            "display": null,
            "flex": null,
            "flex_flow": null,
            "grid_area": null,
            "grid_auto_columns": null,
            "grid_auto_flow": null,
            "grid_auto_rows": null,
            "grid_column": null,
            "grid_gap": null,
            "grid_row": null,
            "grid_template_areas": null,
            "grid_template_columns": null,
            "grid_template_rows": null,
            "height": null,
            "justify_content": null,
            "justify_items": null,
            "left": null,
            "margin": null,
            "max_height": null,
            "max_width": null,
            "min_height": null,
            "min_width": null,
            "object_fit": null,
            "object_position": null,
            "order": null,
            "overflow": null,
            "overflow_x": null,
            "overflow_y": null,
            "padding": null,
            "right": null,
            "top": null,
            "visibility": null,
            "width": null
          }
        },
        "116b88bbb2d8498691d1ee1fd146a6a1": {
          "model_module": "@jupyter-widgets/base",
          "model_name": "LayoutModel",
          "model_module_version": "1.2.0",
          "state": {
            "_model_module": "@jupyter-widgets/base",
            "_model_module_version": "1.2.0",
            "_model_name": "LayoutModel",
            "_view_count": null,
            "_view_module": "@jupyter-widgets/base",
            "_view_module_version": "1.2.0",
            "_view_name": "LayoutView",
            "align_content": null,
            "align_items": null,
            "align_self": null,
            "border": null,
            "bottom": null,
            "display": null,
            "flex": null,
            "flex_flow": null,
            "grid_area": null,
            "grid_auto_columns": null,
            "grid_auto_flow": null,
            "grid_auto_rows": null,
            "grid_column": null,
            "grid_gap": null,
            "grid_row": null,
            "grid_template_areas": null,
            "grid_template_columns": null,
            "grid_template_rows": null,
            "height": null,
            "justify_content": null,
            "justify_items": null,
            "left": null,
            "margin": null,
            "max_height": null,
            "max_width": null,
            "min_height": null,
            "min_width": null,
            "object_fit": null,
            "object_position": null,
            "order": null,
            "overflow": null,
            "overflow_x": null,
            "overflow_y": null,
            "padding": null,
            "right": null,
            "top": null,
            "visibility": null,
            "width": null
          }
        },
        "0cfd0ce21f42405894e546d840974c41": {
          "model_module": "@jupyter-widgets/controls",
          "model_name": "DescriptionStyleModel",
          "model_module_version": "1.5.0",
          "state": {
            "_model_module": "@jupyter-widgets/controls",
            "_model_module_version": "1.5.0",
            "_model_name": "DescriptionStyleModel",
            "_view_count": null,
            "_view_module": "@jupyter-widgets/base",
            "_view_module_version": "1.2.0",
            "_view_name": "StyleView",
            "description_width": ""
          }
        },
        "824eb93572a74caf85f3d70e575ece2e": {
          "model_module": "@jupyter-widgets/base",
          "model_name": "LayoutModel",
          "model_module_version": "1.2.0",
          "state": {
            "_model_module": "@jupyter-widgets/base",
            "_model_module_version": "1.2.0",
            "_model_name": "LayoutModel",
            "_view_count": null,
            "_view_module": "@jupyter-widgets/base",
            "_view_module_version": "1.2.0",
            "_view_name": "LayoutView",
            "align_content": null,
            "align_items": null,
            "align_self": null,
            "border": null,
            "bottom": null,
            "display": null,
            "flex": null,
            "flex_flow": null,
            "grid_area": null,
            "grid_auto_columns": null,
            "grid_auto_flow": null,
            "grid_auto_rows": null,
            "grid_column": null,
            "grid_gap": null,
            "grid_row": null,
            "grid_template_areas": null,
            "grid_template_columns": null,
            "grid_template_rows": null,
            "height": null,
            "justify_content": null,
            "justify_items": null,
            "left": null,
            "margin": null,
            "max_height": null,
            "max_width": null,
            "min_height": null,
            "min_width": null,
            "object_fit": null,
            "object_position": null,
            "order": null,
            "overflow": null,
            "overflow_x": null,
            "overflow_y": null,
            "padding": null,
            "right": null,
            "top": null,
            "visibility": null,
            "width": null
          }
        },
        "5de4d3699aa44f69a7a83df4f7924d1e": {
          "model_module": "@jupyter-widgets/controls",
          "model_name": "ProgressStyleModel",
          "model_module_version": "1.5.0",
          "state": {
            "_model_module": "@jupyter-widgets/controls",
            "_model_module_version": "1.5.0",
            "_model_name": "ProgressStyleModel",
            "_view_count": null,
            "_view_module": "@jupyter-widgets/base",
            "_view_module_version": "1.2.0",
            "_view_name": "StyleView",
            "bar_color": null,
            "description_width": ""
          }
        },
        "95d1546b2f314ee1b8399298548e8e90": {
          "model_module": "@jupyter-widgets/base",
          "model_name": "LayoutModel",
          "model_module_version": "1.2.0",
          "state": {
            "_model_module": "@jupyter-widgets/base",
            "_model_module_version": "1.2.0",
            "_model_name": "LayoutModel",
            "_view_count": null,
            "_view_module": "@jupyter-widgets/base",
            "_view_module_version": "1.2.0",
            "_view_name": "LayoutView",
            "align_content": null,
            "align_items": null,
            "align_self": null,
            "border": null,
            "bottom": null,
            "display": null,
            "flex": null,
            "flex_flow": null,
            "grid_area": null,
            "grid_auto_columns": null,
            "grid_auto_flow": null,
            "grid_auto_rows": null,
            "grid_column": null,
            "grid_gap": null,
            "grid_row": null,
            "grid_template_areas": null,
            "grid_template_columns": null,
            "grid_template_rows": null,
            "height": null,
            "justify_content": null,
            "justify_items": null,
            "left": null,
            "margin": null,
            "max_height": null,
            "max_width": null,
            "min_height": null,
            "min_width": null,
            "object_fit": null,
            "object_position": null,
            "order": null,
            "overflow": null,
            "overflow_x": null,
            "overflow_y": null,
            "padding": null,
            "right": null,
            "top": null,
            "visibility": null,
            "width": null
          }
        },
        "f78de84a9dcb4c4c99303afa3bc456d8": {
          "model_module": "@jupyter-widgets/controls",
          "model_name": "DescriptionStyleModel",
          "model_module_version": "1.5.0",
          "state": {
            "_model_module": "@jupyter-widgets/controls",
            "_model_module_version": "1.5.0",
            "_model_name": "DescriptionStyleModel",
            "_view_count": null,
            "_view_module": "@jupyter-widgets/base",
            "_view_module_version": "1.2.0",
            "_view_name": "StyleView",
            "description_width": ""
          }
        }
      }
    }
  },
  "nbformat": 4,
  "nbformat_minor": 0
}